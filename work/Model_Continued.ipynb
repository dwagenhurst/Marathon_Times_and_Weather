{
 "cells": [
  {
   "cell_type": "code",
   "execution_count": 1,
   "id": "d034e311-7a5c-4b15-9072-df3ec44644a8",
   "metadata": {
    "tags": []
   },
   "outputs": [],
   "source": [
    "# imports\n",
    "import os\n",
    "import numpy as np\n",
    "import pandas as pd\n",
    "import seaborn as sns\n",
    "import matplotlib.pyplot as plt\n",
    "from sklearn.linear_model import LinearRegression\n",
    "from sklearn.metrics import mean_absolute_error, mean_squared_error\n",
    "import itertools"
   ]
  },
  {
   "cell_type": "markdown",
   "id": "47a18256-84fd-4e46-a9d2-9b1287e04af9",
   "metadata": {
    "jp-MarkdownHeadingCollapsed": true,
    "tags": []
   },
   "source": [
    "## Functions"
   ]
  },
  {
   "cell_type": "code",
   "execution_count": 2,
   "id": "d574fb64-ab13-422b-8f43-76b5b8754048",
   "metadata": {},
   "outputs": [],
   "source": [
    "# functions\n",
    "def num_age(x):\n",
    "    '''make age categories numeric'''\n",
    "    if x == '18-39':\n",
    "        return 0\n",
    "    elif x == '40-44':\n",
    "        return 1\n",
    "    elif x == '45-49':\n",
    "        return 2\n",
    "    elif x == '50-54':\n",
    "        return 3\n",
    "    elif x == '55-59':\n",
    "        return 4\n",
    "    elif x == '60-64':\n",
    "        return 5\n",
    "    elif x == '65-69':\n",
    "        return 6\n",
    "    return 7\n",
    "\n",
    "\n",
    "def cat_clean(x):\n",
    "    '''binary columns were floats, make them ints'''\n",
    "    return int(x)\n",
    "\n",
    "\n",
    "def prep(df):\n",
    "    '''prepare dataframe for EDA'''\n",
    "    df['age'] = df['age'].apply(lambda x: num_age(x))\n",
    "    df['clear'] = df['clear'].apply(lambda x: cat_clean(x))\n",
    "    df['overcast'] = df['overcast'].apply(lambda x: cat_clean(x))\n",
    "    df['partially_cloudy'] = df['partially_cloudy'].apply(lambda x: cat_clean(x))\n",
    "    df['rain'] = df['rain'].apply(lambda x: cat_clean(x))\n",
    "\n",
    "    cols = ['year', 'age', 'male', 'time_seconds', 'minimum_temperature',\n",
    "           'maximum_temperature', 'temperature', 'relative_humidity', 'wind_speed',\n",
    "           'precipitation', 'precipitation_cover', 'cloud_cover', 'clear',\n",
    "           'overcast', 'partially_cloudy', 'rain']\n",
    "\n",
    "    for col in cols:\n",
    "        df[col] = pd.to_numeric(df[col], downcast='unsigned')\n",
    "\n",
    "    df.drop(columns=['maximum_temperature', 'minimum_temperature'], inplace=True)\n",
    "\n",
    "    event_dict = {year: df[df['year'] == year] for year in df['year'].unique()}\n",
    "    \n",
    "    return event_dict\n",
    "\n",
    "\n",
    "def usable(event_dict, num):\n",
    "    '''specify which years are usable based on minimum number of participants\n",
    "    returns dict with years that exceed minimum values are correspoding df'''\n",
    "    can_use = []\n",
    "    for year in event_dict.keys():\n",
    "        if len(event_dict[year]) > num:\n",
    "            can_use.append(year)\n",
    "    return {year: event_dict[year] for year in can_use}\n",
    "\n",
    "\n",
    "def top_n(event_dict, num):\n",
    "    '''take in event dict and first num of finishers that are desired,\n",
    "    return df of top n racers for all years, use in conjuction with usable()'''\n",
    "    df = pd.DataFrame()\n",
    "    for year in event_dict.keys():\n",
    "        df = pd.concat([df, event_dict[year].sort_values(by='time_seconds').iloc[:num]], ignore_index=True)\n",
    "    return df\n",
    "        \n",
    "    \n",
    "def n_range(event_dict, low, high):\n",
    "    '''take in dictionary of dfs from prep(), upper percentage as float, lower percentage as float\n",
    "    return df'''\n",
    "    df = pd.DataFrame()\n",
    "    for year in event_dict.keys():\n",
    "        df = pd.concat([df, event_dict[year].sort_values(by='time_seconds').iloc[int(len(event_dict[year]) * low): int(len(event_dict[year]) * high)]], ignore_index=True)\n",
    "    return df\n",
    "\n",
    "def model_scores(X_test, y_test, model):\n",
    "    nl = \"\\n\"\n",
    "    y_preds = model.predict(X_test)\n",
    "    return print(f'R2: {model.score(X_test, y_test)}{nl}MAE: {mean_absolute_error(y_test, y_preds)}{nl}MSE: {mean_squared_error(y_test, y_preds)}{nl}RMSE: {mean_squared_error(y_test, y_preds, squared=False)}')"
   ]
  },
  {
   "cell_type": "markdown",
   "id": "de8045c0-ae88-47c8-b1bc-25bc3cfe0db0",
   "metadata": {
    "tags": []
   },
   "source": [
    "## Starting Point From Initial_Linear_Modeling"
   ]
  },
  {
   "cell_type": "code",
   "execution_count": 3,
   "id": "0f0ec5d9-0369-4d3b-95ff-0d5b0f4f9254",
   "metadata": {},
   "outputs": [],
   "source": [
    "london = pd.read_csv('./data/London_Data/Clean/Clean_London_Results_Weather.csv')\n",
    "nyc = pd.read_csv('./data/NYC_Data/Clean/Clean_NYC_Results_Weather.csv')\n",
    "boston = pd.read_csv('./data/Boston_Data/Clean/Clean_Boston_Results_Weather.csv')\n",
    "berlin = pd.read_csv('./data/Berlin_Data/Clean/Clean_Berlin_Results_Weather.csv')\n",
    "chicago = pd.read_csv('./data/Chicago_Data/Clean/Clean_Chicago_Results_Weather.csv')\n",
    "\n",
    "london_dict = prep(london)\n",
    "nyc_dict = prep(nyc)\n",
    "boston_dict = prep(boston)\n",
    "berlin_dict = prep(berlin)\n",
    "chicago_dict = prep(chicago)\n",
    "\n",
    "london = n_range(usable(london_dict, 9_900), 0, 1)\n",
    "nyc = n_range(usable(nyc_dict, 9_900), 0, 1)\n",
    "boston = n_range(usable(boston_dict, 9_900), 0, 1)\n",
    "berlin = n_range(usable(berlin_dict, 9_900), 0, 1)\n",
    "chicago = n_range(usable(chicago_dict, 9_900), 0, 1)\n",
    "\n",
    "aggregate = {col: 'mean' for col in london.drop(columns=['year'])}\n",
    "\n",
    "london = london.groupby(['year', 'age', 'male']).agg(aggregate)\n",
    "nyc = nyc.groupby(['year', 'age', 'male']).agg(aggregate)\n",
    "boston = boston.groupby(['year', 'age', 'male']).agg(aggregate)\n",
    "berlin = berlin.groupby(['year', 'age', 'male']).agg(aggregate)\n",
    "chicago = chicago.groupby(['year', 'age', 'male']).agg(aggregate)\n",
    "\n",
    "events = [boston, berlin, chicago, london, nyc]\n",
    "count = 0\n",
    "for event in events:\n",
    "    event['event'] = count\n",
    "    count += 1\n",
    "    \n",
    "combined = pd.concat(events)"
   ]
  },
  {
   "cell_type": "code",
   "execution_count": 4,
   "id": "201e406c-3c92-4a1f-b013-48f618479875",
   "metadata": {},
   "outputs": [
    {
     "name": "stdout",
     "output_type": "stream",
     "text": [
      "R2: 0.8784395204389115\n",
      "MAE: 414.91953232851773\n",
      "MSE: 294385.3600606244\n",
      "RMSE: 542.5729075991765\n"
     ]
    }
   ],
   "source": [
    "train = london[london.index.isin(range(2000,2016), level=0)]\n",
    "test = london[london.index.isin([2016, 2018], level=0)]\n",
    "\n",
    "X_train = train.drop(columns = ['time_seconds', 'clear'])\n",
    "X_test = test.drop(columns = ['time_seconds', 'clear'])\n",
    "\n",
    "y_train = train['time_seconds']\n",
    "y_test = test['time_seconds']\n",
    "\n",
    "lr = LinearRegression()\n",
    "lr.fit(X_train, y_train)\n",
    "model_scores(X_test, y_test, lr)"
   ]
  },
  {
   "cell_type": "code",
   "execution_count": 5,
   "id": "494a3f42-deb8-48eb-be61-08a945ae9154",
   "metadata": {},
   "outputs": [
    {
     "data": {
      "text/html": [
       "<div>\n",
       "<style scoped>\n",
       "    .dataframe tbody tr th:only-of-type {\n",
       "        vertical-align: middle;\n",
       "    }\n",
       "\n",
       "    .dataframe tbody tr th {\n",
       "        vertical-align: top;\n",
       "    }\n",
       "\n",
       "    .dataframe thead th {\n",
       "        text-align: right;\n",
       "    }\n",
       "</style>\n",
       "<table border=\"1\" class=\"dataframe\">\n",
       "  <thead>\n",
       "    <tr style=\"text-align: right;\">\n",
       "      <th></th>\n",
       "      <th>0</th>\n",
       "      <th>1</th>\n",
       "    </tr>\n",
       "  </thead>\n",
       "  <tbody>\n",
       "    <tr>\n",
       "      <th>0</th>\n",
       "      <td>age</td>\n",
       "      <td>4.550172e+02</td>\n",
       "    </tr>\n",
       "    <tr>\n",
       "      <th>1</th>\n",
       "      <td>male</td>\n",
       "      <td>-1.920404e+03</td>\n",
       "    </tr>\n",
       "    <tr>\n",
       "      <th>2</th>\n",
       "      <td>temperature</td>\n",
       "      <td>4.028425e+01</td>\n",
       "    </tr>\n",
       "    <tr>\n",
       "      <th>3</th>\n",
       "      <td>relative_humidity</td>\n",
       "      <td>-7.705318e+00</td>\n",
       "    </tr>\n",
       "    <tr>\n",
       "      <th>4</th>\n",
       "      <td>wind_speed</td>\n",
       "      <td>3.201593e+01</td>\n",
       "    </tr>\n",
       "    <tr>\n",
       "      <th>5</th>\n",
       "      <td>precipitation</td>\n",
       "      <td>2.123470e+03</td>\n",
       "    </tr>\n",
       "    <tr>\n",
       "      <th>6</th>\n",
       "      <td>precipitation_cover</td>\n",
       "      <td>9.382286e+00</td>\n",
       "    </tr>\n",
       "    <tr>\n",
       "      <th>7</th>\n",
       "      <td>cloud_cover</td>\n",
       "      <td>-9.958525e+00</td>\n",
       "    </tr>\n",
       "    <tr>\n",
       "      <th>8</th>\n",
       "      <td>overcast</td>\n",
       "      <td>9.094947e-13</td>\n",
       "    </tr>\n",
       "    <tr>\n",
       "      <th>9</th>\n",
       "      <td>partially_cloudy</td>\n",
       "      <td>5.928450e+02</td>\n",
       "    </tr>\n",
       "    <tr>\n",
       "      <th>10</th>\n",
       "      <td>rain</td>\n",
       "      <td>-4.328165e+02</td>\n",
       "    </tr>\n",
       "    <tr>\n",
       "      <th>11</th>\n",
       "      <td>event</td>\n",
       "      <td>0.000000e+00</td>\n",
       "    </tr>\n",
       "  </tbody>\n",
       "</table>\n",
       "</div>"
      ],
      "text/plain": [
       "                      0             1\n",
       "0                   age  4.550172e+02\n",
       "1                  male -1.920404e+03\n",
       "2           temperature  4.028425e+01\n",
       "3     relative_humidity -7.705318e+00\n",
       "4            wind_speed  3.201593e+01\n",
       "5         precipitation  2.123470e+03\n",
       "6   precipitation_cover  9.382286e+00\n",
       "7           cloud_cover -9.958525e+00\n",
       "8              overcast  9.094947e-13\n",
       "9      partially_cloudy  5.928450e+02\n",
       "10                 rain -4.328165e+02\n",
       "11                event  0.000000e+00"
      ]
     },
     "execution_count": 5,
     "metadata": {},
     "output_type": "execute_result"
    }
   ],
   "source": [
    "pd.DataFrame(list(zip(X_test.columns,lr.coef_)))"
   ]
  },
  {
   "cell_type": "code",
   "execution_count": 6,
   "id": "14048e0e-ebfe-4404-890b-108f118a022d",
   "metadata": {},
   "outputs": [
    {
     "name": "stdout",
     "output_type": "stream",
     "text": [
      "R2: 0.8805622266691774\n",
      "MAE: 568.78638943414\n",
      "MSE: 469570.8602143672\n",
      "RMSE: 685.2524062083746\n"
     ]
    }
   ],
   "source": [
    "train = nyc[nyc.index.isin(range(2000,2016), level=0)]\n",
    "test = nyc[nyc.index.isin([2016, 2018], level=0)]\n",
    "\n",
    "X_train = train.drop(columns = ['time_seconds', 'clear'])\n",
    "X_test = test.drop(columns = ['time_seconds', 'clear'])\n",
    "\n",
    "y_train = train['time_seconds']\n",
    "y_test = test['time_seconds']\n",
    "\n",
    "lr = LinearRegression()\n",
    "lr.fit(X_train, y_train)\n",
    "model_scores(X_test, y_test, lr)"
   ]
  },
  {
   "cell_type": "code",
   "execution_count": 7,
   "id": "cbf349a0-50e0-4486-91c2-b0ce6d13bf2c",
   "metadata": {},
   "outputs": [
    {
     "data": {
      "text/html": [
       "<div>\n",
       "<style scoped>\n",
       "    .dataframe tbody tr th:only-of-type {\n",
       "        vertical-align: middle;\n",
       "    }\n",
       "\n",
       "    .dataframe tbody tr th {\n",
       "        vertical-align: top;\n",
       "    }\n",
       "\n",
       "    .dataframe thead th {\n",
       "        text-align: right;\n",
       "    }\n",
       "</style>\n",
       "<table border=\"1\" class=\"dataframe\">\n",
       "  <thead>\n",
       "    <tr style=\"text-align: right;\">\n",
       "      <th></th>\n",
       "      <th>0</th>\n",
       "      <th>1</th>\n",
       "    </tr>\n",
       "  </thead>\n",
       "  <tbody>\n",
       "    <tr>\n",
       "      <th>0</th>\n",
       "      <td>age</td>\n",
       "      <td>7.590829e+02</td>\n",
       "    </tr>\n",
       "    <tr>\n",
       "      <th>1</th>\n",
       "      <td>male</td>\n",
       "      <td>-1.914746e+03</td>\n",
       "    </tr>\n",
       "    <tr>\n",
       "      <th>2</th>\n",
       "      <td>temperature</td>\n",
       "      <td>3.552777e+01</td>\n",
       "    </tr>\n",
       "    <tr>\n",
       "      <th>3</th>\n",
       "      <td>relative_humidity</td>\n",
       "      <td>-4.356455e+00</td>\n",
       "    </tr>\n",
       "    <tr>\n",
       "      <th>4</th>\n",
       "      <td>wind_speed</td>\n",
       "      <td>4.787671e+00</td>\n",
       "    </tr>\n",
       "    <tr>\n",
       "      <th>5</th>\n",
       "      <td>precipitation</td>\n",
       "      <td>-9.379164e-12</td>\n",
       "    </tr>\n",
       "    <tr>\n",
       "      <th>6</th>\n",
       "      <td>precipitation_cover</td>\n",
       "      <td>-2.046363e-12</td>\n",
       "    </tr>\n",
       "    <tr>\n",
       "      <th>7</th>\n",
       "      <td>cloud_cover</td>\n",
       "      <td>1.448621e+01</td>\n",
       "    </tr>\n",
       "    <tr>\n",
       "      <th>8</th>\n",
       "      <td>overcast</td>\n",
       "      <td>-9.249209e+02</td>\n",
       "    </tr>\n",
       "    <tr>\n",
       "      <th>9</th>\n",
       "      <td>partially_cloudy</td>\n",
       "      <td>-5.971917e+02</td>\n",
       "    </tr>\n",
       "    <tr>\n",
       "      <th>10</th>\n",
       "      <td>rain</td>\n",
       "      <td>0.000000e+00</td>\n",
       "    </tr>\n",
       "    <tr>\n",
       "      <th>11</th>\n",
       "      <td>event</td>\n",
       "      <td>0.000000e+00</td>\n",
       "    </tr>\n",
       "  </tbody>\n",
       "</table>\n",
       "</div>"
      ],
      "text/plain": [
       "                      0             1\n",
       "0                   age  7.590829e+02\n",
       "1                  male -1.914746e+03\n",
       "2           temperature  3.552777e+01\n",
       "3     relative_humidity -4.356455e+00\n",
       "4            wind_speed  4.787671e+00\n",
       "5         precipitation -9.379164e-12\n",
       "6   precipitation_cover -2.046363e-12\n",
       "7           cloud_cover  1.448621e+01\n",
       "8              overcast -9.249209e+02\n",
       "9      partially_cloudy -5.971917e+02\n",
       "10                 rain  0.000000e+00\n",
       "11                event  0.000000e+00"
      ]
     },
     "execution_count": 7,
     "metadata": {},
     "output_type": "execute_result"
    }
   ],
   "source": [
    "pd.DataFrame(list(zip(X_test.columns,lr.coef_)))"
   ]
  },
  {
   "cell_type": "code",
   "execution_count": 8,
   "id": "b12067ed-a6d0-4157-be5f-733127489c8b",
   "metadata": {},
   "outputs": [
    {
     "name": "stdout",
     "output_type": "stream",
     "text": [
      "R2: 0.8318848553406181\n",
      "MAE: 713.6786734180324\n",
      "MSE: 646553.5428095255\n",
      "RMSE: 804.0855320235065\n"
     ]
    }
   ],
   "source": [
    "train = boston[boston.index.isin(range(2000,2016), level=0)]\n",
    "test = boston[boston.index.isin([2016, 2018], level=0)]\n",
    "\n",
    "X_train = train.drop(columns = ['time_seconds', 'clear', 'overcast', 'partially_cloudy'])\n",
    "X_test = test.drop(columns = ['time_seconds', 'clear', 'overcast', 'partially_cloudy'])\n",
    "\n",
    "y_train = train['time_seconds']\n",
    "y_test = test['time_seconds']\n",
    "\n",
    "lr = LinearRegression()\n",
    "lr.fit(X_train, y_train)\n",
    "model_scores(X_test, y_test, lr)"
   ]
  },
  {
   "cell_type": "code",
   "execution_count": 9,
   "id": "af148d6a-f492-4804-83a9-ea5337751522",
   "metadata": {},
   "outputs": [
    {
     "data": {
      "text/html": [
       "<div>\n",
       "<style scoped>\n",
       "    .dataframe tbody tr th:only-of-type {\n",
       "        vertical-align: middle;\n",
       "    }\n",
       "\n",
       "    .dataframe tbody tr th {\n",
       "        vertical-align: top;\n",
       "    }\n",
       "\n",
       "    .dataframe thead th {\n",
       "        text-align: right;\n",
       "    }\n",
       "</style>\n",
       "<table border=\"1\" class=\"dataframe\">\n",
       "  <thead>\n",
       "    <tr style=\"text-align: right;\">\n",
       "      <th></th>\n",
       "      <th>0</th>\n",
       "      <th>1</th>\n",
       "    </tr>\n",
       "  </thead>\n",
       "  <tbody>\n",
       "    <tr>\n",
       "      <th>0</th>\n",
       "      <td>age</td>\n",
       "      <td>594.126246</td>\n",
       "    </tr>\n",
       "    <tr>\n",
       "      <th>1</th>\n",
       "      <td>male</td>\n",
       "      <td>-1432.820716</td>\n",
       "    </tr>\n",
       "    <tr>\n",
       "      <th>2</th>\n",
       "      <td>temperature</td>\n",
       "      <td>85.969153</td>\n",
       "    </tr>\n",
       "    <tr>\n",
       "      <th>3</th>\n",
       "      <td>relative_humidity</td>\n",
       "      <td>10.363134</td>\n",
       "    </tr>\n",
       "    <tr>\n",
       "      <th>4</th>\n",
       "      <td>wind_speed</td>\n",
       "      <td>2.563545</td>\n",
       "    </tr>\n",
       "    <tr>\n",
       "      <th>5</th>\n",
       "      <td>precipitation</td>\n",
       "      <td>1788.779558</td>\n",
       "    </tr>\n",
       "    <tr>\n",
       "      <th>6</th>\n",
       "      <td>precipitation_cover</td>\n",
       "      <td>0.429013</td>\n",
       "    </tr>\n",
       "    <tr>\n",
       "      <th>7</th>\n",
       "      <td>cloud_cover</td>\n",
       "      <td>-14.969670</td>\n",
       "    </tr>\n",
       "    <tr>\n",
       "      <th>8</th>\n",
       "      <td>rain</td>\n",
       "      <td>132.715657</td>\n",
       "    </tr>\n",
       "    <tr>\n",
       "      <th>9</th>\n",
       "      <td>event</td>\n",
       "      <td>0.000000</td>\n",
       "    </tr>\n",
       "  </tbody>\n",
       "</table>\n",
       "</div>"
      ],
      "text/plain": [
       "                     0            1\n",
       "0                  age   594.126246\n",
       "1                 male -1432.820716\n",
       "2          temperature    85.969153\n",
       "3    relative_humidity    10.363134\n",
       "4           wind_speed     2.563545\n",
       "5        precipitation  1788.779558\n",
       "6  precipitation_cover     0.429013\n",
       "7          cloud_cover   -14.969670\n",
       "8                 rain   132.715657\n",
       "9                event     0.000000"
      ]
     },
     "execution_count": 9,
     "metadata": {},
     "output_type": "execute_result"
    }
   ],
   "source": [
    "pd.DataFrame(list(zip(X_test.columns,lr.coef_)))"
   ]
  },
  {
   "cell_type": "code",
   "execution_count": 10,
   "id": "4546c711-f162-46f9-98f4-34db0f7e8955",
   "metadata": {},
   "outputs": [
    {
     "name": "stdout",
     "output_type": "stream",
     "text": [
      "R2: 0.874236818411501\n",
      "MAE: 431.09406468844344\n",
      "MSE: 320012.1270363163\n",
      "RMSE: 565.6961437347053\n"
     ]
    }
   ],
   "source": [
    "train = berlin[berlin.index.isin(range(2000,2016), level=0)]\n",
    "test = berlin[berlin.index.isin([2016, 2018], level=0)]\n",
    "\n",
    "X_train = train.drop(columns = ['time_seconds', 'clear'])\n",
    "X_test = test.drop(columns = ['time_seconds', 'clear'])\n",
    "\n",
    "y_train = train['time_seconds']\n",
    "y_test = test['time_seconds']\n",
    "\n",
    "lr = LinearRegression()\n",
    "lr.fit(X_train, y_train)\n",
    "model_scores(X_test, y_test, lr)"
   ]
  },
  {
   "cell_type": "code",
   "execution_count": 11,
   "id": "40f1266f-9b2d-413d-b40a-11e890070153",
   "metadata": {},
   "outputs": [
    {
     "data": {
      "text/html": [
       "<div>\n",
       "<style scoped>\n",
       "    .dataframe tbody tr th:only-of-type {\n",
       "        vertical-align: middle;\n",
       "    }\n",
       "\n",
       "    .dataframe tbody tr th {\n",
       "        vertical-align: top;\n",
       "    }\n",
       "\n",
       "    .dataframe thead th {\n",
       "        text-align: right;\n",
       "    }\n",
       "</style>\n",
       "<table border=\"1\" class=\"dataframe\">\n",
       "  <thead>\n",
       "    <tr style=\"text-align: right;\">\n",
       "      <th></th>\n",
       "      <th>0</th>\n",
       "      <th>1</th>\n",
       "    </tr>\n",
       "  </thead>\n",
       "  <tbody>\n",
       "    <tr>\n",
       "      <th>0</th>\n",
       "      <td>age</td>\n",
       "      <td>4.880671e+02</td>\n",
       "    </tr>\n",
       "    <tr>\n",
       "      <th>1</th>\n",
       "      <td>male</td>\n",
       "      <td>-1.480039e+03</td>\n",
       "    </tr>\n",
       "    <tr>\n",
       "      <th>2</th>\n",
       "      <td>temperature</td>\n",
       "      <td>2.405520e+01</td>\n",
       "    </tr>\n",
       "    <tr>\n",
       "      <th>3</th>\n",
       "      <td>relative_humidity</td>\n",
       "      <td>-6.568969e+00</td>\n",
       "    </tr>\n",
       "    <tr>\n",
       "      <th>4</th>\n",
       "      <td>wind_speed</td>\n",
       "      <td>7.426664e+00</td>\n",
       "    </tr>\n",
       "    <tr>\n",
       "      <th>5</th>\n",
       "      <td>precipitation</td>\n",
       "      <td>4.547474e-13</td>\n",
       "    </tr>\n",
       "    <tr>\n",
       "      <th>6</th>\n",
       "      <td>precipitation_cover</td>\n",
       "      <td>-1.477929e-12</td>\n",
       "    </tr>\n",
       "    <tr>\n",
       "      <th>7</th>\n",
       "      <td>cloud_cover</td>\n",
       "      <td>-5.133045e+00</td>\n",
       "    </tr>\n",
       "    <tr>\n",
       "      <th>8</th>\n",
       "      <td>overcast</td>\n",
       "      <td>5.252323e+02</td>\n",
       "    </tr>\n",
       "    <tr>\n",
       "      <th>9</th>\n",
       "      <td>partially_cloudy</td>\n",
       "      <td>4.146611e+01</td>\n",
       "    </tr>\n",
       "    <tr>\n",
       "      <th>10</th>\n",
       "      <td>rain</td>\n",
       "      <td>0.000000e+00</td>\n",
       "    </tr>\n",
       "    <tr>\n",
       "      <th>11</th>\n",
       "      <td>event</td>\n",
       "      <td>0.000000e+00</td>\n",
       "    </tr>\n",
       "  </tbody>\n",
       "</table>\n",
       "</div>"
      ],
      "text/plain": [
       "                      0             1\n",
       "0                   age  4.880671e+02\n",
       "1                  male -1.480039e+03\n",
       "2           temperature  2.405520e+01\n",
       "3     relative_humidity -6.568969e+00\n",
       "4            wind_speed  7.426664e+00\n",
       "5         precipitation  4.547474e-13\n",
       "6   precipitation_cover -1.477929e-12\n",
       "7           cloud_cover -5.133045e+00\n",
       "8              overcast  5.252323e+02\n",
       "9      partially_cloudy  4.146611e+01\n",
       "10                 rain  0.000000e+00\n",
       "11                event  0.000000e+00"
      ]
     },
     "execution_count": 11,
     "metadata": {},
     "output_type": "execute_result"
    }
   ],
   "source": [
    "pd.DataFrame(list(zip(X_test.columns,lr.coef_)))"
   ]
  },
  {
   "cell_type": "code",
   "execution_count": 12,
   "id": "55697383-d55f-46ef-bf69-5089863ea239",
   "metadata": {},
   "outputs": [
    {
     "name": "stdout",
     "output_type": "stream",
     "text": [
      "R2: 0.7817110765678504\n",
      "MAE: 530.3884576679438\n",
      "MSE: 513930.6920879206\n",
      "RMSE: 716.8895954663595\n"
     ]
    }
   ],
   "source": [
    "train = chicago[chicago.index.isin(range(2000,2016), level=0)]\n",
    "test = chicago[chicago.index.isin([2016, 2018], level=0)]\n",
    "\n",
    "X_train = train.drop(columns = ['time_seconds', 'clear'])\n",
    "X_test = test.drop(columns = ['time_seconds', 'clear'])\n",
    "\n",
    "y_train = train['time_seconds']\n",
    "y_test = test['time_seconds']\n",
    "\n",
    "lr = LinearRegression()\n",
    "lr.fit(X_train, y_train)\n",
    "model_scores(X_test, y_test, lr)"
   ]
  },
  {
   "cell_type": "code",
   "execution_count": 13,
   "id": "9845c890-d273-484a-9820-bbf3a59e170f",
   "metadata": {},
   "outputs": [
    {
     "data": {
      "text/html": [
       "<div>\n",
       "<style scoped>\n",
       "    .dataframe tbody tr th:only-of-type {\n",
       "        vertical-align: middle;\n",
       "    }\n",
       "\n",
       "    .dataframe tbody tr th {\n",
       "        vertical-align: top;\n",
       "    }\n",
       "\n",
       "    .dataframe thead th {\n",
       "        text-align: right;\n",
       "    }\n",
       "</style>\n",
       "<table border=\"1\" class=\"dataframe\">\n",
       "  <thead>\n",
       "    <tr style=\"text-align: right;\">\n",
       "      <th></th>\n",
       "      <th>0</th>\n",
       "      <th>1</th>\n",
       "    </tr>\n",
       "  </thead>\n",
       "  <tbody>\n",
       "    <tr>\n",
       "      <th>0</th>\n",
       "      <td>age</td>\n",
       "      <td>462.649627</td>\n",
       "    </tr>\n",
       "    <tr>\n",
       "      <th>1</th>\n",
       "      <td>male</td>\n",
       "      <td>-1488.849172</td>\n",
       "    </tr>\n",
       "    <tr>\n",
       "      <th>2</th>\n",
       "      <td>temperature</td>\n",
       "      <td>44.951399</td>\n",
       "    </tr>\n",
       "    <tr>\n",
       "      <th>3</th>\n",
       "      <td>relative_humidity</td>\n",
       "      <td>-8.328303</td>\n",
       "    </tr>\n",
       "    <tr>\n",
       "      <th>4</th>\n",
       "      <td>wind_speed</td>\n",
       "      <td>-0.426446</td>\n",
       "    </tr>\n",
       "    <tr>\n",
       "      <th>5</th>\n",
       "      <td>precipitation</td>\n",
       "      <td>-0.034352</td>\n",
       "    </tr>\n",
       "    <tr>\n",
       "      <th>6</th>\n",
       "      <td>precipitation_cover</td>\n",
       "      <td>-34.352144</td>\n",
       "    </tr>\n",
       "    <tr>\n",
       "      <th>7</th>\n",
       "      <td>cloud_cover</td>\n",
       "      <td>11.779944</td>\n",
       "    </tr>\n",
       "    <tr>\n",
       "      <th>8</th>\n",
       "      <td>overcast</td>\n",
       "      <td>270.846286</td>\n",
       "    </tr>\n",
       "    <tr>\n",
       "      <th>9</th>\n",
       "      <td>partially_cloudy</td>\n",
       "      <td>-109.762611</td>\n",
       "    </tr>\n",
       "    <tr>\n",
       "      <th>10</th>\n",
       "      <td>rain</td>\n",
       "      <td>-3.435214</td>\n",
       "    </tr>\n",
       "    <tr>\n",
       "      <th>11</th>\n",
       "      <td>event</td>\n",
       "      <td>0.000000</td>\n",
       "    </tr>\n",
       "  </tbody>\n",
       "</table>\n",
       "</div>"
      ],
      "text/plain": [
       "                      0            1\n",
       "0                   age   462.649627\n",
       "1                  male -1488.849172\n",
       "2           temperature    44.951399\n",
       "3     relative_humidity    -8.328303\n",
       "4            wind_speed    -0.426446\n",
       "5         precipitation    -0.034352\n",
       "6   precipitation_cover   -34.352144\n",
       "7           cloud_cover    11.779944\n",
       "8              overcast   270.846286\n",
       "9      partially_cloudy  -109.762611\n",
       "10                 rain    -3.435214\n",
       "11                event     0.000000"
      ]
     },
     "execution_count": 13,
     "metadata": {},
     "output_type": "execute_result"
    }
   ],
   "source": [
    "pd.DataFrame(list(zip(X_test.columns,lr.coef_)))"
   ]
  },
  {
   "cell_type": "code",
   "execution_count": 14,
   "id": "ba6503a5-c8ce-4a12-878c-3f5f9e6759de",
   "metadata": {},
   "outputs": [
    {
     "name": "stdout",
     "output_type": "stream",
     "text": [
      "R2: 0.7456148185774321\n",
      "MAE: 667.9324620249184\n",
      "MSE: 920772.7357014156\n",
      "RMSE: 959.5690364436608\n"
     ]
    }
   ],
   "source": [
    "train = combined[combined.index.isin(range(2000,2016), level=0)]\n",
    "test = combined[combined.index.isin([2016, 2018], level=0)]\n",
    "\n",
    "X_train = train.drop(columns = ['time_seconds', 'clear'])\n",
    "X_test = test.drop(columns = ['time_seconds', 'clear'])\n",
    "\n",
    "y_train = train['time_seconds']\n",
    "y_test = test['time_seconds']\n",
    "\n",
    "lr = LinearRegression()\n",
    "lr.fit(X_train, y_train)\n",
    "model_scores(X_test, y_test, lr)"
   ]
  },
  {
   "cell_type": "code",
   "execution_count": 15,
   "id": "f59749f5-2514-4bea-90d5-4eca7458ffe2",
   "metadata": {},
   "outputs": [
    {
     "data": {
      "text/html": [
       "<div>\n",
       "<style scoped>\n",
       "    .dataframe tbody tr th:only-of-type {\n",
       "        vertical-align: middle;\n",
       "    }\n",
       "\n",
       "    .dataframe tbody tr th {\n",
       "        vertical-align: top;\n",
       "    }\n",
       "\n",
       "    .dataframe thead th {\n",
       "        text-align: right;\n",
       "    }\n",
       "</style>\n",
       "<table border=\"1\" class=\"dataframe\">\n",
       "  <thead>\n",
       "    <tr style=\"text-align: right;\">\n",
       "      <th></th>\n",
       "      <th>0</th>\n",
       "      <th>1</th>\n",
       "    </tr>\n",
       "  </thead>\n",
       "  <tbody>\n",
       "    <tr>\n",
       "      <th>0</th>\n",
       "      <td>age</td>\n",
       "      <td>551.416580</td>\n",
       "    </tr>\n",
       "    <tr>\n",
       "      <th>1</th>\n",
       "      <td>male</td>\n",
       "      <td>-1644.454915</td>\n",
       "    </tr>\n",
       "    <tr>\n",
       "      <th>2</th>\n",
       "      <td>temperature</td>\n",
       "      <td>50.824448</td>\n",
       "    </tr>\n",
       "    <tr>\n",
       "      <th>3</th>\n",
       "      <td>relative_humidity</td>\n",
       "      <td>-7.418479</td>\n",
       "    </tr>\n",
       "    <tr>\n",
       "      <th>4</th>\n",
       "      <td>wind_speed</td>\n",
       "      <td>13.258700</td>\n",
       "    </tr>\n",
       "    <tr>\n",
       "      <th>5</th>\n",
       "      <td>precipitation</td>\n",
       "      <td>-736.759393</td>\n",
       "    </tr>\n",
       "    <tr>\n",
       "      <th>6</th>\n",
       "      <td>precipitation_cover</td>\n",
       "      <td>-1.408614</td>\n",
       "    </tr>\n",
       "    <tr>\n",
       "      <th>7</th>\n",
       "      <td>cloud_cover</td>\n",
       "      <td>2.164248</td>\n",
       "    </tr>\n",
       "    <tr>\n",
       "      <th>8</th>\n",
       "      <td>overcast</td>\n",
       "      <td>64.828307</td>\n",
       "    </tr>\n",
       "    <tr>\n",
       "      <th>9</th>\n",
       "      <td>partially_cloudy</td>\n",
       "      <td>89.848002</td>\n",
       "    </tr>\n",
       "    <tr>\n",
       "      <th>10</th>\n",
       "      <td>rain</td>\n",
       "      <td>276.372973</td>\n",
       "    </tr>\n",
       "    <tr>\n",
       "      <th>11</th>\n",
       "      <td>event</td>\n",
       "      <td>652.630955</td>\n",
       "    </tr>\n",
       "  </tbody>\n",
       "</table>\n",
       "</div>"
      ],
      "text/plain": [
       "                      0            1\n",
       "0                   age   551.416580\n",
       "1                  male -1644.454915\n",
       "2           temperature    50.824448\n",
       "3     relative_humidity    -7.418479\n",
       "4            wind_speed    13.258700\n",
       "5         precipitation  -736.759393\n",
       "6   precipitation_cover    -1.408614\n",
       "7           cloud_cover     2.164248\n",
       "8              overcast    64.828307\n",
       "9      partially_cloudy    89.848002\n",
       "10                 rain   276.372973\n",
       "11                event   652.630955"
      ]
     },
     "execution_count": 15,
     "metadata": {},
     "output_type": "execute_result"
    }
   ],
   "source": [
    "pd.DataFrame(list(zip(X_test.columns,lr.coef_)))"
   ]
  },
  {
   "cell_type": "markdown",
   "id": "f5e3792d-33c5-4ce1-8391-1aeb91e5b1c6",
   "metadata": {
    "tags": []
   },
   "source": [
    "## Linear Modeling Continuation"
   ]
  },
  {
   "cell_type": "code",
   "execution_count": 16,
   "id": "7b600382-8122-4e52-8d78-8692417e9afa",
   "metadata": {},
   "outputs": [],
   "source": [
    "cols = ['temperature', 'relative_humidity',\n",
    "       'wind_speed', 'precipitation', 'precipitation_cover', 'cloud_cover',\n",
    "       'clear', 'overcast', 'partially_cloudy', 'rain', 'event']\n",
    "yr = 2016"
   ]
  },
  {
   "cell_type": "code",
   "execution_count": 17,
   "id": "4c81ae3b-c63c-4ab4-8eb3-24d75055fd0e",
   "metadata": {},
   "outputs": [],
   "source": [
    "london_train = london[london.index.isin(range(yr), level=0)]\n",
    "london_test = london[london.index.isin(range(yr, 2019), level=0)]\n",
    "\n",
    "results = {}\n",
    "best_london = {}\n",
    "\n",
    "for i in range(len(cols)):\n",
    "    for combo in itertools.combinations(cols, i):\n",
    "        drop_cols = list(combo)\n",
    "        drop_cols.append('time_seconds')\n",
    "\n",
    "        X_train = london_train.drop(columns=drop_cols)\n",
    "        y_train = london_train['time_seconds']\n",
    "\n",
    "        X_test = london_test.drop(columns=drop_cols)\n",
    "        y_test = london_test['time_seconds']\n",
    "\n",
    "        lr = LinearRegression()\n",
    "        lr.fit(X_train, y_train)\n",
    "\n",
    "        preds = lr.predict(X_test)\n",
    "        results[mean_squared_error(y_test, preds, squared=False)] = drop_cols\n",
    "\n",
    "    best_london[min(results.keys())] = results[min(results.keys())]"
   ]
  },
  {
   "cell_type": "code",
   "execution_count": 18,
   "id": "21309266-aa02-4c6c-baaa-0fcdff84540a",
   "metadata": {},
   "outputs": [
    {
     "data": {
      "text/plain": [
       "576.6643491631934"
      ]
     },
     "execution_count": 18,
     "metadata": {},
     "output_type": "execute_result"
    }
   ],
   "source": [
    "min(best_london.keys())"
   ]
  },
  {
   "cell_type": "code",
   "execution_count": 19,
   "id": "1b3bbc3c-e713-4908-aea0-c69ce3553d03",
   "metadata": {},
   "outputs": [
    {
     "data": {
      "text/plain": [
       "['relative_humidity',\n",
       " 'wind_speed',\n",
       " 'precipitation',\n",
       " 'precipitation_cover',\n",
       " 'clear',\n",
       " 'rain',\n",
       " 'time_seconds']"
      ]
     },
     "execution_count": 19,
     "metadata": {},
     "output_type": "execute_result"
    }
   ],
   "source": [
    "best_london[min(best_london.keys())]"
   ]
  },
  {
   "cell_type": "code",
   "execution_count": 20,
   "id": "7239cd51-f98a-4550-8a72-e16ba1e9bdda",
   "metadata": {},
   "outputs": [],
   "source": [
    "chicago_train = chicago[chicago.index.isin(range(yr), level=0)]\n",
    "chicago_test = chicago[chicago.index.isin(range(yr, 2019), level=0)]\n",
    "\n",
    "\n",
    "results = {}\n",
    "best_chicago = {}\n",
    "\n",
    "for i in range(len(cols)):\n",
    "    for combo in itertools.combinations(cols, i):\n",
    "        drop_cols = list(combo)\n",
    "        drop_cols.append('time_seconds')\n",
    "\n",
    "        X_train = chicago_train.drop(columns=drop_cols)\n",
    "        y_train = chicago_train['time_seconds']\n",
    "\n",
    "        X_test = chicago_test.drop(columns=drop_cols)\n",
    "        y_test = chicago_test['time_seconds']\n",
    "\n",
    "        lr = LinearRegression()\n",
    "        lr.fit(X_train, y_train)\n",
    "\n",
    "        preds = lr.predict(X_test)\n",
    "        results[mean_squared_error(y_test, preds, squared=False)] = drop_cols\n",
    "\n",
    "    best_chicago[min(results.keys())] = results[min(results.keys())]"
   ]
  },
  {
   "cell_type": "code",
   "execution_count": 21,
   "id": "23601ccb-5adb-44f1-958d-ee59b5ed503b",
   "metadata": {},
   "outputs": [
    {
     "data": {
      "text/plain": [
       "604.3384698278334"
      ]
     },
     "execution_count": 21,
     "metadata": {},
     "output_type": "execute_result"
    }
   ],
   "source": [
    "min(best_chicago.keys())"
   ]
  },
  {
   "cell_type": "code",
   "execution_count": 22,
   "id": "3908ca61-2a68-44af-a64c-83da6679f78c",
   "metadata": {},
   "outputs": [
    {
     "data": {
      "text/plain": [
       "['relative_humidity',\n",
       " 'precipitation_cover',\n",
       " 'overcast',\n",
       " 'partially_cloudy',\n",
       " 'rain',\n",
       " 'event',\n",
       " 'time_seconds']"
      ]
     },
     "execution_count": 22,
     "metadata": {},
     "output_type": "execute_result"
    }
   ],
   "source": [
    "best_chicago[min(best_chicago.keys())]"
   ]
  },
  {
   "cell_type": "code",
   "execution_count": 23,
   "id": "928487f9-c1d2-4c91-8372-c2223790e65a",
   "metadata": {},
   "outputs": [],
   "source": [
    "nyc_train = nyc[nyc.index.isin(range(yr), level=0)]\n",
    "nyc_test = nyc[nyc.index.isin(range(yr, 2019), level=0)]\n",
    "\n",
    "\n",
    "results = {}\n",
    "best_nyc = {}\n",
    "\n",
    "for i in range(len(cols)):\n",
    "    for combo in itertools.combinations(cols, i):\n",
    "        drop_cols = list(combo)\n",
    "        drop_cols.append('time_seconds')\n",
    "        \n",
    "        X_train = nyc_train.drop(columns=drop_cols)\n",
    "        y_train = nyc_train['time_seconds']\n",
    "\n",
    "        X_test = nyc_test.drop(columns=drop_cols)\n",
    "        y_test = nyc_test['time_seconds']\n",
    "\n",
    "        lr = LinearRegression()\n",
    "        lr.fit(X_train, y_train)\n",
    "\n",
    "        preds = lr.predict(X_test)\n",
    "        results[mean_squared_error(y_test, preds, squared=False)] = drop_cols\n",
    "\n",
    "    best_nyc[min(results.keys())] = results[min(results.keys())]"
   ]
  },
  {
   "cell_type": "code",
   "execution_count": 24,
   "id": "76424959-91f0-4a56-bec4-a90425d095a4",
   "metadata": {},
   "outputs": [
    {
     "data": {
      "text/plain": [
       "660.5526845800417"
      ]
     },
     "execution_count": 24,
     "metadata": {},
     "output_type": "execute_result"
    }
   ],
   "source": [
    "min(best_nyc.keys())"
   ]
  },
  {
   "cell_type": "code",
   "execution_count": 25,
   "id": "92ba1fda-d9f7-4490-b451-905ed66aa71e",
   "metadata": {},
   "outputs": [
    {
     "data": {
      "text/plain": [
       "['temperature',\n",
       " 'relative_humidity',\n",
       " 'precipitation',\n",
       " 'precipitation_cover',\n",
       " 'cloud_cover',\n",
       " 'clear',\n",
       " 'overcast',\n",
       " 'rain',\n",
       " 'event',\n",
       " 'time_seconds']"
      ]
     },
     "execution_count": 25,
     "metadata": {},
     "output_type": "execute_result"
    }
   ],
   "source": [
    "best_nyc[min(best_nyc.keys())]"
   ]
  },
  {
   "cell_type": "code",
   "execution_count": 26,
   "id": "7711b549-a8a2-4957-aac1-b193a4940137",
   "metadata": {},
   "outputs": [],
   "source": [
    "berlin_train = berlin[berlin.index.isin(range(yr), level=0)]\n",
    "berlin_test = berlin[berlin.index.isin(range(yr, 2019), level=0)]\n",
    "\n",
    "results = {}\n",
    "best_berlin = {}\n",
    "\n",
    "for i in range(len(cols)):\n",
    "    for combo in itertools.combinations(cols, i):\n",
    "        drop_cols = list(combo)\n",
    "        drop_cols.append('time_seconds')\n",
    "        \n",
    "        X_train = berlin_train.drop(columns=drop_cols)\n",
    "        y_train = berlin_train['time_seconds']\n",
    "\n",
    "        X_test = berlin_test.drop(columns=drop_cols)\n",
    "        y_test = berlin_test['time_seconds']\n",
    "\n",
    "        lr = LinearRegression()\n",
    "        lr.fit(X_train, y_train)\n",
    "\n",
    "        preds = lr.predict(X_test)\n",
    "        results[mean_squared_error(y_test, preds, squared=False)] = drop_cols\n",
    "\n",
    "    best_berlin[min(results.keys())] = results[min(results.keys())]"
   ]
  },
  {
   "cell_type": "code",
   "execution_count": 27,
   "id": "4467029c-101e-44ab-b260-651f6920100f",
   "metadata": {},
   "outputs": [
    {
     "data": {
      "text/plain": [
       "854.113176815812"
      ]
     },
     "execution_count": 27,
     "metadata": {},
     "output_type": "execute_result"
    }
   ],
   "source": [
    "min(best_berlin.keys())"
   ]
  },
  {
   "cell_type": "code",
   "execution_count": 28,
   "id": "7ee0b6db-2434-48ad-b501-5fa9e593b732",
   "metadata": {},
   "outputs": [
    {
     "data": {
      "text/plain": [
       "['relative_humidity',\n",
       " 'precipitation',\n",
       " 'precipitation_cover',\n",
       " 'clear',\n",
       " 'overcast',\n",
       " 'partially_cloudy',\n",
       " 'rain',\n",
       " 'event',\n",
       " 'time_seconds']"
      ]
     },
     "execution_count": 28,
     "metadata": {},
     "output_type": "execute_result"
    }
   ],
   "source": [
    "best_berlin[min(best_berlin.keys())]"
   ]
  },
  {
   "cell_type": "code",
   "execution_count": 29,
   "id": "35970a91-c99b-45cd-a897-f473b059911e",
   "metadata": {},
   "outputs": [],
   "source": [
    "boston_train = boston[boston.index.isin(range(yr), level=0)]\n",
    "boston_test = boston[boston.index.isin(range(yr, 2019), level=0)]\n",
    "\n",
    "\n",
    "results = {}\n",
    "best_boston = {}\n",
    "\n",
    "for i in range(len(cols)):\n",
    "    for combo in itertools.combinations(cols, i):\n",
    "        drop_cols = list(combo)\n",
    "        drop_cols.append('time_seconds')\n",
    "\n",
    "        X_train = boston_train.drop(columns=drop_cols)\n",
    "        y_train = boston_train['time_seconds']\n",
    "\n",
    "        X_test = boston_test.drop(columns=drop_cols)\n",
    "        y_test = boston_test['time_seconds']\n",
    "\n",
    "        lr = LinearRegression()\n",
    "        lr.fit(X_train, y_train)\n",
    "\n",
    "        preds = lr.predict(X_test)\n",
    "        results[mean_squared_error(y_test, preds, squared=False)] = drop_cols\n",
    "\n",
    "    best_boston[min(results.keys())] = results[min(results.keys())]"
   ]
  },
  {
   "cell_type": "code",
   "execution_count": 30,
   "id": "91b05dfa-90f2-46c2-889b-2d0cf395ea2d",
   "metadata": {},
   "outputs": [
    {
     "data": {
      "text/plain": [
       "563.9786705087007"
      ]
     },
     "execution_count": 30,
     "metadata": {},
     "output_type": "execute_result"
    }
   ],
   "source": [
    "min(best_boston.keys())"
   ]
  },
  {
   "cell_type": "code",
   "execution_count": 31,
   "id": "d2dd0e17-d7fc-4b0e-bfb3-fad8f656c387",
   "metadata": {},
   "outputs": [
    {
     "data": {
      "text/plain": [
       "['temperature',\n",
       " 'relative_humidity',\n",
       " 'wind_speed',\n",
       " 'cloud_cover',\n",
       " 'overcast',\n",
       " 'partially_cloudy',\n",
       " 'event',\n",
       " 'time_seconds']"
      ]
     },
     "execution_count": 31,
     "metadata": {},
     "output_type": "execute_result"
    }
   ],
   "source": [
    "best_boston[min(best_boston.keys())]"
   ]
  },
  {
   "cell_type": "code",
   "execution_count": 32,
   "id": "655ed1fc-46c3-4069-b7a3-8d2301b47453",
   "metadata": {},
   "outputs": [],
   "source": [
    "combined_train = combined[combined.index.isin(range(yr), level=0)]\n",
    "combined_test = combined[combined.index.isin(range(yr,2019), level=0)]\n",
    "\n",
    "results = {}\n",
    "best_combined = {}\n",
    "\n",
    "for i in range(len(cols)):\n",
    "    for combo in itertools.combinations(cols, i):\n",
    "        drop_cols = list(combo)\n",
    "        drop_cols.append('time_seconds')\n",
    "\n",
    "        X_train = combined_train.drop(columns=drop_cols)\n",
    "        y_train = combined_train['time_seconds']\n",
    "\n",
    "        X_test = combined_test.drop(columns=drop_cols)\n",
    "        y_test = combined_test['time_seconds']\n",
    "\n",
    "        lr = LinearRegression()\n",
    "        lr.fit(X_train, y_train)\n",
    "\n",
    "        preds = lr.predict(X_test)\n",
    "\n",
    "        results[mean_squared_error(y_test, preds, squared=False)] = drop_cols\n",
    "\n",
    "    best_combined[min(results.keys())] = results[min(results.keys())] "
   ]
  },
  {
   "cell_type": "code",
   "execution_count": 33,
   "id": "c8eabf1e-9eb5-449d-8e6e-d3b8f555320e",
   "metadata": {},
   "outputs": [
    {
     "data": {
      "text/plain": [
       "688.5253385874158"
      ]
     },
     "execution_count": 33,
     "metadata": {},
     "output_type": "execute_result"
    }
   ],
   "source": [
    "min(best_combined.keys())"
   ]
  },
  {
   "cell_type": "code",
   "execution_count": 34,
   "id": "7bb6f619-6885-4b02-855f-3273d3a63cff",
   "metadata": {},
   "outputs": [
    {
     "data": {
      "text/plain": [
       "['relative_humidity',\n",
       " 'wind_speed',\n",
       " 'precipitation_cover',\n",
       " 'cloud_cover',\n",
       " 'clear',\n",
       " 'partially_cloudy',\n",
       " 'rain',\n",
       " 'time_seconds']"
      ]
     },
     "execution_count": 34,
     "metadata": {},
     "output_type": "execute_result"
    }
   ],
   "source": [
    "best_combined[min(best_combined.keys())]"
   ]
  },
  {
   "cell_type": "markdown",
   "id": "a6b7a4d9-ad1d-45e3-bd19-9062729faea9",
   "metadata": {
    "tags": []
   },
   "source": [
    "### Best Scores/Coefs"
   ]
  },
  {
   "cell_type": "code",
   "execution_count": 35,
   "id": "56ed66a5-d6b5-4553-834f-0e01b96a3870",
   "metadata": {},
   "outputs": [
    {
     "name": "stdout",
     "output_type": "stream",
     "text": [
      "Train R2: 0.6882267710313108\n",
      "R2: 0.6932365526300843\n",
      "MAE: 724.0948961155018\n",
      "MSE: 729509.3188103986\n",
      "RMSE: 854.113176815812\n"
     ]
    }
   ],
   "source": [
    "X_train = berlin_train.drop(columns=best_berlin[min(best_berlin.keys())])\n",
    "y_train = berlin_train['time_seconds']\n",
    "\n",
    "X_test = berlin_test.drop(columns=best_berlin[min(best_berlin.keys())])\n",
    "y_test = berlin_test['time_seconds']\n",
    "\n",
    "lr = LinearRegression()\n",
    "lr.fit(X_train, y_train)\n",
    "\n",
    "print(f'Train R2: {lr.score(X_train, y_train)}')\n",
    "model_scores(X_test, y_test, lr)"
   ]
  },
  {
   "cell_type": "code",
   "execution_count": 36,
   "id": "5a4ec38f-be8b-4f0a-b9d6-a0ef02d556a4",
   "metadata": {},
   "outputs": [
    {
     "data": {
      "text/html": [
       "<div>\n",
       "<style scoped>\n",
       "    .dataframe tbody tr th:only-of-type {\n",
       "        vertical-align: middle;\n",
       "    }\n",
       "\n",
       "    .dataframe tbody tr th {\n",
       "        vertical-align: top;\n",
       "    }\n",
       "\n",
       "    .dataframe thead th {\n",
       "        text-align: right;\n",
       "    }\n",
       "</style>\n",
       "<table border=\"1\" class=\"dataframe\">\n",
       "  <thead>\n",
       "    <tr style=\"text-align: right;\">\n",
       "      <th></th>\n",
       "      <th>0</th>\n",
       "      <th>1</th>\n",
       "    </tr>\n",
       "  </thead>\n",
       "  <tbody>\n",
       "    <tr>\n",
       "      <th>0</th>\n",
       "      <td>age</td>\n",
       "      <td>462.829293</td>\n",
       "    </tr>\n",
       "    <tr>\n",
       "      <th>1</th>\n",
       "      <td>male</td>\n",
       "      <td>-1448.887874</td>\n",
       "    </tr>\n",
       "    <tr>\n",
       "      <th>2</th>\n",
       "      <td>temperature</td>\n",
       "      <td>54.933423</td>\n",
       "    </tr>\n",
       "    <tr>\n",
       "      <th>3</th>\n",
       "      <td>wind_speed</td>\n",
       "      <td>-22.263758</td>\n",
       "    </tr>\n",
       "    <tr>\n",
       "      <th>4</th>\n",
       "      <td>cloud_cover</td>\n",
       "      <td>0.312984</td>\n",
       "    </tr>\n",
       "  </tbody>\n",
       "</table>\n",
       "</div>"
      ],
      "text/plain": [
       "             0            1\n",
       "0          age   462.829293\n",
       "1         male -1448.887874\n",
       "2  temperature    54.933423\n",
       "3   wind_speed   -22.263758\n",
       "4  cloud_cover     0.312984"
      ]
     },
     "execution_count": 36,
     "metadata": {},
     "output_type": "execute_result"
    }
   ],
   "source": [
    "pd.DataFrame(list(zip(X_test.columns,lr.coef_)))"
   ]
  },
  {
   "cell_type": "code",
   "execution_count": 37,
   "id": "01d1b254-a1e8-4986-aeea-49c1c1f0248d",
   "metadata": {},
   "outputs": [
    {
     "name": "stdout",
     "output_type": "stream",
     "text": [
      "Train R2: 0.6821554757822392\n",
      "R2: 0.9054269907098701\n",
      "MAE: 453.7491648827442\n",
      "MSE: 318071.94078876165\n",
      "RMSE: 563.9786705087007\n"
     ]
    }
   ],
   "source": [
    "X_train = boston_train.drop(columns=best_boston[min(best_boston.keys())])\n",
    "y_train = boston_train['time_seconds']\n",
    "\n",
    "X_test = boston_test.drop(columns=best_boston[min(best_boston.keys())])\n",
    "y_test = boston_test['time_seconds']\n",
    "\n",
    "lr = LinearRegression()\n",
    "lr.fit(X_train, y_train)\n",
    "\n",
    "print(f'Train R2: {lr.score(X_train, y_train)}')\n",
    "model_scores(X_test, y_test, lr)"
   ]
  },
  {
   "cell_type": "code",
   "execution_count": 38,
   "id": "f48aaf6b-011d-480b-9a38-f3bcd2247ad3",
   "metadata": {},
   "outputs": [
    {
     "data": {
      "text/html": [
       "<div>\n",
       "<style scoped>\n",
       "    .dataframe tbody tr th:only-of-type {\n",
       "        vertical-align: middle;\n",
       "    }\n",
       "\n",
       "    .dataframe tbody tr th {\n",
       "        vertical-align: top;\n",
       "    }\n",
       "\n",
       "    .dataframe thead th {\n",
       "        text-align: right;\n",
       "    }\n",
       "</style>\n",
       "<table border=\"1\" class=\"dataframe\">\n",
       "  <thead>\n",
       "    <tr style=\"text-align: right;\">\n",
       "      <th></th>\n",
       "      <th>0</th>\n",
       "      <th>1</th>\n",
       "    </tr>\n",
       "  </thead>\n",
       "  <tbody>\n",
       "    <tr>\n",
       "      <th>0</th>\n",
       "      <td>age</td>\n",
       "      <td>596.848277</td>\n",
       "    </tr>\n",
       "    <tr>\n",
       "      <th>1</th>\n",
       "      <td>male</td>\n",
       "      <td>-1440.986810</td>\n",
       "    </tr>\n",
       "    <tr>\n",
       "      <th>2</th>\n",
       "      <td>precipitation</td>\n",
       "      <td>1676.595615</td>\n",
       "    </tr>\n",
       "    <tr>\n",
       "      <th>3</th>\n",
       "      <td>precipitation_cover</td>\n",
       "      <td>-12.444363</td>\n",
       "    </tr>\n",
       "    <tr>\n",
       "      <th>4</th>\n",
       "      <td>clear</td>\n",
       "      <td>0.000000</td>\n",
       "    </tr>\n",
       "    <tr>\n",
       "      <th>5</th>\n",
       "      <td>rain</td>\n",
       "      <td>-10.152106</td>\n",
       "    </tr>\n",
       "  </tbody>\n",
       "</table>\n",
       "</div>"
      ],
      "text/plain": [
       "                     0            1\n",
       "0                  age   596.848277\n",
       "1                 male -1440.986810\n",
       "2        precipitation  1676.595615\n",
       "3  precipitation_cover   -12.444363\n",
       "4                clear     0.000000\n",
       "5                 rain   -10.152106"
      ]
     },
     "execution_count": 38,
     "metadata": {},
     "output_type": "execute_result"
    }
   ],
   "source": [
    "pd.DataFrame(list(zip(X_test.columns,lr.coef_)))"
   ]
  },
  {
   "cell_type": "code",
   "execution_count": 39,
   "id": "4af31e59-0763-4aa5-99c4-543f1e8e62c6",
   "metadata": {},
   "outputs": [
    {
     "name": "stdout",
     "output_type": "stream",
     "text": [
      "Train R2: 0.7665625196052492\n",
      "R2: 0.8609236684421164\n",
      "MAE: 422.2007785698438\n",
      "MSE: 365224.986113847\n",
      "RMSE: 604.3384698278334\n"
     ]
    }
   ],
   "source": [
    "X_train = chicago_train.drop(columns=best_chicago[min(best_chicago.keys())])\n",
    "y_train = chicago_train['time_seconds']\n",
    "\n",
    "X_test = chicago_test.drop(columns=best_chicago[min(best_chicago.keys())])\n",
    "y_test = chicago_test['time_seconds']\n",
    "\n",
    "lr = LinearRegression()\n",
    "lr.fit(X_train, y_train)\n",
    "\n",
    "print(f'Train R2: {lr.score(X_train, y_train)}')\n",
    "model_scores(X_test, y_test, lr)"
   ]
  },
  {
   "cell_type": "code",
   "execution_count": 40,
   "id": "f227c71d-ed3c-42ce-bbbd-45d65815709b",
   "metadata": {},
   "outputs": [
    {
     "data": {
      "text/html": [
       "<div>\n",
       "<style scoped>\n",
       "    .dataframe tbody tr th:only-of-type {\n",
       "        vertical-align: middle;\n",
       "    }\n",
       "\n",
       "    .dataframe tbody tr th {\n",
       "        vertical-align: top;\n",
       "    }\n",
       "\n",
       "    .dataframe thead th {\n",
       "        text-align: right;\n",
       "    }\n",
       "</style>\n",
       "<table border=\"1\" class=\"dataframe\">\n",
       "  <thead>\n",
       "    <tr style=\"text-align: right;\">\n",
       "      <th></th>\n",
       "      <th>0</th>\n",
       "      <th>1</th>\n",
       "    </tr>\n",
       "  </thead>\n",
       "  <tbody>\n",
       "    <tr>\n",
       "      <th>0</th>\n",
       "      <td>age</td>\n",
       "      <td>441.528919</td>\n",
       "    </tr>\n",
       "    <tr>\n",
       "      <th>1</th>\n",
       "      <td>male</td>\n",
       "      <td>-1546.577626</td>\n",
       "    </tr>\n",
       "    <tr>\n",
       "      <th>2</th>\n",
       "      <td>temperature</td>\n",
       "      <td>40.873137</td>\n",
       "    </tr>\n",
       "    <tr>\n",
       "      <th>3</th>\n",
       "      <td>wind_speed</td>\n",
       "      <td>-65.509346</td>\n",
       "    </tr>\n",
       "    <tr>\n",
       "      <th>4</th>\n",
       "      <td>precipitation</td>\n",
       "      <td>-13862.130300</td>\n",
       "    </tr>\n",
       "    <tr>\n",
       "      <th>5</th>\n",
       "      <td>cloud_cover</td>\n",
       "      <td>18.653145</td>\n",
       "    </tr>\n",
       "    <tr>\n",
       "      <th>6</th>\n",
       "      <td>clear</td>\n",
       "      <td>898.705585</td>\n",
       "    </tr>\n",
       "  </tbody>\n",
       "</table>\n",
       "</div>"
      ],
      "text/plain": [
       "               0             1\n",
       "0            age    441.528919\n",
       "1           male  -1546.577626\n",
       "2    temperature     40.873137\n",
       "3     wind_speed    -65.509346\n",
       "4  precipitation -13862.130300\n",
       "5    cloud_cover     18.653145\n",
       "6          clear    898.705585"
      ]
     },
     "execution_count": 40,
     "metadata": {},
     "output_type": "execute_result"
    }
   ],
   "source": [
    "pd.DataFrame(list(zip(X_test.columns,lr.coef_)))"
   ]
  },
  {
   "cell_type": "code",
   "execution_count": 41,
   "id": "6c8da5f2-6f97-4c43-bccd-17aaecce8c5c",
   "metadata": {},
   "outputs": [
    {
     "name": "stdout",
     "output_type": "stream",
     "text": [
      "Train R2: 0.8059482928769438\n",
      "R2: 0.8644876358484527\n",
      "MAE: 469.22528923809233\n",
      "MSE: 332541.77159580943\n",
      "RMSE: 576.6643491631934\n"
     ]
    }
   ],
   "source": [
    "X_train = london_train.drop(columns=best_london[min(best_london.keys())])\n",
    "y_train = london_train['time_seconds']\n",
    "\n",
    "X_test = london_test.drop(columns=best_london[min(best_london.keys())])\n",
    "y_test = london_test['time_seconds']\n",
    "\n",
    "lr = LinearRegression()\n",
    "lr.fit(X_train, y_train)\n",
    "\n",
    "print(f'Train R2: {lr.score(X_train, y_train)}')\n",
    "model_scores(X_test, y_test, lr)"
   ]
  },
  {
   "cell_type": "code",
   "execution_count": 42,
   "id": "08b8a6fa-87ae-49e0-b6d6-269380a87684",
   "metadata": {},
   "outputs": [
    {
     "data": {
      "text/html": [
       "<div>\n",
       "<style scoped>\n",
       "    .dataframe tbody tr th:only-of-type {\n",
       "        vertical-align: middle;\n",
       "    }\n",
       "\n",
       "    .dataframe tbody tr th {\n",
       "        vertical-align: top;\n",
       "    }\n",
       "\n",
       "    .dataframe thead th {\n",
       "        text-align: right;\n",
       "    }\n",
       "</style>\n",
       "<table border=\"1\" class=\"dataframe\">\n",
       "  <thead>\n",
       "    <tr style=\"text-align: right;\">\n",
       "      <th></th>\n",
       "      <th>0</th>\n",
       "      <th>1</th>\n",
       "    </tr>\n",
       "  </thead>\n",
       "  <tbody>\n",
       "    <tr>\n",
       "      <th>0</th>\n",
       "      <td>age</td>\n",
       "      <td>455.017239</td>\n",
       "    </tr>\n",
       "    <tr>\n",
       "      <th>1</th>\n",
       "      <td>male</td>\n",
       "      <td>-1920.404065</td>\n",
       "    </tr>\n",
       "    <tr>\n",
       "      <th>2</th>\n",
       "      <td>temperature</td>\n",
       "      <td>60.472343</td>\n",
       "    </tr>\n",
       "    <tr>\n",
       "      <th>3</th>\n",
       "      <td>cloud_cover</td>\n",
       "      <td>-8.440907</td>\n",
       "    </tr>\n",
       "    <tr>\n",
       "      <th>4</th>\n",
       "      <td>overcast</td>\n",
       "      <td>0.000000</td>\n",
       "    </tr>\n",
       "    <tr>\n",
       "      <th>5</th>\n",
       "      <td>partially_cloudy</td>\n",
       "      <td>652.346717</td>\n",
       "    </tr>\n",
       "    <tr>\n",
       "      <th>6</th>\n",
       "      <td>event</td>\n",
       "      <td>0.000000</td>\n",
       "    </tr>\n",
       "  </tbody>\n",
       "</table>\n",
       "</div>"
      ],
      "text/plain": [
       "                  0            1\n",
       "0               age   455.017239\n",
       "1              male -1920.404065\n",
       "2       temperature    60.472343\n",
       "3       cloud_cover    -8.440907\n",
       "4          overcast     0.000000\n",
       "5  partially_cloudy   652.346717\n",
       "6             event     0.000000"
      ]
     },
     "execution_count": 42,
     "metadata": {},
     "output_type": "execute_result"
    }
   ],
   "source": [
    "pd.DataFrame(list(zip(X_test.columns,lr.coef_)))"
   ]
  },
  {
   "cell_type": "code",
   "execution_count": 43,
   "id": "26f70001-d2a3-4f44-9131-e98b28f3126d",
   "metadata": {},
   "outputs": [
    {
     "name": "stdout",
     "output_type": "stream",
     "text": [
      "Train R2: 0.9050579131212888\n",
      "R2: 0.8872042500686859\n",
      "MAE: 569.6177404271069\n",
      "MSE: 436329.84910590004\n",
      "RMSE: 660.5526845800417\n"
     ]
    }
   ],
   "source": [
    "X_train = nyc_train.drop(columns=best_nyc[min(best_nyc.keys())])\n",
    "y_train = nyc_train['time_seconds']\n",
    "\n",
    "X_test = nyc_test.drop(columns=best_nyc[min(best_nyc.keys())])\n",
    "y_test = nyc_test['time_seconds']\n",
    "\n",
    "lr = LinearRegression()\n",
    "lr.fit(X_train, y_train)\n",
    "\n",
    "print(f'Train R2: {lr.score(X_train, y_train)}')\n",
    "model_scores(X_test, y_test, lr)"
   ]
  },
  {
   "cell_type": "code",
   "execution_count": 44,
   "id": "1f914cb0-4653-4f8c-8bd4-2ab5c86797c9",
   "metadata": {},
   "outputs": [
    {
     "data": {
      "text/html": [
       "<div>\n",
       "<style scoped>\n",
       "    .dataframe tbody tr th:only-of-type {\n",
       "        vertical-align: middle;\n",
       "    }\n",
       "\n",
       "    .dataframe tbody tr th {\n",
       "        vertical-align: top;\n",
       "    }\n",
       "\n",
       "    .dataframe thead th {\n",
       "        text-align: right;\n",
       "    }\n",
       "</style>\n",
       "<table border=\"1\" class=\"dataframe\">\n",
       "  <thead>\n",
       "    <tr style=\"text-align: right;\">\n",
       "      <th></th>\n",
       "      <th>0</th>\n",
       "      <th>1</th>\n",
       "    </tr>\n",
       "  </thead>\n",
       "  <tbody>\n",
       "    <tr>\n",
       "      <th>0</th>\n",
       "      <td>age</td>\n",
       "      <td>759.082858</td>\n",
       "    </tr>\n",
       "    <tr>\n",
       "      <th>1</th>\n",
       "      <td>male</td>\n",
       "      <td>-1914.746188</td>\n",
       "    </tr>\n",
       "    <tr>\n",
       "      <th>2</th>\n",
       "      <td>wind_speed</td>\n",
       "      <td>10.614954</td>\n",
       "    </tr>\n",
       "    <tr>\n",
       "      <th>3</th>\n",
       "      <td>partially_cloudy</td>\n",
       "      <td>-201.655078</td>\n",
       "    </tr>\n",
       "  </tbody>\n",
       "</table>\n",
       "</div>"
      ],
      "text/plain": [
       "                  0            1\n",
       "0               age   759.082858\n",
       "1              male -1914.746188\n",
       "2        wind_speed    10.614954\n",
       "3  partially_cloudy  -201.655078"
      ]
     },
     "execution_count": 44,
     "metadata": {},
     "output_type": "execute_result"
    }
   ],
   "source": [
    "pd.DataFrame(list(zip(X_test.columns,lr.coef_)))"
   ]
  },
  {
   "cell_type": "code",
   "execution_count": 45,
   "id": "bc5c0dc7-2f4b-4c73-8c36-ba199e905856",
   "metadata": {},
   "outputs": [
    {
     "name": "stdout",
     "output_type": "stream",
     "text": [
      "Train R2: 0.7938377999954352\n",
      "R2: 0.8692102114227132\n",
      "MAE: 530.9511464469608\n",
      "MSE: 474067.14187691564\n",
      "RMSE: 688.5253385874158\n"
     ]
    }
   ],
   "source": [
    "X_train = combined_train.drop(columns=best_combined[min(best_combined.keys())])\n",
    "y_train = combined_train['time_seconds']\n",
    "\n",
    "X_test = combined_test.drop(columns=best_combined[min(best_combined.keys())])\n",
    "y_test = combined_test['time_seconds']\n",
    "\n",
    "lr = LinearRegression()\n",
    "lr.fit(X_train, y_train)\n",
    "\n",
    "print(f'Train R2: {lr.score(X_train, y_train)}')\n",
    "model_scores(X_test, y_test, lr)"
   ]
  },
  {
   "cell_type": "code",
   "execution_count": 46,
   "id": "58e6eec3-ab00-490d-a2e2-6bbba73608ef",
   "metadata": {},
   "outputs": [
    {
     "data": {
      "text/html": [
       "<div>\n",
       "<style scoped>\n",
       "    .dataframe tbody tr th:only-of-type {\n",
       "        vertical-align: middle;\n",
       "    }\n",
       "\n",
       "    .dataframe tbody tr th {\n",
       "        vertical-align: top;\n",
       "    }\n",
       "\n",
       "    .dataframe thead th {\n",
       "        text-align: right;\n",
       "    }\n",
       "</style>\n",
       "<table border=\"1\" class=\"dataframe\">\n",
       "  <thead>\n",
       "    <tr style=\"text-align: right;\">\n",
       "      <th></th>\n",
       "      <th>0</th>\n",
       "      <th>1</th>\n",
       "    </tr>\n",
       "  </thead>\n",
       "  <tbody>\n",
       "    <tr>\n",
       "      <th>0</th>\n",
       "      <td>age</td>\n",
       "      <td>531.390344</td>\n",
       "    </tr>\n",
       "    <tr>\n",
       "      <th>1</th>\n",
       "      <td>male</td>\n",
       "      <td>-1624.894221</td>\n",
       "    </tr>\n",
       "    <tr>\n",
       "      <th>2</th>\n",
       "      <td>temperature</td>\n",
       "      <td>48.063201</td>\n",
       "    </tr>\n",
       "    <tr>\n",
       "      <th>3</th>\n",
       "      <td>precipitation</td>\n",
       "      <td>1665.599937</td>\n",
       "    </tr>\n",
       "    <tr>\n",
       "      <th>4</th>\n",
       "      <td>overcast</td>\n",
       "      <td>119.521165</td>\n",
       "    </tr>\n",
       "    <tr>\n",
       "      <th>5</th>\n",
       "      <td>event</td>\n",
       "      <td>750.024306</td>\n",
       "    </tr>\n",
       "  </tbody>\n",
       "</table>\n",
       "</div>"
      ],
      "text/plain": [
       "               0            1\n",
       "0            age   531.390344\n",
       "1           male -1624.894221\n",
       "2    temperature    48.063201\n",
       "3  precipitation  1665.599937\n",
       "4       overcast   119.521165\n",
       "5          event   750.024306"
      ]
     },
     "execution_count": 46,
     "metadata": {},
     "output_type": "execute_result"
    }
   ],
   "source": [
    "pd.DataFrame(list(zip(X_test.columns,lr.coef_)))"
   ]
  },
  {
   "cell_type": "code",
   "execution_count": null,
   "id": "bd871fd1-66e4-4289-b633-69fbe46d5444",
   "metadata": {},
   "outputs": [],
   "source": []
  }
 ],
 "metadata": {
  "kernelspec": {
   "display_name": "Python 3 (ipykernel)",
   "language": "python",
   "name": "python3"
  },
  "language_info": {
   "codemirror_mode": {
    "name": "ipython",
    "version": 3
   },
   "file_extension": ".py",
   "mimetype": "text/x-python",
   "name": "python",
   "nbconvert_exporter": "python",
   "pygments_lexer": "ipython3",
   "version": "3.9.7"
  }
 },
 "nbformat": 4,
 "nbformat_minor": 5
}
