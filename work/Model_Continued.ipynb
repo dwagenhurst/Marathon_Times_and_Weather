{
 "cells": [
  {
   "cell_type": "code",
   "execution_count": 1,
   "id": "d034e311-7a5c-4b15-9072-df3ec44644a8",
   "metadata": {
    "tags": []
   },
   "outputs": [],
   "source": [
    "# imports\n",
    "import os\n",
    "import numpy as np\n",
    "import pandas as pd\n",
    "import seaborn as sns\n",
    "import matplotlib.pyplot as plt\n",
    "from sklearn.linear_model import LinearRegression\n",
    "from sklearn.metrics import mean_absolute_error, mean_squared_error\n",
    "import itertools"
   ]
  },
  {
   "cell_type": "markdown",
   "id": "47a18256-84fd-4e46-a9d2-9b1287e04af9",
   "metadata": {
    "jp-MarkdownHeadingCollapsed": true,
    "tags": []
   },
   "source": [
    "## Functions"
   ]
  },
  {
   "cell_type": "code",
   "execution_count": 2,
   "id": "d574fb64-ab13-422b-8f43-76b5b8754048",
   "metadata": {},
   "outputs": [],
   "source": [
    "# functions\n",
    "def num_age(x):\n",
    "    '''make age categories numeric'''\n",
    "    if x == '18-39':\n",
    "        return 0\n",
    "    elif x == '40-44':\n",
    "        return 1\n",
    "    elif x == '45-49':\n",
    "        return 2\n",
    "    elif x == '50-54':\n",
    "        return 3\n",
    "    elif x == '55-59':\n",
    "        return 4\n",
    "    elif x == '60-64':\n",
    "        return 5\n",
    "    elif x == '65-69':\n",
    "        return 6\n",
    "    return 7\n",
    "\n",
    "\n",
    "def cat_clean(x):\n",
    "    '''binary columns were floats, make them ints'''\n",
    "    return int(x)\n",
    "\n",
    "\n",
    "def prep(df):\n",
    "    '''prepare dataframe for EDA'''\n",
    "    df['age'] = df['age'].apply(lambda x: num_age(x))\n",
    "    df['clear'] = df['clear'].apply(lambda x: cat_clean(x))\n",
    "    df['overcast'] = df['overcast'].apply(lambda x: cat_clean(x))\n",
    "    df['partially_cloudy'] = df['partially_cloudy'].apply(lambda x: cat_clean(x))\n",
    "    df['rain'] = df['rain'].apply(lambda x: cat_clean(x))\n",
    "\n",
    "    cols = ['year', 'age', 'male', 'time_seconds', 'minimum_temperature',\n",
    "           'maximum_temperature', 'temperature', 'relative_humidity', 'wind_speed',\n",
    "           'precipitation', 'precipitation_cover', 'cloud_cover', 'clear',\n",
    "           'overcast', 'partially_cloudy', 'rain']\n",
    "\n",
    "    for col in cols:\n",
    "        df[col] = pd.to_numeric(df[col], downcast='unsigned')\n",
    "\n",
    "    df.drop(columns=['maximum_temperature', 'minimum_temperature'], inplace=True)\n",
    "\n",
    "    event_dict = {year: df[df['year'] == year] for year in df['year'].unique()}\n",
    "    \n",
    "    return event_dict\n",
    "\n",
    "\n",
    "def usable(event_dict, num):\n",
    "    '''specify which years are usable based on minimum number of participants\n",
    "    returns dict with years that exceed minimum values are correspoding df'''\n",
    "    can_use = []\n",
    "    for year in event_dict.keys():\n",
    "        if len(event_dict[year]) > num:\n",
    "            can_use.append(year)\n",
    "    return {year: event_dict[year] for year in can_use}\n",
    "\n",
    "\n",
    "def top_n(event_dict, num):\n",
    "    '''take in event dict and first num of finishers that are desired,\n",
    "    return df of top n racers for all years, use in conjuction with usable()'''\n",
    "    df = pd.DataFrame()\n",
    "    for year in event_dict.keys():\n",
    "        df = pd.concat([df, event_dict[year].sort_values(by='time_seconds').iloc[:num]], ignore_index=True)\n",
    "    return df\n",
    "        \n",
    "    \n",
    "def n_range(event_dict, low, high):\n",
    "    '''take in dictionary of dfs from prep(), upper percentage as float, lower percentage as float\n",
    "    return df'''\n",
    "    df = pd.DataFrame()\n",
    "    for year in event_dict.keys():\n",
    "        df = pd.concat([df, event_dict[year].sort_values(by='time_seconds').iloc[int(len(event_dict[year]) * low): int(len(event_dict[year]) * high)]], ignore_index=True)\n",
    "    return df\n",
    "\n",
    "def model_scores(X_test, y_test, model):\n",
    "    nl = \"\\n\"\n",
    "    y_preds = model.predict(X_test)\n",
    "    return print(f'R2: {model.score(X_test, y_test)}{nl}MAE: {mean_absolute_error(y_test, y_preds)}{nl}MSE: {mean_squared_error(y_test, y_preds)}{nl}RMSE: {mean_squared_error(y_test, y_preds, squared=False)}')"
   ]
  },
  {
   "cell_type": "markdown",
   "id": "de8045c0-ae88-47c8-b1bc-25bc3cfe0db0",
   "metadata": {
    "jp-MarkdownHeadingCollapsed": true,
    "tags": []
   },
   "source": [
    "## Starting Point From Initial_Modeling"
   ]
  },
  {
   "cell_type": "code",
   "execution_count": 3,
   "id": "0f0ec5d9-0369-4d3b-95ff-0d5b0f4f9254",
   "metadata": {},
   "outputs": [],
   "source": [
    "london = pd.read_csv('./data/London_Data/Clean/Clean_London_Results_Weather.csv')\n",
    "nyc = pd.read_csv('./data/NYC_Data/Clean/Clean_NYC_Results_Weather.csv')\n",
    "boston = pd.read_csv('./data/Boston_Data/Clean/Clean_Boston_Results_Weather.csv')\n",
    "berlin = pd.read_csv('./data/Berlin_Data/Clean/Clean_Berlin_Results_Weather.csv')\n",
    "chicago = pd.read_csv('./data/Chicago_Data/Clean/Clean_Chicago_Results_Weather.csv')\n",
    "\n",
    "london_dict = prep(london)\n",
    "nyc_dict = prep(nyc)\n",
    "boston_dict = prep(boston)\n",
    "berlin_dict = prep(berlin)\n",
    "chicago_dict = prep(chicago)\n",
    "\n",
    "london = n_range(usable(london_dict, 9_900), 0, 1)\n",
    "nyc = n_range(usable(nyc_dict, 9_900), 0, 1)\n",
    "boston = n_range(usable(boston_dict, 9_900), 0, 1)\n",
    "berlin = n_range(usable(berlin_dict, 9_900), 0, 1)\n",
    "chicago = n_range(usable(chicago_dict, 9_900), 0, 1)\n",
    "\n",
    "aggregate = {col: 'mean' for col in london.drop(columns=['year'])}\n",
    "\n",
    "london = london.groupby(['year', 'age', 'male']).agg(aggregate)\n",
    "nyc = nyc.groupby(['year', 'age', 'male']).agg(aggregate)\n",
    "boston = boston.groupby(['year', 'age', 'male']).agg(aggregate)\n",
    "berlin = berlin.groupby(['year', 'age', 'male']).agg(aggregate)\n",
    "chicago = chicago.groupby(['year', 'age', 'male']).agg(aggregate)\n",
    "\n",
    "events = [boston, berlin, chicago, london, nyc]\n",
    "count = 0\n",
    "for event in events:\n",
    "    event['event'] = count\n",
    "    count += 1\n",
    "    \n",
    "combined = pd.concat(events)"
   ]
  },
  {
   "cell_type": "code",
   "execution_count": 4,
   "id": "201e406c-3c92-4a1f-b013-48f618479875",
   "metadata": {},
   "outputs": [
    {
     "name": "stdout",
     "output_type": "stream",
     "text": [
      "R2: 0.8486382770895685\n",
      "MAE: 500.5378739349461\n",
      "MSE: 363822.3823038144\n",
      "RMSE: 603.1769079663233\n"
     ]
    }
   ],
   "source": [
    "train = london[london.index.isin(range(2017), level=0)]\n",
    "test = london[london.index.isin([2017, 2018], level=0)]\n",
    "\n",
    "X_train = train.drop(columns = ['time_seconds', 'clear'])\n",
    "X_test = test.drop(columns = ['time_seconds', 'clear'])\n",
    "\n",
    "y_train = train['time_seconds']\n",
    "y_test = test['time_seconds']\n",
    "\n",
    "lr = LinearRegression()\n",
    "lr.fit(X_train, y_train)\n",
    "model_scores(X_test, y_test, lr)"
   ]
  },
  {
   "cell_type": "code",
   "execution_count": 5,
   "id": "494a3f42-deb8-48eb-be61-08a945ae9154",
   "metadata": {},
   "outputs": [
    {
     "data": {
      "text/html": [
       "<div>\n",
       "<style scoped>\n",
       "    .dataframe tbody tr th:only-of-type {\n",
       "        vertical-align: middle;\n",
       "    }\n",
       "\n",
       "    .dataframe tbody tr th {\n",
       "        vertical-align: top;\n",
       "    }\n",
       "\n",
       "    .dataframe thead th {\n",
       "        text-align: right;\n",
       "    }\n",
       "</style>\n",
       "<table border=\"1\" class=\"dataframe\">\n",
       "  <thead>\n",
       "    <tr style=\"text-align: right;\">\n",
       "      <th></th>\n",
       "      <th>0</th>\n",
       "      <th>1</th>\n",
       "    </tr>\n",
       "  </thead>\n",
       "  <tbody>\n",
       "    <tr>\n",
       "      <th>0</th>\n",
       "      <td>age</td>\n",
       "      <td>452.511953</td>\n",
       "    </tr>\n",
       "    <tr>\n",
       "      <th>1</th>\n",
       "      <td>male</td>\n",
       "      <td>-1915.789567</td>\n",
       "    </tr>\n",
       "    <tr>\n",
       "      <th>2</th>\n",
       "      <td>temperature</td>\n",
       "      <td>39.860797</td>\n",
       "    </tr>\n",
       "    <tr>\n",
       "      <th>3</th>\n",
       "      <td>relative_humidity</td>\n",
       "      <td>-8.202356</td>\n",
       "    </tr>\n",
       "    <tr>\n",
       "      <th>4</th>\n",
       "      <td>wind_speed</td>\n",
       "      <td>32.583386</td>\n",
       "    </tr>\n",
       "    <tr>\n",
       "      <th>5</th>\n",
       "      <td>precipitation</td>\n",
       "      <td>1669.587288</td>\n",
       "    </tr>\n",
       "    <tr>\n",
       "      <th>6</th>\n",
       "      <td>precipitation_cover</td>\n",
       "      <td>10.751469</td>\n",
       "    </tr>\n",
       "    <tr>\n",
       "      <th>7</th>\n",
       "      <td>cloud_cover</td>\n",
       "      <td>-9.796220</td>\n",
       "    </tr>\n",
       "    <tr>\n",
       "      <th>8</th>\n",
       "      <td>overcast</td>\n",
       "      <td>0.000000</td>\n",
       "    </tr>\n",
       "    <tr>\n",
       "      <th>9</th>\n",
       "      <td>partially_cloudy</td>\n",
       "      <td>580.134974</td>\n",
       "    </tr>\n",
       "    <tr>\n",
       "      <th>10</th>\n",
       "      <td>rain</td>\n",
       "      <td>-383.200194</td>\n",
       "    </tr>\n",
       "    <tr>\n",
       "      <th>11</th>\n",
       "      <td>event</td>\n",
       "      <td>0.000000</td>\n",
       "    </tr>\n",
       "  </tbody>\n",
       "</table>\n",
       "</div>"
      ],
      "text/plain": [
       "                      0            1\n",
       "0                   age   452.511953\n",
       "1                  male -1915.789567\n",
       "2           temperature    39.860797\n",
       "3     relative_humidity    -8.202356\n",
       "4            wind_speed    32.583386\n",
       "5         precipitation  1669.587288\n",
       "6   precipitation_cover    10.751469\n",
       "7           cloud_cover    -9.796220\n",
       "8              overcast     0.000000\n",
       "9      partially_cloudy   580.134974\n",
       "10                 rain  -383.200194\n",
       "11                event     0.000000"
      ]
     },
     "execution_count": 5,
     "metadata": {},
     "output_type": "execute_result"
    }
   ],
   "source": [
    "pd.DataFrame(list(zip(X_test.columns,lr.coef_)))"
   ]
  },
  {
   "cell_type": "code",
   "execution_count": 6,
   "id": "14048e0e-ebfe-4404-890b-108f118a022d",
   "metadata": {},
   "outputs": [
    {
     "name": "stdout",
     "output_type": "stream",
     "text": [
      "R2: 0.26346539052707507\n",
      "MAE: 272.47329606419436\n",
      "MSE: 120235.10134171456\n",
      "RMSE: 346.74933502706904\n"
     ]
    }
   ],
   "source": [
    "train = nyc[nyc.index.isin(range(2017), level=0)]\n",
    "test = nyc[nyc.index.isin([2017, 2018], level=0)]\n",
    "\n",
    "X_train = train.drop(columns = ['time_seconds', 'clear'])\n",
    "X_test = test.drop(columns = ['time_seconds', 'clear'])\n",
    "\n",
    "y_train = train['time_seconds']\n",
    "y_test = test['time_seconds']\n",
    "\n",
    "lr = LinearRegression()\n",
    "lr.fit(X_train, y_train)\n",
    "model_scores(X_test, y_test, lr)"
   ]
  },
  {
   "cell_type": "code",
   "execution_count": 7,
   "id": "cbf349a0-50e0-4486-91c2-b0ce6d13bf2c",
   "metadata": {},
   "outputs": [
    {
     "data": {
      "text/html": [
       "<div>\n",
       "<style scoped>\n",
       "    .dataframe tbody tr th:only-of-type {\n",
       "        vertical-align: middle;\n",
       "    }\n",
       "\n",
       "    .dataframe tbody tr th {\n",
       "        vertical-align: top;\n",
       "    }\n",
       "\n",
       "    .dataframe thead th {\n",
       "        text-align: right;\n",
       "    }\n",
       "</style>\n",
       "<table border=\"1\" class=\"dataframe\">\n",
       "  <thead>\n",
       "    <tr style=\"text-align: right;\">\n",
       "      <th></th>\n",
       "      <th>0</th>\n",
       "      <th>1</th>\n",
       "    </tr>\n",
       "  </thead>\n",
       "  <tbody>\n",
       "    <tr>\n",
       "      <th>0</th>\n",
       "      <td>age</td>\n",
       "      <td>109.580496</td>\n",
       "    </tr>\n",
       "    <tr>\n",
       "      <th>1</th>\n",
       "      <td>male</td>\n",
       "      <td>-398.981823</td>\n",
       "    </tr>\n",
       "    <tr>\n",
       "      <th>2</th>\n",
       "      <td>temperature</td>\n",
       "      <td>29.026549</td>\n",
       "    </tr>\n",
       "    <tr>\n",
       "      <th>3</th>\n",
       "      <td>relative_humidity</td>\n",
       "      <td>0.034438</td>\n",
       "    </tr>\n",
       "    <tr>\n",
       "      <th>4</th>\n",
       "      <td>wind_speed</td>\n",
       "      <td>16.439797</td>\n",
       "    </tr>\n",
       "    <tr>\n",
       "      <th>5</th>\n",
       "      <td>precipitation</td>\n",
       "      <td>76.260346</td>\n",
       "    </tr>\n",
       "    <tr>\n",
       "      <th>6</th>\n",
       "      <td>precipitation_cover</td>\n",
       "      <td>10.287346</td>\n",
       "    </tr>\n",
       "    <tr>\n",
       "      <th>7</th>\n",
       "      <td>cloud_cover</td>\n",
       "      <td>5.525568</td>\n",
       "    </tr>\n",
       "    <tr>\n",
       "      <th>8</th>\n",
       "      <td>overcast</td>\n",
       "      <td>-541.590089</td>\n",
       "    </tr>\n",
       "    <tr>\n",
       "      <th>9</th>\n",
       "      <td>partially_cloudy</td>\n",
       "      <td>-193.718247</td>\n",
       "    </tr>\n",
       "    <tr>\n",
       "      <th>10</th>\n",
       "      <td>rain</td>\n",
       "      <td>-599.719149</td>\n",
       "    </tr>\n",
       "    <tr>\n",
       "      <th>11</th>\n",
       "      <td>event</td>\n",
       "      <td>0.000000</td>\n",
       "    </tr>\n",
       "  </tbody>\n",
       "</table>\n",
       "</div>"
      ],
      "text/plain": [
       "                      0           1\n",
       "0                   age  109.580496\n",
       "1                  male -398.981823\n",
       "2           temperature   29.026549\n",
       "3     relative_humidity    0.034438\n",
       "4            wind_speed   16.439797\n",
       "5         precipitation   76.260346\n",
       "6   precipitation_cover   10.287346\n",
       "7           cloud_cover    5.525568\n",
       "8              overcast -541.590089\n",
       "9      partially_cloudy -193.718247\n",
       "10                 rain -599.719149\n",
       "11                event    0.000000"
      ]
     },
     "execution_count": 7,
     "metadata": {},
     "output_type": "execute_result"
    }
   ],
   "source": [
    "pd.DataFrame(list(zip(X_test.columns,lr.coef_)))"
   ]
  },
  {
   "cell_type": "code",
   "execution_count": 8,
   "id": "b12067ed-a6d0-4157-be5f-733127489c8b",
   "metadata": {},
   "outputs": [
    {
     "name": "stdout",
     "output_type": "stream",
     "text": [
      "R2: 0.47207035106013917\n",
      "MAE: 1318.2329814451143\n",
      "MSE: 1953173.294080445\n",
      "RMSE: 1397.5597640460478\n"
     ]
    }
   ],
   "source": [
    "train = boston[boston.index.isin(range(2017), level=0)]\n",
    "test = boston[boston.index.isin([2017, 2018], level=0)]\n",
    "\n",
    "X_train = train.drop(columns = ['time_seconds', 'clear', 'overcast', 'partially_cloudy'])\n",
    "X_test = test.drop(columns = ['time_seconds', 'clear', 'overcast', 'partially_cloudy'])\n",
    "\n",
    "y_train = train['time_seconds']\n",
    "y_test = test['time_seconds']\n",
    "\n",
    "lr = LinearRegression()\n",
    "lr.fit(X_train, y_train)\n",
    "model_scores(X_test, y_test, lr)"
   ]
  },
  {
   "cell_type": "code",
   "execution_count": 9,
   "id": "af148d6a-f492-4804-83a9-ea5337751522",
   "metadata": {},
   "outputs": [
    {
     "data": {
      "text/html": [
       "<div>\n",
       "<style scoped>\n",
       "    .dataframe tbody tr th:only-of-type {\n",
       "        vertical-align: middle;\n",
       "    }\n",
       "\n",
       "    .dataframe tbody tr th {\n",
       "        vertical-align: top;\n",
       "    }\n",
       "\n",
       "    .dataframe thead th {\n",
       "        text-align: right;\n",
       "    }\n",
       "</style>\n",
       "<table border=\"1\" class=\"dataframe\">\n",
       "  <thead>\n",
       "    <tr style=\"text-align: right;\">\n",
       "      <th></th>\n",
       "      <th>0</th>\n",
       "      <th>1</th>\n",
       "    </tr>\n",
       "  </thead>\n",
       "  <tbody>\n",
       "    <tr>\n",
       "      <th>0</th>\n",
       "      <td>age</td>\n",
       "      <td>593.763749</td>\n",
       "    </tr>\n",
       "    <tr>\n",
       "      <th>1</th>\n",
       "      <td>male</td>\n",
       "      <td>-1431.211599</td>\n",
       "    </tr>\n",
       "    <tr>\n",
       "      <th>2</th>\n",
       "      <td>temperature</td>\n",
       "      <td>87.334866</td>\n",
       "    </tr>\n",
       "    <tr>\n",
       "      <th>3</th>\n",
       "      <td>relative_humidity</td>\n",
       "      <td>11.906754</td>\n",
       "    </tr>\n",
       "    <tr>\n",
       "      <th>4</th>\n",
       "      <td>wind_speed</td>\n",
       "      <td>-0.085594</td>\n",
       "    </tr>\n",
       "    <tr>\n",
       "      <th>5</th>\n",
       "      <td>precipitation</td>\n",
       "      <td>1967.982287</td>\n",
       "    </tr>\n",
       "    <tr>\n",
       "      <th>6</th>\n",
       "      <td>precipitation_cover</td>\n",
       "      <td>1.077872</td>\n",
       "    </tr>\n",
       "    <tr>\n",
       "      <th>7</th>\n",
       "      <td>cloud_cover</td>\n",
       "      <td>-14.533504</td>\n",
       "    </tr>\n",
       "    <tr>\n",
       "      <th>8</th>\n",
       "      <td>rain</td>\n",
       "      <td>64.285743</td>\n",
       "    </tr>\n",
       "    <tr>\n",
       "      <th>9</th>\n",
       "      <td>event</td>\n",
       "      <td>0.000000</td>\n",
       "    </tr>\n",
       "  </tbody>\n",
       "</table>\n",
       "</div>"
      ],
      "text/plain": [
       "                     0            1\n",
       "0                  age   593.763749\n",
       "1                 male -1431.211599\n",
       "2          temperature    87.334866\n",
       "3    relative_humidity    11.906754\n",
       "4           wind_speed    -0.085594\n",
       "5        precipitation  1967.982287\n",
       "6  precipitation_cover     1.077872\n",
       "7          cloud_cover   -14.533504\n",
       "8                 rain    64.285743\n",
       "9                event     0.000000"
      ]
     },
     "execution_count": 9,
     "metadata": {},
     "output_type": "execute_result"
    }
   ],
   "source": [
    "pd.DataFrame(list(zip(X_test.columns,lr.coef_)))"
   ]
  },
  {
   "cell_type": "code",
   "execution_count": 10,
   "id": "4546c711-f162-46f9-98f4-34db0f7e8955",
   "metadata": {},
   "outputs": [
    {
     "name": "stdout",
     "output_type": "stream",
     "text": [
      "R2: 0.5841806815774391\n",
      "MAE: 829.7206237258863\n",
      "MSE: 923687.0762982728\n",
      "RMSE: 961.0864041792876\n"
     ]
    }
   ],
   "source": [
    "train = berlin[berlin.index.isin(range(2017), level=0)]\n",
    "test = berlin[berlin.index.isin([2017, 2018], level=0)]\n",
    "\n",
    "X_train = train.drop(columns = ['time_seconds', 'clear'])\n",
    "X_test = test.drop(columns = ['time_seconds', 'clear'])\n",
    "\n",
    "y_train = train['time_seconds']\n",
    "y_test = test['time_seconds']\n",
    "\n",
    "lr = LinearRegression()\n",
    "lr.fit(X_train, y_train)\n",
    "model_scores(X_test, y_test, lr)"
   ]
  },
  {
   "cell_type": "code",
   "execution_count": 11,
   "id": "40f1266f-9b2d-413d-b40a-11e890070153",
   "metadata": {},
   "outputs": [
    {
     "data": {
      "text/html": [
       "<div>\n",
       "<style scoped>\n",
       "    .dataframe tbody tr th:only-of-type {\n",
       "        vertical-align: middle;\n",
       "    }\n",
       "\n",
       "    .dataframe tbody tr th {\n",
       "        vertical-align: top;\n",
       "    }\n",
       "\n",
       "    .dataframe thead th {\n",
       "        text-align: right;\n",
       "    }\n",
       "</style>\n",
       "<table border=\"1\" class=\"dataframe\">\n",
       "  <thead>\n",
       "    <tr style=\"text-align: right;\">\n",
       "      <th></th>\n",
       "      <th>0</th>\n",
       "      <th>1</th>\n",
       "    </tr>\n",
       "  </thead>\n",
       "  <tbody>\n",
       "    <tr>\n",
       "      <th>0</th>\n",
       "      <td>age</td>\n",
       "      <td>4.670261e+02</td>\n",
       "    </tr>\n",
       "    <tr>\n",
       "      <th>1</th>\n",
       "      <td>male</td>\n",
       "      <td>-1.455646e+03</td>\n",
       "    </tr>\n",
       "    <tr>\n",
       "      <th>2</th>\n",
       "      <td>temperature</td>\n",
       "      <td>6.920877e+01</td>\n",
       "    </tr>\n",
       "    <tr>\n",
       "      <th>3</th>\n",
       "      <td>relative_humidity</td>\n",
       "      <td>5.048345e+00</td>\n",
       "    </tr>\n",
       "    <tr>\n",
       "      <th>4</th>\n",
       "      <td>wind_speed</td>\n",
       "      <td>-1.274645e+01</td>\n",
       "    </tr>\n",
       "    <tr>\n",
       "      <th>5</th>\n",
       "      <td>precipitation</td>\n",
       "      <td>-6.536993e-13</td>\n",
       "    </tr>\n",
       "    <tr>\n",
       "      <th>6</th>\n",
       "      <td>precipitation_cover</td>\n",
       "      <td>2.273737e-13</td>\n",
       "    </tr>\n",
       "    <tr>\n",
       "      <th>7</th>\n",
       "      <td>cloud_cover</td>\n",
       "      <td>-1.335731e+01</td>\n",
       "    </tr>\n",
       "    <tr>\n",
       "      <th>8</th>\n",
       "      <td>overcast</td>\n",
       "      <td>1.103646e+03</td>\n",
       "    </tr>\n",
       "    <tr>\n",
       "      <th>9</th>\n",
       "      <td>partially_cloudy</td>\n",
       "      <td>7.685363e+02</td>\n",
       "    </tr>\n",
       "    <tr>\n",
       "      <th>10</th>\n",
       "      <td>rain</td>\n",
       "      <td>0.000000e+00</td>\n",
       "    </tr>\n",
       "    <tr>\n",
       "      <th>11</th>\n",
       "      <td>event</td>\n",
       "      <td>0.000000e+00</td>\n",
       "    </tr>\n",
       "  </tbody>\n",
       "</table>\n",
       "</div>"
      ],
      "text/plain": [
       "                      0             1\n",
       "0                   age  4.670261e+02\n",
       "1                  male -1.455646e+03\n",
       "2           temperature  6.920877e+01\n",
       "3     relative_humidity  5.048345e+00\n",
       "4            wind_speed -1.274645e+01\n",
       "5         precipitation -6.536993e-13\n",
       "6   precipitation_cover  2.273737e-13\n",
       "7           cloud_cover -1.335731e+01\n",
       "8              overcast  1.103646e+03\n",
       "9      partially_cloudy  7.685363e+02\n",
       "10                 rain  0.000000e+00\n",
       "11                event  0.000000e+00"
      ]
     },
     "execution_count": 11,
     "metadata": {},
     "output_type": "execute_result"
    }
   ],
   "source": [
    "pd.DataFrame(list(zip(X_test.columns,lr.coef_)))"
   ]
  },
  {
   "cell_type": "code",
   "execution_count": 12,
   "id": "55697383-d55f-46ef-bf69-5089863ea239",
   "metadata": {},
   "outputs": [
    {
     "name": "stdout",
     "output_type": "stream",
     "text": [
      "R2: 0.8727267283684006\n",
      "MAE: 476.75164008732094\n",
      "MSE: 355137.6957471701\n",
      "RMSE: 595.9343048920493\n"
     ]
    }
   ],
   "source": [
    "train = chicago[chicago.index.isin(range(2017), level=0)]\n",
    "test = chicago[chicago.index.isin([2017, 2018], level=0)]\n",
    "\n",
    "X_train = train.drop(columns = ['time_seconds', 'clear'])\n",
    "X_test = test.drop(columns = ['time_seconds', 'clear'])\n",
    "\n",
    "y_train = train['time_seconds']\n",
    "y_test = test['time_seconds']\n",
    "\n",
    "lr = LinearRegression()\n",
    "lr.fit(X_train, y_train)\n",
    "model_scores(X_test, y_test, lr)"
   ]
  },
  {
   "cell_type": "code",
   "execution_count": 13,
   "id": "9845c890-d273-484a-9820-bbf3a59e170f",
   "metadata": {},
   "outputs": [
    {
     "data": {
      "text/html": [
       "<div>\n",
       "<style scoped>\n",
       "    .dataframe tbody tr th:only-of-type {\n",
       "        vertical-align: middle;\n",
       "    }\n",
       "\n",
       "    .dataframe tbody tr th {\n",
       "        vertical-align: top;\n",
       "    }\n",
       "\n",
       "    .dataframe thead th {\n",
       "        text-align: right;\n",
       "    }\n",
       "</style>\n",
       "<table border=\"1\" class=\"dataframe\">\n",
       "  <thead>\n",
       "    <tr style=\"text-align: right;\">\n",
       "      <th></th>\n",
       "      <th>0</th>\n",
       "      <th>1</th>\n",
       "    </tr>\n",
       "  </thead>\n",
       "  <tbody>\n",
       "    <tr>\n",
       "      <th>0</th>\n",
       "      <td>age</td>\n",
       "      <td>447.221232</td>\n",
       "    </tr>\n",
       "    <tr>\n",
       "      <th>1</th>\n",
       "      <td>male</td>\n",
       "      <td>-1535.602797</td>\n",
       "    </tr>\n",
       "    <tr>\n",
       "      <th>2</th>\n",
       "      <td>temperature</td>\n",
       "      <td>45.002944</td>\n",
       "    </tr>\n",
       "    <tr>\n",
       "      <th>3</th>\n",
       "      <td>relative_humidity</td>\n",
       "      <td>-8.631163</td>\n",
       "    </tr>\n",
       "    <tr>\n",
       "      <th>4</th>\n",
       "      <td>wind_speed</td>\n",
       "      <td>-58.098825</td>\n",
       "    </tr>\n",
       "    <tr>\n",
       "      <th>5</th>\n",
       "      <td>precipitation</td>\n",
       "      <td>-0.009502</td>\n",
       "    </tr>\n",
       "    <tr>\n",
       "      <th>6</th>\n",
       "      <td>precipitation_cover</td>\n",
       "      <td>-9.501577</td>\n",
       "    </tr>\n",
       "    <tr>\n",
       "      <th>7</th>\n",
       "      <td>cloud_cover</td>\n",
       "      <td>16.083448</td>\n",
       "    </tr>\n",
       "    <tr>\n",
       "      <th>8</th>\n",
       "      <td>overcast</td>\n",
       "      <td>-458.174109</td>\n",
       "    </tr>\n",
       "    <tr>\n",
       "      <th>9</th>\n",
       "      <td>partially_cloudy</td>\n",
       "      <td>-795.303901</td>\n",
       "    </tr>\n",
       "    <tr>\n",
       "      <th>10</th>\n",
       "      <td>rain</td>\n",
       "      <td>-0.950158</td>\n",
       "    </tr>\n",
       "    <tr>\n",
       "      <th>11</th>\n",
       "      <td>event</td>\n",
       "      <td>0.000000</td>\n",
       "    </tr>\n",
       "  </tbody>\n",
       "</table>\n",
       "</div>"
      ],
      "text/plain": [
       "                      0            1\n",
       "0                   age   447.221232\n",
       "1                  male -1535.602797\n",
       "2           temperature    45.002944\n",
       "3     relative_humidity    -8.631163\n",
       "4            wind_speed   -58.098825\n",
       "5         precipitation    -0.009502\n",
       "6   precipitation_cover    -9.501577\n",
       "7           cloud_cover    16.083448\n",
       "8              overcast  -458.174109\n",
       "9      partially_cloudy  -795.303901\n",
       "10                 rain    -0.950158\n",
       "11                event     0.000000"
      ]
     },
     "execution_count": 13,
     "metadata": {},
     "output_type": "execute_result"
    }
   ],
   "source": [
    "pd.DataFrame(list(zip(X_test.columns,lr.coef_)))"
   ]
  },
  {
   "cell_type": "code",
   "execution_count": 14,
   "id": "ba6503a5-c8ce-4a12-878c-3f5f9e6759de",
   "metadata": {},
   "outputs": [
    {
     "name": "stdout",
     "output_type": "stream",
     "text": [
      "R2: 0.3025721670668655\n",
      "MAE: 1721.7268557546429\n",
      "MSE: 3811689.766792224\n",
      "RMSE: 1952.3549284882151\n"
     ]
    }
   ],
   "source": [
    "train = combined[combined.index.isin(range(2017), level=0)]\n",
    "test = combined[combined.index.isin([2017, 2018], level=0)]\n",
    "\n",
    "X_train = train.drop(columns = ['time_seconds', 'clear'])\n",
    "X_test = test.drop(columns = ['time_seconds', 'clear'])\n",
    "\n",
    "y_train = train['time_seconds']\n",
    "y_test = test['time_seconds']\n",
    "\n",
    "lr = LinearRegression()\n",
    "lr.fit(X_train, y_train)\n",
    "model_scores(X_test, y_test, lr)"
   ]
  },
  {
   "cell_type": "code",
   "execution_count": 15,
   "id": "f59749f5-2514-4bea-90d5-4eca7458ffe2",
   "metadata": {},
   "outputs": [
    {
     "data": {
      "text/html": [
       "<div>\n",
       "<style scoped>\n",
       "    .dataframe tbody tr th:only-of-type {\n",
       "        vertical-align: middle;\n",
       "    }\n",
       "\n",
       "    .dataframe tbody tr th {\n",
       "        vertical-align: top;\n",
       "    }\n",
       "\n",
       "    .dataframe thead th {\n",
       "        text-align: right;\n",
       "    }\n",
       "</style>\n",
       "<table border=\"1\" class=\"dataframe\">\n",
       "  <thead>\n",
       "    <tr style=\"text-align: right;\">\n",
       "      <th></th>\n",
       "      <th>0</th>\n",
       "      <th>1</th>\n",
       "    </tr>\n",
       "  </thead>\n",
       "  <tbody>\n",
       "    <tr>\n",
       "      <th>0</th>\n",
       "      <td>age</td>\n",
       "      <td>411.122336</td>\n",
       "    </tr>\n",
       "    <tr>\n",
       "      <th>1</th>\n",
       "      <td>male</td>\n",
       "      <td>-1334.361499</td>\n",
       "    </tr>\n",
       "    <tr>\n",
       "      <th>2</th>\n",
       "      <td>temperature</td>\n",
       "      <td>44.435123</td>\n",
       "    </tr>\n",
       "    <tr>\n",
       "      <th>3</th>\n",
       "      <td>relative_humidity</td>\n",
       "      <td>-16.293453</td>\n",
       "    </tr>\n",
       "    <tr>\n",
       "      <th>4</th>\n",
       "      <td>wind_speed</td>\n",
       "      <td>-51.240033</td>\n",
       "    </tr>\n",
       "    <tr>\n",
       "      <th>5</th>\n",
       "      <td>precipitation</td>\n",
       "      <td>-31.918961</td>\n",
       "    </tr>\n",
       "    <tr>\n",
       "      <th>6</th>\n",
       "      <td>precipitation_cover</td>\n",
       "      <td>-21.109005</td>\n",
       "    </tr>\n",
       "    <tr>\n",
       "      <th>7</th>\n",
       "      <td>cloud_cover</td>\n",
       "      <td>-2.994308</td>\n",
       "    </tr>\n",
       "    <tr>\n",
       "      <th>8</th>\n",
       "      <td>overcast</td>\n",
       "      <td>-824.905476</td>\n",
       "    </tr>\n",
       "    <tr>\n",
       "      <th>9</th>\n",
       "      <td>partially_cloudy</td>\n",
       "      <td>59.542532</td>\n",
       "    </tr>\n",
       "    <tr>\n",
       "      <th>10</th>\n",
       "      <td>rain</td>\n",
       "      <td>2107.506216</td>\n",
       "    </tr>\n",
       "    <tr>\n",
       "      <th>11</th>\n",
       "      <td>event</td>\n",
       "      <td>-505.231833</td>\n",
       "    </tr>\n",
       "  </tbody>\n",
       "</table>\n",
       "</div>"
      ],
      "text/plain": [
       "                      0            1\n",
       "0                   age   411.122336\n",
       "1                  male -1334.361499\n",
       "2           temperature    44.435123\n",
       "3     relative_humidity   -16.293453\n",
       "4            wind_speed   -51.240033\n",
       "5         precipitation   -31.918961\n",
       "6   precipitation_cover   -21.109005\n",
       "7           cloud_cover    -2.994308\n",
       "8              overcast  -824.905476\n",
       "9      partially_cloudy    59.542532\n",
       "10                 rain  2107.506216\n",
       "11                event  -505.231833"
      ]
     },
     "execution_count": 15,
     "metadata": {},
     "output_type": "execute_result"
    }
   ],
   "source": [
    "pd.DataFrame(list(zip(X_test.columns,lr.coef_)))"
   ]
  },
  {
   "cell_type": "markdown",
   "id": "f5e3792d-33c5-4ce1-8391-1aeb91e5b1c6",
   "metadata": {},
   "source": [
    "## Continuation"
   ]
  },
  {
   "cell_type": "code",
   "execution_count": 79,
   "id": "7b600382-8122-4e52-8d78-8692417e9afa",
   "metadata": {},
   "outputs": [],
   "source": [
    "cols = ['temperature', 'relative_humidity',\n",
    "       'wind_speed', 'precipitation', 'precipitation_cover', 'cloud_cover',\n",
    "       'clear', 'overcast', 'partially_cloudy', 'rain', 'event']\n",
    "yr = 2015"
   ]
  },
  {
   "cell_type": "code",
   "execution_count": 80,
   "id": "4c81ae3b-c63c-4ab4-8eb3-24d75055fd0e",
   "metadata": {},
   "outputs": [],
   "source": [
    "london_train = london[london.index.isin(range(yr), level=0)]\n",
    "london_test = london[london.index.isin(range(yr, 2019), level=0)]\n",
    "\n",
    "results = {}\n",
    "best_london = {}\n",
    "\n",
    "for i in range(len(cols)):\n",
    "    for combo in itertools.combinations(cols, i):\n",
    "        drop_cols = list(combo)\n",
    "        drop_cols.append('time_seconds')\n",
    "\n",
    "        X_train = london_train.drop(columns=drop_cols)\n",
    "        y_train = london_train['time_seconds']\n",
    "\n",
    "        X_test = london_test.drop(columns=drop_cols)\n",
    "        y_test = london_test['time_seconds']\n",
    "\n",
    "        lr = LinearRegression()\n",
    "        lr.fit(X_train, y_train)\n",
    "\n",
    "        preds = lr.predict(X_test)\n",
    "        results[mean_squared_error(y_test, preds, squared=False)] = drop_cols\n",
    "\n",
    "    best_london[min(results.keys())] = results[min(results.keys())]"
   ]
  },
  {
   "cell_type": "code",
   "execution_count": 81,
   "id": "21309266-aa02-4c6c-baaa-0fcdff84540a",
   "metadata": {},
   "outputs": [
    {
     "data": {
      "text/plain": [
       "567.4712723177524"
      ]
     },
     "execution_count": 81,
     "metadata": {},
     "output_type": "execute_result"
    }
   ],
   "source": [
    "min(best_london.keys())"
   ]
  },
  {
   "cell_type": "code",
   "execution_count": 82,
   "id": "1b3bbc3c-e713-4908-aea0-c69ce3553d03",
   "metadata": {},
   "outputs": [
    {
     "data": {
      "text/plain": [
       "['relative_humidity',\n",
       " 'precipitation',\n",
       " 'precipitation_cover',\n",
       " 'cloud_cover',\n",
       " 'clear',\n",
       " 'rain',\n",
       " 'event',\n",
       " 'time_seconds']"
      ]
     },
     "execution_count": 82,
     "metadata": {},
     "output_type": "execute_result"
    }
   ],
   "source": [
    "best_london[min(best_london.keys())]"
   ]
  },
  {
   "cell_type": "code",
   "execution_count": 83,
   "id": "7239cd51-f98a-4550-8a72-e16ba1e9bdda",
   "metadata": {},
   "outputs": [],
   "source": [
    "chicago_train = chicago[chicago.index.isin(range(yr), level=0)]\n",
    "chicago_test = chicago[chicago.index.isin(range(yr, 2019), level=0)]\n",
    "\n",
    "\n",
    "results = {}\n",
    "best_chicago = {}\n",
    "\n",
    "for i in range(len(cols)):\n",
    "    for combo in itertools.combinations(cols, i):\n",
    "        drop_cols = list(combo)\n",
    "        drop_cols.append('time_seconds')\n",
    "\n",
    "        X_train = chicago_train.drop(columns=drop_cols)\n",
    "        y_train = chicago_train['time_seconds']\n",
    "\n",
    "        X_test = chicago_test.drop(columns=drop_cols)\n",
    "        y_test = chicago_test['time_seconds']\n",
    "\n",
    "        lr = LinearRegression()\n",
    "        lr.fit(X_train, y_train)\n",
    "\n",
    "        preds = lr.predict(X_test)\n",
    "        results[mean_squared_error(y_test, preds, squared=False)] = drop_cols\n",
    "\n",
    "    best_chicago[min(results.keys())] = results[min(results.keys())]"
   ]
  },
  {
   "cell_type": "code",
   "execution_count": 84,
   "id": "23601ccb-5adb-44f1-958d-ee59b5ed503b",
   "metadata": {},
   "outputs": [
    {
     "data": {
      "text/plain": [
       "584.0171471028609"
      ]
     },
     "execution_count": 84,
     "metadata": {},
     "output_type": "execute_result"
    }
   ],
   "source": [
    "min(best_chicago.keys())"
   ]
  },
  {
   "cell_type": "code",
   "execution_count": 85,
   "id": "3908ca61-2a68-44af-a64c-83da6679f78c",
   "metadata": {},
   "outputs": [
    {
     "data": {
      "text/plain": [
       "['relative_humidity',\n",
       " 'wind_speed',\n",
       " 'precipitation',\n",
       " 'overcast',\n",
       " 'partially_cloudy',\n",
       " 'time_seconds']"
      ]
     },
     "execution_count": 85,
     "metadata": {},
     "output_type": "execute_result"
    }
   ],
   "source": [
    "best_chicago[min(best_chicago.keys())]"
   ]
  },
  {
   "cell_type": "code",
   "execution_count": 86,
   "id": "928487f9-c1d2-4c91-8372-c2223790e65a",
   "metadata": {},
   "outputs": [],
   "source": [
    "nyc_train = nyc[nyc.index.isin(range(yr), level=0)]\n",
    "nyc_test = nyc[nyc.index.isin(range(yr, 2019), level=0)]\n",
    "\n",
    "\n",
    "results = {}\n",
    "best_nyc = {}\n",
    "\n",
    "for i in range(len(cols)):\n",
    "    for combo in itertools.combinations(cols, i):\n",
    "        drop_cols = list(combo)\n",
    "        drop_cols.append('time_seconds')\n",
    "        \n",
    "        X_train = nyc_train.drop(columns=drop_cols)\n",
    "        y_train = nyc_train['time_seconds']\n",
    "\n",
    "        X_test = nyc_test.drop(columns=drop_cols)\n",
    "        y_test = nyc_test['time_seconds']\n",
    "\n",
    "        lr = LinearRegression()\n",
    "        lr.fit(X_train, y_train)\n",
    "\n",
    "        preds = lr.predict(X_test)\n",
    "        results[mean_squared_error(y_test, preds, squared=False)] = drop_cols\n",
    "\n",
    "    best_nyc[min(results.keys())] = results[min(results.keys())]"
   ]
  },
  {
   "cell_type": "code",
   "execution_count": 87,
   "id": "76424959-91f0-4a56-bec4-a90425d095a4",
   "metadata": {},
   "outputs": [
    {
     "data": {
      "text/plain": [
       "322.0221033970261"
      ]
     },
     "execution_count": 87,
     "metadata": {},
     "output_type": "execute_result"
    }
   ],
   "source": [
    "min(best_nyc.keys())"
   ]
  },
  {
   "cell_type": "code",
   "execution_count": 88,
   "id": "92ba1fda-d9f7-4490-b451-905ed66aa71e",
   "metadata": {},
   "outputs": [
    {
     "data": {
      "text/plain": [
       "['temperature',\n",
       " 'precipitation',\n",
       " 'cloud_cover',\n",
       " 'clear',\n",
       " 'overcast',\n",
       " 'time_seconds']"
      ]
     },
     "execution_count": 88,
     "metadata": {},
     "output_type": "execute_result"
    }
   ],
   "source": [
    "best_nyc[min(best_nyc.keys())]"
   ]
  },
  {
   "cell_type": "code",
   "execution_count": 89,
   "id": "7711b549-a8a2-4957-aac1-b193a4940137",
   "metadata": {},
   "outputs": [],
   "source": [
    "berlin_train = berlin[berlin.index.isin(range(yr), level=0)]\n",
    "berlin_test = berlin[berlin.index.isin(range(yr, 2019), level=0)]\n",
    "\n",
    "results = {}\n",
    "best_berlin = {}\n",
    "\n",
    "for i in range(len(cols)):\n",
    "    for combo in itertools.combinations(cols, i):\n",
    "        drop_cols = list(combo)\n",
    "        drop_cols.append('time_seconds')\n",
    "        \n",
    "        X_train = berlin_train.drop(columns=drop_cols)\n",
    "        y_train = berlin_train['time_seconds']\n",
    "\n",
    "        X_test = berlin_test.drop(columns=drop_cols)\n",
    "        y_test = berlin_test['time_seconds']\n",
    "\n",
    "        lr = LinearRegression()\n",
    "        lr.fit(X_train, y_train)\n",
    "\n",
    "        preds = lr.predict(X_test)\n",
    "        results[mean_squared_error(y_test, preds, squared=False)] = drop_cols\n",
    "\n",
    "    best_berlin[min(results.keys())] = results[min(results.keys())]"
   ]
  },
  {
   "cell_type": "code",
   "execution_count": 90,
   "id": "4467029c-101e-44ab-b260-651f6920100f",
   "metadata": {},
   "outputs": [
    {
     "data": {
      "text/plain": [
       "841.3942830629142"
      ]
     },
     "execution_count": 90,
     "metadata": {},
     "output_type": "execute_result"
    }
   ],
   "source": [
    "min(best_berlin.keys())"
   ]
  },
  {
   "cell_type": "code",
   "execution_count": 91,
   "id": "7ee0b6db-2434-48ad-b501-5fa9e593b732",
   "metadata": {},
   "outputs": [
    {
     "data": {
      "text/plain": [
       "['relative_humidity',\n",
       " 'cloud_cover',\n",
       " 'overcast',\n",
       " 'partially_cloudy',\n",
       " 'time_seconds']"
      ]
     },
     "execution_count": 91,
     "metadata": {},
     "output_type": "execute_result"
    }
   ],
   "source": [
    "best_berlin[min(best_berlin.keys())]"
   ]
  },
  {
   "cell_type": "code",
   "execution_count": 92,
   "id": "35970a91-c99b-45cd-a897-f473b059911e",
   "metadata": {},
   "outputs": [],
   "source": [
    "boston_train = boston[boston.index.isin(range(yr), level=0)]\n",
    "boston_test = boston[boston.index.isin(range(yr, 2019), level=0)]\n",
    "\n",
    "\n",
    "results = {}\n",
    "best_boston = {}\n",
    "\n",
    "for i in range(len(cols)):\n",
    "    for combo in itertools.combinations(cols, i):\n",
    "        drop_cols = list(combo)\n",
    "        drop_cols.append('time_seconds')\n",
    "\n",
    "        X_train = boston_train.drop(columns=drop_cols)\n",
    "        y_train = boston_train['time_seconds']\n",
    "\n",
    "        X_test = boston_test.drop(columns=drop_cols)\n",
    "        y_test = boston_test['time_seconds']\n",
    "\n",
    "        lr = LinearRegression()\n",
    "        lr.fit(X_train, y_train)\n",
    "\n",
    "        preds = lr.predict(X_test)\n",
    "        results[mean_squared_error(y_test, preds, squared=False)] = drop_cols\n",
    "\n",
    "    best_boston[min(results.keys())] = results[min(results.keys())]"
   ]
  },
  {
   "cell_type": "code",
   "execution_count": 93,
   "id": "91b05dfa-90f2-46c2-889b-2d0cf395ea2d",
   "metadata": {},
   "outputs": [
    {
     "data": {
      "text/plain": [
       "522.171829854125"
      ]
     },
     "execution_count": 93,
     "metadata": {},
     "output_type": "execute_result"
    }
   ],
   "source": [
    "min(best_boston.keys())"
   ]
  },
  {
   "cell_type": "code",
   "execution_count": 94,
   "id": "d2dd0e17-d7fc-4b0e-bfb3-fad8f656c387",
   "metadata": {},
   "outputs": [
    {
     "data": {
      "text/plain": [
       "['temperature',\n",
       " 'relative_humidity',\n",
       " 'wind_speed',\n",
       " 'cloud_cover',\n",
       " 'clear',\n",
       " 'overcast',\n",
       " 'partially_cloudy',\n",
       " 'rain',\n",
       " 'event',\n",
       " 'time_seconds']"
      ]
     },
     "execution_count": 94,
     "metadata": {},
     "output_type": "execute_result"
    }
   ],
   "source": [
    "best_boston[min(best_boston.keys())]"
   ]
  },
  {
   "cell_type": "code",
   "execution_count": 95,
   "id": "655ed1fc-46c3-4069-b7a3-8d2301b47453",
   "metadata": {},
   "outputs": [],
   "source": [
    "combined_train = combined[combined.index.isin(range(yr), level=0)]\n",
    "combined_test = combined[combined.index.isin(range(yr,2019), level=0)]\n",
    "\n",
    "results = {}\n",
    "best_combined = {}\n",
    "\n",
    "for i in range(len(cols)):\n",
    "    for combo in itertools.combinations(cols, i):\n",
    "        drop_cols = list(combo)\n",
    "        drop_cols.append('time_seconds')\n",
    "\n",
    "        X_train = combined_train.drop(columns=drop_cols)\n",
    "        y_train = combined_train['time_seconds']\n",
    "\n",
    "        X_test = combined_test.drop(columns=drop_cols)\n",
    "        y_test = combined_test['time_seconds']\n",
    "\n",
    "        lr = LinearRegression()\n",
    "        lr.fit(X_train, y_train)\n",
    "\n",
    "        preds = lr.predict(X_test)\n",
    "\n",
    "        results[mean_squared_error(y_test, preds, squared=False)] = drop_cols\n",
    "\n",
    "    best_combined[min(results.keys())] = results[min(results.keys())] "
   ]
  },
  {
   "cell_type": "code",
   "execution_count": 96,
   "id": "c8eabf1e-9eb5-449d-8e6e-d3b8f555320e",
   "metadata": {},
   "outputs": [
    {
     "data": {
      "text/plain": [
       "1477.9707092980796"
      ]
     },
     "execution_count": 96,
     "metadata": {},
     "output_type": "execute_result"
    }
   ],
   "source": [
    "min(best_combined.keys())"
   ]
  },
  {
   "cell_type": "code",
   "execution_count": 97,
   "id": "7bb6f619-6885-4b02-855f-3273d3a63cff",
   "metadata": {},
   "outputs": [
    {
     "data": {
      "text/plain": [
       "['relative_humidity',\n",
       " 'precipitation',\n",
       " 'precipitation_cover',\n",
       " 'clear',\n",
       " 'overcast',\n",
       " 'partially_cloudy',\n",
       " 'time_seconds']"
      ]
     },
     "execution_count": 97,
     "metadata": {},
     "output_type": "execute_result"
    }
   ],
   "source": [
    "best_combined[min(best_combined.keys())]"
   ]
  },
  {
   "cell_type": "markdown",
   "id": "a6b7a4d9-ad1d-45e3-bd19-9062729faea9",
   "metadata": {
    "tags": []
   },
   "source": [
    "### Best Scores/Coefs"
   ]
  },
  {
   "cell_type": "code",
   "execution_count": 98,
   "id": "56ed66a5-d6b5-4553-834f-0e01b96a3870",
   "metadata": {},
   "outputs": [
    {
     "name": "stdout",
     "output_type": "stream",
     "text": [
      "Train R2: 0.6860704822668877\n",
      "R2: 0.6993935836691532\n",
      "MAE: 704.4130294238205\n",
      "MSE: 707944.3395709554\n",
      "RMSE: 841.3942830629142\n"
     ]
    }
   ],
   "source": [
    "X_train = berlin_train.drop(columns=best_berlin[min(best_berlin.keys())])\n",
    "y_train = berlin_train['time_seconds']\n",
    "\n",
    "X_test = berlin_test.drop(columns=best_berlin[min(best_berlin.keys())])\n",
    "y_test = berlin_test['time_seconds']\n",
    "\n",
    "lr = LinearRegression()\n",
    "lr.fit(X_train, y_train)\n",
    "\n",
    "print(f'Train R2: {lr.score(X_train, y_train)}')\n",
    "model_scores(X_test, y_test, lr)"
   ]
  },
  {
   "cell_type": "code",
   "execution_count": 99,
   "id": "5a4ec38f-be8b-4f0a-b9d6-a0ef02d556a4",
   "metadata": {},
   "outputs": [
    {
     "data": {
      "text/html": [
       "<div>\n",
       "<style scoped>\n",
       "    .dataframe tbody tr th:only-of-type {\n",
       "        vertical-align: middle;\n",
       "    }\n",
       "\n",
       "    .dataframe tbody tr th {\n",
       "        vertical-align: top;\n",
       "    }\n",
       "\n",
       "    .dataframe thead th {\n",
       "        text-align: right;\n",
       "    }\n",
       "</style>\n",
       "<table border=\"1\" class=\"dataframe\">\n",
       "  <thead>\n",
       "    <tr style=\"text-align: right;\">\n",
       "      <th></th>\n",
       "      <th>0</th>\n",
       "      <th>1</th>\n",
       "    </tr>\n",
       "  </thead>\n",
       "  <tbody>\n",
       "    <tr>\n",
       "      <th>0</th>\n",
       "      <td>age</td>\n",
       "      <td>459.248855</td>\n",
       "    </tr>\n",
       "    <tr>\n",
       "      <th>1</th>\n",
       "      <td>male</td>\n",
       "      <td>-1447.364734</td>\n",
       "    </tr>\n",
       "    <tr>\n",
       "      <th>2</th>\n",
       "      <td>temperature</td>\n",
       "      <td>60.564108</td>\n",
       "    </tr>\n",
       "    <tr>\n",
       "      <th>3</th>\n",
       "      <td>wind_speed</td>\n",
       "      <td>-17.687810</td>\n",
       "    </tr>\n",
       "    <tr>\n",
       "      <th>4</th>\n",
       "      <td>precipitation</td>\n",
       "      <td>0.000000</td>\n",
       "    </tr>\n",
       "    <tr>\n",
       "      <th>5</th>\n",
       "      <td>precipitation_cover</td>\n",
       "      <td>0.000000</td>\n",
       "    </tr>\n",
       "    <tr>\n",
       "      <th>6</th>\n",
       "      <td>clear</td>\n",
       "      <td>-131.698396</td>\n",
       "    </tr>\n",
       "    <tr>\n",
       "      <th>7</th>\n",
       "      <td>rain</td>\n",
       "      <td>0.000000</td>\n",
       "    </tr>\n",
       "    <tr>\n",
       "      <th>8</th>\n",
       "      <td>event</td>\n",
       "      <td>0.000000</td>\n",
       "    </tr>\n",
       "  </tbody>\n",
       "</table>\n",
       "</div>"
      ],
      "text/plain": [
       "                     0            1\n",
       "0                  age   459.248855\n",
       "1                 male -1447.364734\n",
       "2          temperature    60.564108\n",
       "3           wind_speed   -17.687810\n",
       "4        precipitation     0.000000\n",
       "5  precipitation_cover     0.000000\n",
       "6                clear  -131.698396\n",
       "7                 rain     0.000000\n",
       "8                event     0.000000"
      ]
     },
     "execution_count": 99,
     "metadata": {},
     "output_type": "execute_result"
    }
   ],
   "source": [
    "pd.DataFrame(list(zip(X_test.columns,lr.coef_)))"
   ]
  },
  {
   "cell_type": "code",
   "execution_count": 100,
   "id": "01d1b254-a1e8-4986-aeea-49c1c1f0248d",
   "metadata": {},
   "outputs": [
    {
     "name": "stdout",
     "output_type": "stream",
     "text": [
      "Train R2: 0.6654762189610279\n",
      "R2: 0.9171493942450878\n",
      "MAE: 419.71308700026304\n",
      "MSE: 272663.4198932053\n",
      "RMSE: 522.171829854125\n"
     ]
    }
   ],
   "source": [
    "X_train = boston_train.drop(columns=best_boston[min(best_boston.keys())])\n",
    "y_train = boston_train['time_seconds']\n",
    "\n",
    "X_test = boston_test.drop(columns=best_boston[min(best_boston.keys())])\n",
    "y_test = boston_test['time_seconds']\n",
    "\n",
    "lr = LinearRegression()\n",
    "lr.fit(X_train, y_train)\n",
    "\n",
    "print(f'Train R2: {lr.score(X_train, y_train)}')\n",
    "model_scores(X_test, y_test, lr)"
   ]
  },
  {
   "cell_type": "code",
   "execution_count": 101,
   "id": "f48aaf6b-011d-480b-9a38-f3bcd2247ad3",
   "metadata": {},
   "outputs": [
    {
     "data": {
      "text/html": [
       "<div>\n",
       "<style scoped>\n",
       "    .dataframe tbody tr th:only-of-type {\n",
       "        vertical-align: middle;\n",
       "    }\n",
       "\n",
       "    .dataframe tbody tr th {\n",
       "        vertical-align: top;\n",
       "    }\n",
       "\n",
       "    .dataframe thead th {\n",
       "        text-align: right;\n",
       "    }\n",
       "</style>\n",
       "<table border=\"1\" class=\"dataframe\">\n",
       "  <thead>\n",
       "    <tr style=\"text-align: right;\">\n",
       "      <th></th>\n",
       "      <th>0</th>\n",
       "      <th>1</th>\n",
       "    </tr>\n",
       "  </thead>\n",
       "  <tbody>\n",
       "    <tr>\n",
       "      <th>0</th>\n",
       "      <td>age</td>\n",
       "      <td>596.311923</td>\n",
       "    </tr>\n",
       "    <tr>\n",
       "      <th>1</th>\n",
       "      <td>male</td>\n",
       "      <td>-1442.261933</td>\n",
       "    </tr>\n",
       "    <tr>\n",
       "      <th>2</th>\n",
       "      <td>precipitation</td>\n",
       "      <td>1827.722856</td>\n",
       "    </tr>\n",
       "    <tr>\n",
       "      <th>3</th>\n",
       "      <td>precipitation_cover</td>\n",
       "      <td>-13.493588</td>\n",
       "    </tr>\n",
       "  </tbody>\n",
       "</table>\n",
       "</div>"
      ],
      "text/plain": [
       "                     0            1\n",
       "0                  age   596.311923\n",
       "1                 male -1442.261933\n",
       "2        precipitation  1827.722856\n",
       "3  precipitation_cover   -13.493588"
      ]
     },
     "execution_count": 101,
     "metadata": {},
     "output_type": "execute_result"
    }
   ],
   "source": [
    "pd.DataFrame(list(zip(X_test.columns,lr.coef_)))"
   ]
  },
  {
   "cell_type": "code",
   "execution_count": 102,
   "id": "4af31e59-0763-4aa5-99c4-543f1e8e62c6",
   "metadata": {},
   "outputs": [
    {
     "name": "stdout",
     "output_type": "stream",
     "text": [
      "Train R2: 0.742981520801216\n",
      "R2: 0.8632554596342361\n",
      "MAE: 427.86580937953454\n",
      "MSE: 341076.0281101646\n",
      "RMSE: 584.0171471028609\n"
     ]
    }
   ],
   "source": [
    "X_train = chicago_train.drop(columns=best_chicago[min(best_chicago.keys())])\n",
    "y_train = chicago_train['time_seconds']\n",
    "\n",
    "X_test = chicago_test.drop(columns=best_chicago[min(best_chicago.keys())])\n",
    "y_test = chicago_test['time_seconds']\n",
    "\n",
    "lr = LinearRegression()\n",
    "lr.fit(X_train, y_train)\n",
    "\n",
    "print(f'Train R2: {lr.score(X_train, y_train)}')\n",
    "model_scores(X_test, y_test, lr)"
   ]
  },
  {
   "cell_type": "code",
   "execution_count": 103,
   "id": "f227c71d-ed3c-42ce-bbbd-45d65815709b",
   "metadata": {},
   "outputs": [
    {
     "data": {
      "text/html": [
       "<div>\n",
       "<style scoped>\n",
       "    .dataframe tbody tr th:only-of-type {\n",
       "        vertical-align: middle;\n",
       "    }\n",
       "\n",
       "    .dataframe tbody tr th {\n",
       "        vertical-align: top;\n",
       "    }\n",
       "\n",
       "    .dataframe thead th {\n",
       "        text-align: right;\n",
       "    }\n",
       "</style>\n",
       "<table border=\"1\" class=\"dataframe\">\n",
       "  <thead>\n",
       "    <tr style=\"text-align: right;\">\n",
       "      <th></th>\n",
       "      <th>0</th>\n",
       "      <th>1</th>\n",
       "    </tr>\n",
       "  </thead>\n",
       "  <tbody>\n",
       "    <tr>\n",
       "      <th>0</th>\n",
       "      <td>age</td>\n",
       "      <td>437.896173</td>\n",
       "    </tr>\n",
       "    <tr>\n",
       "      <th>1</th>\n",
       "      <td>male</td>\n",
       "      <td>-1540.085387</td>\n",
       "    </tr>\n",
       "    <tr>\n",
       "      <th>2</th>\n",
       "      <td>temperature</td>\n",
       "      <td>41.137493</td>\n",
       "    </tr>\n",
       "    <tr>\n",
       "      <th>3</th>\n",
       "      <td>precipitation_cover</td>\n",
       "      <td>-36.429305</td>\n",
       "    </tr>\n",
       "    <tr>\n",
       "      <th>4</th>\n",
       "      <td>cloud_cover</td>\n",
       "      <td>20.045550</td>\n",
       "    </tr>\n",
       "    <tr>\n",
       "      <th>5</th>\n",
       "      <td>clear</td>\n",
       "      <td>871.455417</td>\n",
       "    </tr>\n",
       "    <tr>\n",
       "      <th>6</th>\n",
       "      <td>rain</td>\n",
       "      <td>-3.642931</td>\n",
       "    </tr>\n",
       "    <tr>\n",
       "      <th>7</th>\n",
       "      <td>event</td>\n",
       "      <td>0.000000</td>\n",
       "    </tr>\n",
       "  </tbody>\n",
       "</table>\n",
       "</div>"
      ],
      "text/plain": [
       "                     0            1\n",
       "0                  age   437.896173\n",
       "1                 male -1540.085387\n",
       "2          temperature    41.137493\n",
       "3  precipitation_cover   -36.429305\n",
       "4          cloud_cover    20.045550\n",
       "5                clear   871.455417\n",
       "6                 rain    -3.642931\n",
       "7                event     0.000000"
      ]
     },
     "execution_count": 103,
     "metadata": {},
     "output_type": "execute_result"
    }
   ],
   "source": [
    "pd.DataFrame(list(zip(X_test.columns,lr.coef_)))"
   ]
  },
  {
   "cell_type": "code",
   "execution_count": 104,
   "id": "6c8da5f2-6f97-4c43-bccd-17aaecce8c5c",
   "metadata": {},
   "outputs": [
    {
     "name": "stdout",
     "output_type": "stream",
     "text": [
      "Train R2: 0.803865223889333\n",
      "R2: 0.8712712264888957\n",
      "MAE: 479.6718084946103\n",
      "MSE: 322023.64490592876\n",
      "RMSE: 567.4712723177524\n"
     ]
    }
   ],
   "source": [
    "X_train = london_train.drop(columns=best_london[min(best_london.keys())])\n",
    "y_train = london_train['time_seconds']\n",
    "\n",
    "X_test = london_test.drop(columns=best_london[min(best_london.keys())])\n",
    "y_test = london_test['time_seconds']\n",
    "\n",
    "lr = LinearRegression()\n",
    "lr.fit(X_train, y_train)\n",
    "\n",
    "print(f'Train R2: {lr.score(X_train, y_train)}')\n",
    "model_scores(X_test, y_test, lr)"
   ]
  },
  {
   "cell_type": "code",
   "execution_count": 105,
   "id": "08b8a6fa-87ae-49e0-b6d6-269380a87684",
   "metadata": {},
   "outputs": [
    {
     "data": {
      "text/html": [
       "<div>\n",
       "<style scoped>\n",
       "    .dataframe tbody tr th:only-of-type {\n",
       "        vertical-align: middle;\n",
       "    }\n",
       "\n",
       "    .dataframe tbody tr th {\n",
       "        vertical-align: top;\n",
       "    }\n",
       "\n",
       "    .dataframe thead th {\n",
       "        text-align: right;\n",
       "    }\n",
       "</style>\n",
       "<table border=\"1\" class=\"dataframe\">\n",
       "  <thead>\n",
       "    <tr style=\"text-align: right;\">\n",
       "      <th></th>\n",
       "      <th>0</th>\n",
       "      <th>1</th>\n",
       "    </tr>\n",
       "  </thead>\n",
       "  <tbody>\n",
       "    <tr>\n",
       "      <th>0</th>\n",
       "      <td>age</td>\n",
       "      <td>454.840436</td>\n",
       "    </tr>\n",
       "    <tr>\n",
       "      <th>1</th>\n",
       "      <td>male</td>\n",
       "      <td>-1918.375980</td>\n",
       "    </tr>\n",
       "    <tr>\n",
       "      <th>2</th>\n",
       "      <td>temperature</td>\n",
       "      <td>53.225935</td>\n",
       "    </tr>\n",
       "    <tr>\n",
       "      <th>3</th>\n",
       "      <td>wind_speed</td>\n",
       "      <td>29.719154</td>\n",
       "    </tr>\n",
       "    <tr>\n",
       "      <th>4</th>\n",
       "      <td>overcast</td>\n",
       "      <td>0.000000</td>\n",
       "    </tr>\n",
       "    <tr>\n",
       "      <th>5</th>\n",
       "      <td>partially_cloudy</td>\n",
       "      <td>82.970964</td>\n",
       "    </tr>\n",
       "  </tbody>\n",
       "</table>\n",
       "</div>"
      ],
      "text/plain": [
       "                  0            1\n",
       "0               age   454.840436\n",
       "1              male -1918.375980\n",
       "2       temperature    53.225935\n",
       "3        wind_speed    29.719154\n",
       "4          overcast     0.000000\n",
       "5  partially_cloudy    82.970964"
      ]
     },
     "execution_count": 105,
     "metadata": {},
     "output_type": "execute_result"
    }
   ],
   "source": [
    "pd.DataFrame(list(zip(X_test.columns,lr.coef_)))"
   ]
  },
  {
   "cell_type": "code",
   "execution_count": 106,
   "id": "26f70001-d2a3-4f44-9131-e98b28f3126d",
   "metadata": {},
   "outputs": [
    {
     "name": "stdout",
     "output_type": "stream",
     "text": [
      "Train R2: 0.33672554342767\n",
      "R2: 0.1805314887164069\n",
      "MAE: 283.0013953923912\n",
      "MSE: 103698.23507624498\n",
      "RMSE: 322.0221033970261\n"
     ]
    }
   ],
   "source": [
    "X_train = nyc_train.drop(columns=best_nyc[min(best_nyc.keys())])\n",
    "y_train = nyc_train['time_seconds']\n",
    "\n",
    "X_test = nyc_test.drop(columns=best_nyc[min(best_nyc.keys())])\n",
    "y_test = nyc_test['time_seconds']\n",
    "\n",
    "lr = LinearRegression()\n",
    "lr.fit(X_train, y_train)\n",
    "\n",
    "print(f'Train R2: {lr.score(X_train, y_train)}')\n",
    "model_scores(X_test, y_test, lr)"
   ]
  },
  {
   "cell_type": "code",
   "execution_count": 107,
   "id": "1f914cb0-4653-4f8c-8bd4-2ab5c86797c9",
   "metadata": {},
   "outputs": [
    {
     "data": {
      "text/html": [
       "<div>\n",
       "<style scoped>\n",
       "    .dataframe tbody tr th:only-of-type {\n",
       "        vertical-align: middle;\n",
       "    }\n",
       "\n",
       "    .dataframe tbody tr th {\n",
       "        vertical-align: top;\n",
       "    }\n",
       "\n",
       "    .dataframe thead th {\n",
       "        text-align: right;\n",
       "    }\n",
       "</style>\n",
       "<table border=\"1\" class=\"dataframe\">\n",
       "  <thead>\n",
       "    <tr style=\"text-align: right;\">\n",
       "      <th></th>\n",
       "      <th>0</th>\n",
       "      <th>1</th>\n",
       "    </tr>\n",
       "  </thead>\n",
       "  <tbody>\n",
       "    <tr>\n",
       "      <th>0</th>\n",
       "      <td>age</td>\n",
       "      <td>110.116709</td>\n",
       "    </tr>\n",
       "    <tr>\n",
       "      <th>1</th>\n",
       "      <td>male</td>\n",
       "      <td>-395.296192</td>\n",
       "    </tr>\n",
       "    <tr>\n",
       "      <th>2</th>\n",
       "      <td>relative_humidity</td>\n",
       "      <td>7.484337</td>\n",
       "    </tr>\n",
       "    <tr>\n",
       "      <th>3</th>\n",
       "      <td>wind_speed</td>\n",
       "      <td>15.232434</td>\n",
       "    </tr>\n",
       "    <tr>\n",
       "      <th>4</th>\n",
       "      <td>precipitation_cover</td>\n",
       "      <td>2.493454</td>\n",
       "    </tr>\n",
       "    <tr>\n",
       "      <th>5</th>\n",
       "      <td>partially_cloudy</td>\n",
       "      <td>31.192121</td>\n",
       "    </tr>\n",
       "    <tr>\n",
       "      <th>6</th>\n",
       "      <td>rain</td>\n",
       "      <td>-330.437723</td>\n",
       "    </tr>\n",
       "    <tr>\n",
       "      <th>7</th>\n",
       "      <td>event</td>\n",
       "      <td>0.000000</td>\n",
       "    </tr>\n",
       "  </tbody>\n",
       "</table>\n",
       "</div>"
      ],
      "text/plain": [
       "                     0           1\n",
       "0                  age  110.116709\n",
       "1                 male -395.296192\n",
       "2    relative_humidity    7.484337\n",
       "3           wind_speed   15.232434\n",
       "4  precipitation_cover    2.493454\n",
       "5     partially_cloudy   31.192121\n",
       "6                 rain -330.437723\n",
       "7                event    0.000000"
      ]
     },
     "execution_count": 107,
     "metadata": {},
     "output_type": "execute_result"
    }
   ],
   "source": [
    "pd.DataFrame(list(zip(X_test.columns,lr.coef_)))"
   ]
  },
  {
   "cell_type": "code",
   "execution_count": 108,
   "id": "bc5c0dc7-2f4b-4c73-8c36-ba199e905856",
   "metadata": {},
   "outputs": [
    {
     "name": "stdout",
     "output_type": "stream",
     "text": [
      "Train R2: 0.5069477484746175\n",
      "R2: 0.5646975650653245\n",
      "MAE: 1237.216875640227\n",
      "MSE: 2184397.4175430685\n",
      "RMSE: 1477.9707092980796\n"
     ]
    }
   ],
   "source": [
    "X_train = combined_train.drop(columns=best_combined[min(best_combined.keys())])\n",
    "y_train = combined_train['time_seconds']\n",
    "\n",
    "X_test = combined_test.drop(columns=best_combined[min(best_combined.keys())])\n",
    "y_test = combined_test['time_seconds']\n",
    "\n",
    "lr = LinearRegression()\n",
    "lr.fit(X_train, y_train)\n",
    "\n",
    "print(f'Train R2: {lr.score(X_train, y_train)}')\n",
    "model_scores(X_test, y_test, lr)"
   ]
  },
  {
   "cell_type": "code",
   "execution_count": 109,
   "id": "58e6eec3-ab00-490d-a2e2-6bbba73608ef",
   "metadata": {},
   "outputs": [
    {
     "data": {
      "text/html": [
       "<div>\n",
       "<style scoped>\n",
       "    .dataframe tbody tr th:only-of-type {\n",
       "        vertical-align: middle;\n",
       "    }\n",
       "\n",
       "    .dataframe tbody tr th {\n",
       "        vertical-align: top;\n",
       "    }\n",
       "\n",
       "    .dataframe thead th {\n",
       "        text-align: right;\n",
       "    }\n",
       "</style>\n",
       "<table border=\"1\" class=\"dataframe\">\n",
       "  <thead>\n",
       "    <tr style=\"text-align: right;\">\n",
       "      <th></th>\n",
       "      <th>0</th>\n",
       "      <th>1</th>\n",
       "    </tr>\n",
       "  </thead>\n",
       "  <tbody>\n",
       "    <tr>\n",
       "      <th>0</th>\n",
       "      <td>age</td>\n",
       "      <td>410.273781</td>\n",
       "    </tr>\n",
       "    <tr>\n",
       "      <th>1</th>\n",
       "      <td>male</td>\n",
       "      <td>-1343.626928</td>\n",
       "    </tr>\n",
       "    <tr>\n",
       "      <th>2</th>\n",
       "      <td>temperature</td>\n",
       "      <td>47.458927</td>\n",
       "    </tr>\n",
       "    <tr>\n",
       "      <th>3</th>\n",
       "      <td>wind_speed</td>\n",
       "      <td>-25.358463</td>\n",
       "    </tr>\n",
       "    <tr>\n",
       "      <th>4</th>\n",
       "      <td>cloud_cover</td>\n",
       "      <td>-10.844291</td>\n",
       "    </tr>\n",
       "    <tr>\n",
       "      <th>5</th>\n",
       "      <td>rain</td>\n",
       "      <td>981.264440</td>\n",
       "    </tr>\n",
       "    <tr>\n",
       "      <th>6</th>\n",
       "      <td>event</td>\n",
       "      <td>-434.577584</td>\n",
       "    </tr>\n",
       "  </tbody>\n",
       "</table>\n",
       "</div>"
      ],
      "text/plain": [
       "             0            1\n",
       "0          age   410.273781\n",
       "1         male -1343.626928\n",
       "2  temperature    47.458927\n",
       "3   wind_speed   -25.358463\n",
       "4  cloud_cover   -10.844291\n",
       "5         rain   981.264440\n",
       "6        event  -434.577584"
      ]
     },
     "execution_count": 109,
     "metadata": {},
     "output_type": "execute_result"
    }
   ],
   "source": [
    "pd.DataFrame(list(zip(X_test.columns,lr.coef_)))"
   ]
  },
  {
   "cell_type": "code",
   "execution_count": null,
   "id": "ebc4fa6c-92a9-4037-920c-18dc6388f316",
   "metadata": {},
   "outputs": [],
   "source": []
  }
 ],
 "metadata": {
  "kernelspec": {
   "display_name": "Python 3 (ipykernel)",
   "language": "python",
   "name": "python3"
  },
  "language_info": {
   "codemirror_mode": {
    "name": "ipython",
    "version": 3
   },
   "file_extension": ".py",
   "mimetype": "text/x-python",
   "name": "python",
   "nbconvert_exporter": "python",
   "pygments_lexer": "ipython3",
   "version": "3.9.7"
  }
 },
 "nbformat": 4,
 "nbformat_minor": 5
}
