{
 "cells": [
  {
   "cell_type": "markdown",
   "id": "f15ddb89-94e8-42c1-9264-7b4b45d5688e",
   "metadata": {
    "tags": []
   },
   "source": [
    "### Best Scores/Coefs"
   ]
  },
  {
   "cell_type": "code",
   "execution_count": 35,
   "id": "56ed66a5-d6b5-4553-834f-0e01b96a3870",
   "metadata": {},
   "outputs": [
    {
     "name": "stdout",
     "output_type": "stream",
     "text": [
      "Train R2: 0.6973163511837641\n",
      "R2: 0.7009410046557292\n",
      "MAE: 697.1485514735509\n",
      "MSE: 664319.6138605874\n",
      "RMSE: 815.0580432463613\n"
     ]
    }
   ],
   "source": [
    "X_train = berlin_train.drop(columns=best_berlin[min(best_berlin.keys())])\n",
    "y_train = berlin_train['time_seconds']\n",
    "\n",
    "X_test = berlin_test.drop(columns=best_berlin[min(best_berlin.keys())])\n",
    "y_test = berlin_test['time_seconds']\n",
    "\n",
    "lr = LinearRegression()\n",
    "lr.fit(X_train, y_train)\n",
    "\n",
    "print(f'Train R2: {lr.score(X_train, y_train)}')\n",
    "model_scores(X_test, y_test, lr)"
   ]
  },
  {
   "cell_type": "code",
   "execution_count": 36,
   "id": "5a4ec38f-be8b-4f0a-b9d6-a0ef02d556a4",
   "metadata": {},
   "outputs": [
    {
     "data": {
      "text/html": [
       "<div>\n",
       "<style scoped>\n",
       "    .dataframe tbody tr th:only-of-type {\n",
       "        vertical-align: middle;\n",
       "    }\n",
       "\n",
       "    .dataframe tbody tr th {\n",
       "        vertical-align: top;\n",
       "    }\n",
       "\n",
       "    .dataframe thead th {\n",
       "        text-align: right;\n",
       "    }\n",
       "</style>\n",
       "<table border=\"1\" class=\"dataframe\">\n",
       "  <thead>\n",
       "    <tr style=\"text-align: right;\">\n",
       "      <th></th>\n",
       "      <th>0</th>\n",
       "      <th>1</th>\n",
       "    </tr>\n",
       "  </thead>\n",
       "  <tbody>\n",
       "    <tr>\n",
       "      <th>0</th>\n",
       "      <td>age</td>\n",
       "      <td>467.283861</td>\n",
       "    </tr>\n",
       "    <tr>\n",
       "      <th>1</th>\n",
       "      <td>male</td>\n",
       "      <td>-1456.419104</td>\n",
       "    </tr>\n",
       "    <tr>\n",
       "      <th>2</th>\n",
       "      <td>temperature</td>\n",
       "      <td>65.067429</td>\n",
       "    </tr>\n",
       "    <tr>\n",
       "      <th>3</th>\n",
       "      <td>wind_speed</td>\n",
       "      <td>-18.763229</td>\n",
       "    </tr>\n",
       "    <tr>\n",
       "      <th>4</th>\n",
       "      <td>precipitation</td>\n",
       "      <td>0.000000</td>\n",
       "    </tr>\n",
       "    <tr>\n",
       "      <th>5</th>\n",
       "      <td>precipitation_cover</td>\n",
       "      <td>0.000000</td>\n",
       "    </tr>\n",
       "    <tr>\n",
       "      <th>6</th>\n",
       "      <td>clear</td>\n",
       "      <td>-160.178762</td>\n",
       "    </tr>\n",
       "  </tbody>\n",
       "</table>\n",
       "</div>"
      ],
      "text/plain": [
       "                     0            1\n",
       "0                  age   467.283861\n",
       "1                 male -1456.419104\n",
       "2          temperature    65.067429\n",
       "3           wind_speed   -18.763229\n",
       "4        precipitation     0.000000\n",
       "5  precipitation_cover     0.000000\n",
       "6                clear  -160.178762"
      ]
     },
     "execution_count": 36,
     "metadata": {},
     "output_type": "execute_result"
    }
   ],
   "source": [
    "pd.DataFrame(list(zip(X_test.columns,lr.coef_)))"
   ]
  },
  {
   "cell_type": "code",
   "execution_count": 37,
   "id": "01d1b254-a1e8-4986-aeea-49c1c1f0248d",
   "metadata": {},
   "outputs": [
    {
     "name": "stdout",
     "output_type": "stream",
     "text": [
      "Train R2: 0.692594056449461\n",
      "R2: 0.9021486183699339\n",
      "MAE: 459.41501587389786\n",
      "MSE: 362019.2686137439\n",
      "RMSE: 601.680370806414\n"
     ]
    }
   ],
   "source": [
    "X_train = boston_train.drop(columns=best_boston[min(best_boston.keys())])\n",
    "y_train = boston_train['time_seconds']\n",
    "\n",
    "X_test = boston_test.drop(columns=best_boston[min(best_boston.keys())])\n",
    "y_test = boston_test['time_seconds']\n",
    "\n",
    "lr = LinearRegression()\n",
    "lr.fit(X_train, y_train)\n",
    "\n",
    "print(f'Train R2: {lr.score(X_train, y_train)}')\n",
    "model_scores(X_test, y_test, lr)"
   ]
  },
  {
   "cell_type": "code",
   "execution_count": 38,
   "id": "f48aaf6b-011d-480b-9a38-f3bcd2247ad3",
   "metadata": {},
   "outputs": [
    {
     "data": {
      "text/html": [
       "<div>\n",
       "<style scoped>\n",
       "    .dataframe tbody tr th:only-of-type {\n",
       "        vertical-align: middle;\n",
       "    }\n",
       "\n",
       "    .dataframe tbody tr th {\n",
       "        vertical-align: top;\n",
       "    }\n",
       "\n",
       "    .dataframe thead th {\n",
       "        text-align: right;\n",
       "    }\n",
       "</style>\n",
       "<table border=\"1\" class=\"dataframe\">\n",
       "  <thead>\n",
       "    <tr style=\"text-align: right;\">\n",
       "      <th></th>\n",
       "      <th>0</th>\n",
       "      <th>1</th>\n",
       "    </tr>\n",
       "  </thead>\n",
       "  <tbody>\n",
       "    <tr>\n",
       "      <th>0</th>\n",
       "      <td>age</td>\n",
       "      <td>596.293495</td>\n",
       "    </tr>\n",
       "    <tr>\n",
       "      <th>1</th>\n",
       "      <td>male</td>\n",
       "      <td>-1438.800837</td>\n",
       "    </tr>\n",
       "    <tr>\n",
       "      <th>2</th>\n",
       "      <td>precipitation</td>\n",
       "      <td>1685.412086</td>\n",
       "    </tr>\n",
       "    <tr>\n",
       "      <th>3</th>\n",
       "      <td>precipitation_cover</td>\n",
       "      <td>-12.270840</td>\n",
       "    </tr>\n",
       "  </tbody>\n",
       "</table>\n",
       "</div>"
      ],
      "text/plain": [
       "                     0            1\n",
       "0                  age   596.293495\n",
       "1                 male -1438.800837\n",
       "2        precipitation  1685.412086\n",
       "3  precipitation_cover   -12.270840"
      ]
     },
     "execution_count": 38,
     "metadata": {},
     "output_type": "execute_result"
    }
   ],
   "source": [
    "pd.DataFrame(list(zip(X_test.columns,lr.coef_)))"
   ]
  },
  {
   "cell_type": "code",
   "execution_count": 39,
   "id": "4af31e59-0763-4aa5-99c4-543f1e8e62c6",
   "metadata": {},
   "outputs": [
    {
     "name": "stdout",
     "output_type": "stream",
     "text": [
      "Train R2: 0.7705064996083735\n",
      "R2: 0.8979253516448884\n",
      "MAE: 428.7325776482707\n",
      "MSE: 284824.57429055916\n",
      "RMSE: 533.6895860802974\n"
     ]
    }
   ],
   "source": [
    "X_train = chicago_train.drop(columns=best_chicago[min(best_chicago.keys())])\n",
    "y_train = chicago_train['time_seconds']\n",
    "\n",
    "X_test = chicago_test.drop(columns=best_chicago[min(best_chicago.keys())])\n",
    "y_test = chicago_test['time_seconds']\n",
    "\n",
    "lr = LinearRegression()\n",
    "lr.fit(X_train, y_train)\n",
    "\n",
    "print(f'Train R2: {lr.score(X_train, y_train)}')\n",
    "model_scores(X_test, y_test, lr)"
   ]
  },
  {
   "cell_type": "code",
   "execution_count": 40,
   "id": "f227c71d-ed3c-42ce-bbbd-45d65815709b",
   "metadata": {},
   "outputs": [
    {
     "data": {
      "text/html": [
       "<div>\n",
       "<style scoped>\n",
       "    .dataframe tbody tr th:only-of-type {\n",
       "        vertical-align: middle;\n",
       "    }\n",
       "\n",
       "    .dataframe tbody tr th {\n",
       "        vertical-align: top;\n",
       "    }\n",
       "\n",
       "    .dataframe thead th {\n",
       "        text-align: right;\n",
       "    }\n",
       "</style>\n",
       "<table border=\"1\" class=\"dataframe\">\n",
       "  <thead>\n",
       "    <tr style=\"text-align: right;\">\n",
       "      <th></th>\n",
       "      <th>0</th>\n",
       "      <th>1</th>\n",
       "    </tr>\n",
       "  </thead>\n",
       "  <tbody>\n",
       "    <tr>\n",
       "      <th>0</th>\n",
       "      <td>age</td>\n",
       "      <td>447.139328</td>\n",
       "    </tr>\n",
       "    <tr>\n",
       "      <th>1</th>\n",
       "      <td>male</td>\n",
       "      <td>-1534.813112</td>\n",
       "    </tr>\n",
       "    <tr>\n",
       "      <th>2</th>\n",
       "      <td>temperature</td>\n",
       "      <td>43.168050</td>\n",
       "    </tr>\n",
       "    <tr>\n",
       "      <th>3</th>\n",
       "      <td>wind_speed</td>\n",
       "      <td>-62.097256</td>\n",
       "    </tr>\n",
       "    <tr>\n",
       "      <th>4</th>\n",
       "      <td>precipitation_cover</td>\n",
       "      <td>-32.533945</td>\n",
       "    </tr>\n",
       "    <tr>\n",
       "      <th>5</th>\n",
       "      <td>cloud_cover</td>\n",
       "      <td>17.749158</td>\n",
       "    </tr>\n",
       "    <tr>\n",
       "      <th>6</th>\n",
       "      <td>clear</td>\n",
       "      <td>517.843735</td>\n",
       "    </tr>\n",
       "    <tr>\n",
       "      <th>7</th>\n",
       "      <td>overcast</td>\n",
       "      <td>-112.397198</td>\n",
       "    </tr>\n",
       "    <tr>\n",
       "      <th>8</th>\n",
       "      <td>partially_cloudy</td>\n",
       "      <td>-405.446537</td>\n",
       "    </tr>\n",
       "    <tr>\n",
       "      <th>9</th>\n",
       "      <td>rain</td>\n",
       "      <td>-3.253394</td>\n",
       "    </tr>\n",
       "    <tr>\n",
       "      <th>10</th>\n",
       "      <td>event</td>\n",
       "      <td>0.000000</td>\n",
       "    </tr>\n",
       "  </tbody>\n",
       "</table>\n",
       "</div>"
      ],
      "text/plain": [
       "                      0            1\n",
       "0                   age   447.139328\n",
       "1                  male -1534.813112\n",
       "2           temperature    43.168050\n",
       "3            wind_speed   -62.097256\n",
       "4   precipitation_cover   -32.533945\n",
       "5           cloud_cover    17.749158\n",
       "6                 clear   517.843735\n",
       "7              overcast  -112.397198\n",
       "8      partially_cloudy  -405.446537\n",
       "9                  rain    -3.253394\n",
       "10                event     0.000000"
      ]
     },
     "execution_count": 40,
     "metadata": {},
     "output_type": "execute_result"
    }
   ],
   "source": [
    "pd.DataFrame(list(zip(X_test.columns,lr.coef_)))"
   ]
  },
  {
   "cell_type": "code",
   "execution_count": 41,
   "id": "6c8da5f2-6f97-4c43-bccd-17aaecce8c5c",
   "metadata": {},
   "outputs": [
    {
     "name": "stdout",
     "output_type": "stream",
     "text": [
      "Train R2: 0.8073211843660915\n",
      "R2: 0.8561822249414253\n",
      "MAE: 494.025268737525\n",
      "MSE: 345689.2834815816\n",
      "RMSE: 587.9534705073027\n"
     ]
    }
   ],
   "source": [
    "X_train = london_train.drop(columns=best_london[min(best_london.keys())])\n",
    "y_train = london_train['time_seconds']\n",
    "\n",
    "X_test = london_test.drop(columns=best_london[min(best_london.keys())])\n",
    "y_test = london_test['time_seconds']\n",
    "\n",
    "lr = LinearRegression()\n",
    "lr.fit(X_train, y_train)\n",
    "\n",
    "print(f'Train R2: {lr.score(X_train, y_train)}')\n",
    "model_scores(X_test, y_test, lr)"
   ]
  },
  {
   "cell_type": "code",
   "execution_count": 42,
   "id": "08b8a6fa-87ae-49e0-b6d6-269380a87684",
   "metadata": {},
   "outputs": [
    {
     "data": {
      "text/html": [
       "<div>\n",
       "<style scoped>\n",
       "    .dataframe tbody tr th:only-of-type {\n",
       "        vertical-align: middle;\n",
       "    }\n",
       "\n",
       "    .dataframe tbody tr th {\n",
       "        vertical-align: top;\n",
       "    }\n",
       "\n",
       "    .dataframe thead th {\n",
       "        text-align: right;\n",
       "    }\n",
       "</style>\n",
       "<table border=\"1\" class=\"dataframe\">\n",
       "  <thead>\n",
       "    <tr style=\"text-align: right;\">\n",
       "      <th></th>\n",
       "      <th>0</th>\n",
       "      <th>1</th>\n",
       "    </tr>\n",
       "  </thead>\n",
       "  <tbody>\n",
       "    <tr>\n",
       "      <th>0</th>\n",
       "      <td>age</td>\n",
       "      <td>452.511953</td>\n",
       "    </tr>\n",
       "    <tr>\n",
       "      <th>1</th>\n",
       "      <td>male</td>\n",
       "      <td>-1915.789567</td>\n",
       "    </tr>\n",
       "    <tr>\n",
       "      <th>2</th>\n",
       "      <td>temperature</td>\n",
       "      <td>60.749601</td>\n",
       "    </tr>\n",
       "    <tr>\n",
       "      <th>3</th>\n",
       "      <td>partially_cloudy</td>\n",
       "      <td>217.465128</td>\n",
       "    </tr>\n",
       "  </tbody>\n",
       "</table>\n",
       "</div>"
      ],
      "text/plain": [
       "                  0            1\n",
       "0               age   452.511953\n",
       "1              male -1915.789567\n",
       "2       temperature    60.749601\n",
       "3  partially_cloudy   217.465128"
      ]
     },
     "execution_count": 42,
     "metadata": {},
     "output_type": "execute_result"
    }
   ],
   "source": [
    "pd.DataFrame(list(zip(X_test.columns,lr.coef_)))"
   ]
  },
  {
   "cell_type": "code",
   "execution_count": 43,
   "id": "26f70001-d2a3-4f44-9131-e98b28f3126d",
   "metadata": {},
   "outputs": [
    {
     "name": "stdout",
     "output_type": "stream",
     "text": [
      "Train R2: 0.43811576463239665\n",
      "R2: 0.5583309101585976\n",
      "MAE: 211.0118309774252\n",
      "MSE: 72099.97614991367\n",
      "RMSE: 268.51438723076586\n"
     ]
    }
   ],
   "source": [
    "X_train = nyc_train.drop(columns=best_nyc[min(best_nyc.keys())])\n",
    "y_train = nyc_train['time_seconds']\n",
    "\n",
    "X_test = nyc_test.drop(columns=best_nyc[min(best_nyc.keys())])\n",
    "y_test = nyc_test['time_seconds']\n",
    "\n",
    "lr = LinearRegression()\n",
    "lr.fit(X_train, y_train)\n",
    "\n",
    "print(f'Train R2: {lr.score(X_train, y_train)}')\n",
    "model_scores(X_test, y_test, lr)"
   ]
  },
  {
   "cell_type": "code",
   "execution_count": 44,
   "id": "1f914cb0-4653-4f8c-8bd4-2ab5c86797c9",
   "metadata": {},
   "outputs": [
    {
     "data": {
      "text/html": [
       "<div>\n",
       "<style scoped>\n",
       "    .dataframe tbody tr th:only-of-type {\n",
       "        vertical-align: middle;\n",
       "    }\n",
       "\n",
       "    .dataframe tbody tr th {\n",
       "        vertical-align: top;\n",
       "    }\n",
       "\n",
       "    .dataframe thead th {\n",
       "        text-align: right;\n",
       "    }\n",
       "</style>\n",
       "<table border=\"1\" class=\"dataframe\">\n",
       "  <thead>\n",
       "    <tr style=\"text-align: right;\">\n",
       "      <th></th>\n",
       "      <th>0</th>\n",
       "      <th>1</th>\n",
       "    </tr>\n",
       "  </thead>\n",
       "  <tbody>\n",
       "    <tr>\n",
       "      <th>0</th>\n",
       "      <td>age</td>\n",
       "      <td>109.787697</td>\n",
       "    </tr>\n",
       "    <tr>\n",
       "      <th>1</th>\n",
       "      <td>male</td>\n",
       "      <td>-399.839212</td>\n",
       "    </tr>\n",
       "    <tr>\n",
       "      <th>2</th>\n",
       "      <td>temperature</td>\n",
       "      <td>26.608885</td>\n",
       "    </tr>\n",
       "    <tr>\n",
       "      <th>3</th>\n",
       "      <td>relative_humidity</td>\n",
       "      <td>0.462864</td>\n",
       "    </tr>\n",
       "    <tr>\n",
       "      <th>4</th>\n",
       "      <td>wind_speed</td>\n",
       "      <td>20.261552</td>\n",
       "    </tr>\n",
       "    <tr>\n",
       "      <th>5</th>\n",
       "      <td>precipitation</td>\n",
       "      <td>27.743533</td>\n",
       "    </tr>\n",
       "    <tr>\n",
       "      <th>6</th>\n",
       "      <td>precipitation_cover</td>\n",
       "      <td>11.074646</td>\n",
       "    </tr>\n",
       "    <tr>\n",
       "      <th>7</th>\n",
       "      <td>partially_cloudy</td>\n",
       "      <td>106.893521</td>\n",
       "    </tr>\n",
       "    <tr>\n",
       "      <th>8</th>\n",
       "      <td>rain</td>\n",
       "      <td>-636.774796</td>\n",
       "    </tr>\n",
       "  </tbody>\n",
       "</table>\n",
       "</div>"
      ],
      "text/plain": [
       "                     0           1\n",
       "0                  age  109.787697\n",
       "1                 male -399.839212\n",
       "2          temperature   26.608885\n",
       "3    relative_humidity    0.462864\n",
       "4           wind_speed   20.261552\n",
       "5        precipitation   27.743533\n",
       "6  precipitation_cover   11.074646\n",
       "7     partially_cloudy  106.893521\n",
       "8                 rain -636.774796"
      ]
     },
     "execution_count": 44,
     "metadata": {},
     "output_type": "execute_result"
    }
   ],
   "source": [
    "pd.DataFrame(list(zip(X_test.columns,lr.coef_)))"
   ]
  },
  {
   "cell_type": "code",
   "execution_count": 45,
   "id": "bc5c0dc7-2f4b-4c73-8c36-ba199e905856",
   "metadata": {},
   "outputs": [
    {
     "name": "stdout",
     "output_type": "stream",
     "text": [
      "Train R2: 0.5155719604904092\n",
      "R2: 0.5311457241991488\n",
      "MAE: 1385.1871639253602\n",
      "MSE: 2562454.43728688\n",
      "RMSE: 1600.7668278943313\n"
     ]
    }
   ],
   "source": [
    "X_train = combined_train.drop(columns=best_combined[min(best_combined.keys())])\n",
    "y_train = combined_train['time_seconds']\n",
    "\n",
    "X_test = combined_test.drop(columns=best_combined[min(best_combined.keys())])\n",
    "y_test = combined_test['time_seconds']\n",
    "\n",
    "lr = LinearRegression()\n",
    "lr.fit(X_train, y_train)\n",
    "\n",
    "print(f'Train R2: {lr.score(X_train, y_train)}')\n",
    "model_scores(X_test, y_test, lr)"
   ]
  },
  {
   "cell_type": "code",
   "execution_count": 46,
   "id": "58e6eec3-ab00-490d-a2e2-6bbba73608ef",
   "metadata": {},
   "outputs": [
    {
     "data": {
      "text/html": [
       "<div>\n",
       "<style scoped>\n",
       "    .dataframe tbody tr th:only-of-type {\n",
       "        vertical-align: middle;\n",
       "    }\n",
       "\n",
       "    .dataframe tbody tr th {\n",
       "        vertical-align: top;\n",
       "    }\n",
       "\n",
       "    .dataframe thead th {\n",
       "        text-align: right;\n",
       "    }\n",
       "</style>\n",
       "<table border=\"1\" class=\"dataframe\">\n",
       "  <thead>\n",
       "    <tr style=\"text-align: right;\">\n",
       "      <th></th>\n",
       "      <th>0</th>\n",
       "      <th>1</th>\n",
       "    </tr>\n",
       "  </thead>\n",
       "  <tbody>\n",
       "    <tr>\n",
       "      <th>0</th>\n",
       "      <td>age</td>\n",
       "      <td>416.194101</td>\n",
       "    </tr>\n",
       "    <tr>\n",
       "      <th>1</th>\n",
       "      <td>male</td>\n",
       "      <td>-1351.448793</td>\n",
       "    </tr>\n",
       "    <tr>\n",
       "      <th>2</th>\n",
       "      <td>temperature</td>\n",
       "      <td>47.815009</td>\n",
       "    </tr>\n",
       "    <tr>\n",
       "      <th>3</th>\n",
       "      <td>cloud_cover</td>\n",
       "      <td>-14.248988</td>\n",
       "    </tr>\n",
       "    <tr>\n",
       "      <th>4</th>\n",
       "      <td>rain</td>\n",
       "      <td>986.344199</td>\n",
       "    </tr>\n",
       "    <tr>\n",
       "      <th>5</th>\n",
       "      <td>event</td>\n",
       "      <td>-432.350564</td>\n",
       "    </tr>\n",
       "  </tbody>\n",
       "</table>\n",
       "</div>"
      ],
      "text/plain": [
       "             0            1\n",
       "0          age   416.194101\n",
       "1         male -1351.448793\n",
       "2  temperature    47.815009\n",
       "3  cloud_cover   -14.248988\n",
       "4         rain   986.344199\n",
       "5        event  -432.350564"
      ]
     },
     "execution_count": 46,
     "metadata": {},
     "output_type": "execute_result"
    }
   ],
   "source": [
    "pd.DataFrame(list(zip(X_test.columns,lr.coef_)))"
   ]
  }
 ],
 "metadata": {
  "kernelspec": {
   "display_name": "Python 3 (ipykernel)",
   "language": "python",
   "name": "python3"
  },
  "language_info": {
   "codemirror_mode": {
    "name": "ipython",
    "version": 3
   },
   "file_extension": ".py",
   "mimetype": "text/x-python",
   "name": "python",
   "nbconvert_exporter": "python",
   "pygments_lexer": "ipython3",
   "version": "3.9.7"
  }
 },
 "nbformat": 4,
 "nbformat_minor": 5
}
