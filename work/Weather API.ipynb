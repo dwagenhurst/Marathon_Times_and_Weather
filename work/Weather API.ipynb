{
 "cells": [
  {
   "cell_type": "code",
   "execution_count": 2,
   "id": "d8c51700-5a85-47fd-8d67-61a16aa7ae83",
   "metadata": {},
   "outputs": [],
   "source": [
    "base_url = 'https://api.worldweatheronline.com/premium/v1/past-weather.ashx'\n",
    "key = '9f6bbecb95d844c4a8e04054222305'"
   ]
  },
  {
   "cell_type": "markdown",
   "id": "4f226379-273f-4579-8285-88043c332913",
   "metadata": {},
   "source": [
    "NYC Dates\n",
    "- Sunday, November 2, 2014\n",
    "- Sunday, November 1, 2015\n",
    "- Sunday, November 6, 2016\n",
    "- Sunday, November 5, 2017\n",
    "- Sunday, November 4, 2018\n",
    "- Sunday, November 7, 2021"
   ]
  },
  {
   "cell_type": "code",
   "execution_count": 3,
   "id": "a30d0614-ef13-4a0b-a2a1-36c6d90954aa",
   "metadata": {},
   "outputs": [],
   "source": [
    "nyc_dates = ['2014-11-02',\n",
    "            '2015-11-01',\n",
    "            '2016-11-06',\n",
    "            '2017-11-05',\n",
    "            '2018-11-04',\n",
    "            '2021-11-07']"
   ]
  },
  {
   "cell_type": "markdown",
   "id": "71adf747-5ebe-472d-8375-75528392b9e8",
   "metadata": {},
   "source": [
    "Boston Dates\n",
    "- Monday, April 20, 2009\n",
    "- Monday, April 19, 2010\n",
    "- Monday, April 18, 2011\n",
    "- Monday, April 16, 2012\n",
    "- Monday, April 15, 2013\n",
    "- Monday, April 21, 2014\n",
    "- Monday, April 20, 2015\n",
    "- Monday, April 18, 2016\n",
    "- Monday, April 17, 2017"
   ]
  },
  {
   "cell_type": "code",
   "execution_count": 4,
   "id": "13a9dc99-587d-4d90-9e98-26f9012dcbc5",
   "metadata": {},
   "outputs": [],
   "source": [
    "boston_dates = ['2009-04-20',\n",
    "               '2010-04-19',\n",
    "               '2011-04-18',\n",
    "               '2012-04-16',\n",
    "               '2013-04-15',\n",
    "               '2014-04-21',\n",
    "               '2015-04-20',\n",
    "               '2016-04-18',\n",
    "               '2017-04-17']"
   ]
  },
  {
   "cell_type": "code",
   "execution_count": null,
   "id": "a27b7272-5bef-4cb6-af77-cf9b0dafb7f5",
   "metadata": {},
   "outputs": [],
   "source": [
    "boston_params = {\n",
    "    'q': 'Boston,ma',\n",
    "    'date': boston_dates,\n",
    "    'key': key,\n",
    "    \n",
    "}"
   ]
  }
 ],
 "metadata": {
  "kernelspec": {
   "display_name": "Python 3 (ipykernel)",
   "language": "python",
   "name": "python3"
  },
  "language_info": {
   "codemirror_mode": {
    "name": "ipython",
    "version": 3
   },
   "file_extension": ".py",
   "mimetype": "text/x-python",
   "name": "python",
   "nbconvert_exporter": "python",
   "pygments_lexer": "ipython3",
   "version": "3.9.7"
  }
 },
 "nbformat": 4,
 "nbformat_minor": 5
}
