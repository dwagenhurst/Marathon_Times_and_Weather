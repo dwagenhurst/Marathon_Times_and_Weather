{
 "cells": [
  {
   "cell_type": "code",
   "execution_count": 17,
   "id": "f811942e-256d-4d78-b6d6-1b671de380a5",
   "metadata": {},
   "outputs": [],
   "source": [
    "import os\n",
    "import numpy as np\n",
    "import pandas as pd\n",
    "from sklearn.metrics import mean_absolute_error, mean_squared_error\n",
    "from xgboost import XGBRegressor\n",
    "from sklearn.model_selection import GridSearchCV"
   ]
  },
  {
   "cell_type": "markdown",
   "id": "ed1713f1-93f6-4eb0-85e5-1018a91da093",
   "metadata": {
    "jp-MarkdownHeadingCollapsed": true,
    "tags": []
   },
   "source": [
    "## Functions"
   ]
  },
  {
   "cell_type": "code",
   "execution_count": 9,
   "id": "b88d34f2-4be1-4c10-bb97-2537e5f09642",
   "metadata": {},
   "outputs": [],
   "source": [
    "# functions\n",
    "def num_age(x):\n",
    "    '''make age categories numeric'''\n",
    "    if x == '18-39':\n",
    "        return 0\n",
    "    elif x == '40-44':\n",
    "        return 1\n",
    "    elif x == '45-49':\n",
    "        return 2\n",
    "    elif x == '50-54':\n",
    "        return 3\n",
    "    elif x == '55-59':\n",
    "        return 4\n",
    "    elif x == '60-64':\n",
    "        return 5\n",
    "    elif x == '65-69':\n",
    "        return 6\n",
    "    return 7\n",
    "\n",
    "\n",
    "def cat_clean(x):\n",
    "    '''binary columns were floats, make them ints'''\n",
    "    return int(x)\n",
    "\n",
    "\n",
    "def prep(df):\n",
    "    '''prepare dataframe for EDA'''\n",
    "    df['age'] = df['age'].apply(lambda x: num_age(x))\n",
    "    df['clear'] = df['clear'].apply(lambda x: cat_clean(x))\n",
    "    df['overcast'] = df['overcast'].apply(lambda x: cat_clean(x))\n",
    "    df['partially_cloudy'] = df['partially_cloudy'].apply(lambda x: cat_clean(x))\n",
    "    df['rain'] = df['rain'].apply(lambda x: cat_clean(x))\n",
    "\n",
    "    cols = ['year', 'age', 'male', 'time_seconds', 'minimum_temperature',\n",
    "           'maximum_temperature', 'temperature', 'relative_humidity', 'wind_speed',\n",
    "           'precipitation', 'precipitation_cover', 'cloud_cover', 'clear',\n",
    "           'overcast', 'partially_cloudy', 'rain']\n",
    "\n",
    "    for col in cols:\n",
    "        df[col] = pd.to_numeric(df[col], downcast='unsigned')\n",
    "\n",
    "    df.drop(columns=['maximum_temperature', 'minimum_temperature'], inplace=True)\n",
    "\n",
    "    event_dict = {year: df[df['year'] == year] for year in df['year'].unique()}\n",
    "    \n",
    "    return event_dict\n",
    "\n",
    "\n",
    "def usable(event_dict, num):\n",
    "    '''specify which years are usable based on minimum number of participants\n",
    "    returns dict with years that exceed minimum values are correspoding df'''\n",
    "    can_use = []\n",
    "    for year in event_dict.keys():\n",
    "        if len(event_dict[year]) > num:\n",
    "            can_use.append(year)\n",
    "    return {year: event_dict[year] for year in can_use}\n",
    "\n",
    "\n",
    "def top_n(event_dict, num):\n",
    "    '''take in event dict and first num of finishers that are desired,\n",
    "    return df of top n racers for all years, use in conjuction with usable()'''\n",
    "    df = pd.DataFrame()\n",
    "    for year in event_dict.keys():\n",
    "        df = pd.concat([df, event_dict[year].sort_values(by='time_seconds').iloc[:num]], ignore_index=True)\n",
    "    return df\n",
    "        \n",
    "    \n",
    "def n_range(event_dict, low, high):\n",
    "    '''take in dictionary of dfs from prep(), upper percentage as float, lower percentage as float\n",
    "    return df'''\n",
    "    df = pd.DataFrame()\n",
    "    for year in event_dict.keys():\n",
    "        df = pd.concat([df, event_dict[year].sort_values(by='time_seconds').iloc[int(len(event_dict[year]) * low): int(len(event_dict[year]) * high)]], ignore_index=True)\n",
    "    return df\n",
    "\n",
    "def model_scores(X_test, y_test, model):\n",
    "    nl = \"\\n\"\n",
    "    y_preds = model.predict(X_test)\n",
    "    return print(f'R2: {model.score(X_test, y_test)}{nl}MAE: {mean_absolute_error(y_test, y_preds)}{nl}MSE: {mean_squared_error(y_test, y_preds)}{nl}RMSE: {mean_squared_error(y_test, y_preds, squared=False)}')\n",
    "\n",
    "def undo_age(x):\n",
    "    '''make age categories their division again'''\n",
    "    if x == 0.0:\n",
    "        return '18-39'\n",
    "    elif x == 1.0:\n",
    "        return '40-44'\n",
    "    elif x == 2.0:\n",
    "        return '45-49'\n",
    "    elif x == 3.0:\n",
    "        return '50-54'\n",
    "    elif x == 4.0:\n",
    "        return '55-59'\n",
    "    elif x == 5.0:\n",
    "        return '60-64'\n",
    "    elif x == 6.0:\n",
    "        return '65-69'\n",
    "    return '70+'"
   ]
  },
  {
   "cell_type": "markdown",
   "id": "9384a27e-e7e8-4b64-a3a6-489160ad9cbf",
   "metadata": {},
   "source": [
    "## model"
   ]
  },
  {
   "cell_type": "code",
   "execution_count": 10,
   "id": "2966b40f-c062-43ff-b7b3-7266cdf915b4",
   "metadata": {},
   "outputs": [],
   "source": [
    "london = pd.read_csv('./data/London_Data/Clean/Clean_London_Results_Weather.csv')\n",
    "nyc = pd.read_csv('./data/NYC_Data/Clean/Clean_NYC_Results_Weather.csv')\n",
    "boston = pd.read_csv('./data/Boston_Data/Clean/Clean_Boston_Results_Weather.csv')\n",
    "berlin = pd.read_csv('./data/Berlin_Data/Clean/Clean_Berlin_Results_Weather.csv')\n",
    "chicago = pd.read_csv('./data/Chicago_Data/Clean/Clean_Chicago_Results_Weather.csv')\n",
    "\n",
    "london_dict = prep(london)\n",
    "nyc_dict = prep(nyc)\n",
    "boston_dict = prep(boston)\n",
    "berlin_dict = prep(berlin)\n",
    "chicago_dict = prep(chicago)\n",
    "\n",
    "london = n_range(usable(london_dict, 9_900), 0, 1)\n",
    "nyc = n_range(usable(nyc_dict, 9_900), 0, 1)\n",
    "boston = n_range(usable(boston_dict, 9_900), 0, 1)\n",
    "berlin = n_range(usable(berlin_dict, 9_900), 0, 1)\n",
    "chicago = n_range(usable(chicago_dict, 9_900), 0, 1)\n",
    "\n",
    "aggregate = {col: 'mean' for col in london.drop(columns=['year'])}\n",
    "\n",
    "london = london.groupby(['year', 'age', 'male']).agg(aggregate)\n",
    "nyc = nyc.groupby(['year', 'age', 'male']).agg(aggregate)\n",
    "boston = boston.groupby(['year', 'age', 'male']).agg(aggregate)\n",
    "berlin = berlin.groupby(['year', 'age', 'male']).agg(aggregate)\n",
    "chicago = chicago.groupby(['year', 'age', 'male']).agg(aggregate)\n",
    "\n",
    "events = [boston, berlin, chicago, london, nyc]\n",
    "count = 0\n",
    "for event in events:\n",
    "    event['event'] = count\n",
    "    count += 1\n",
    "    \n",
    "combined = pd.concat(events)\n",
    "combined = combined.merge(pd.get_dummies(combined['event'], drop_first=True), left_index=True, right_index=True).drop(columns='event')\n",
    "combined.drop(columns=['clear', 'overcast', 'partially_cloudy', 'rain'], inplace=True)\n",
    "combined.columns = ['age', 'male', 'time_seconds', 'temperature', 'relative_humidity', 'wind_speed', 'precipitation', 'precipitation_cover', 'cloud_cover', 'boston', 'chicago', 'london', 'nyc']\n",
    "\n",
    "\n",
    "berlin['age'] = berlin['age'].apply(lambda x: undo_age(x))\n",
    "berlin = berlin.merge(pd.get_dummies(berlin['age'], drop_first=True), left_index=True, right_index=True).drop(columns='age')\n",
    "berlin.drop(columns=['clear', 'overcast', 'partially_cloudy', 'rain'], inplace=True)\n",
    "\n",
    "boston['age'] = boston['age'].apply(lambda x: undo_age(x))\n",
    "boston = boston.merge(pd.get_dummies(boston['age'], drop_first=True), left_index=True, right_index=True).drop(columns='age')\n",
    "boston.drop(columns=['clear', 'overcast', 'partially_cloudy', 'rain'], inplace=True)\n",
    "\n",
    "chicago['age'] = chicago['age'].apply(lambda x: undo_age(x))\n",
    "chicago = chicago.merge(pd.get_dummies(chicago['age'], drop_first=True), left_index=True, right_index=True).drop(columns='age')\n",
    "chicago.drop(columns=['clear', 'overcast', 'partially_cloudy', 'rain'], inplace=True)\n",
    "\n",
    "london['age'] = london['age'].apply(lambda x: undo_age(x))\n",
    "london = london.merge(pd.get_dummies(london['age'], drop_first=True), left_index=True, right_index=True).drop(columns='age')\n",
    "london.drop(columns=['clear', 'overcast', 'partially_cloudy', 'rain'], inplace=True)\n",
    "\n",
    "nyc['age'] = nyc['age'].apply(lambda x: undo_age(x))\n",
    "nyc = nyc.merge(pd.get_dummies(nyc['age'], drop_first=True), left_index=True, right_index=True).drop(columns='age')\n",
    "nyc.drop(columns=['clear', 'overcast', 'partially_cloudy', 'rain'], inplace=True)\n",
    "\n",
    "combined['age'] = combined['age'].apply(lambda x: undo_age(x))\n",
    "combined = combined.merge(pd.get_dummies(combined['age'], drop_first=True), left_index=True, right_index=True).drop(columns='age')"
   ]
  },
  {
   "cell_type": "code",
   "execution_count": 60,
   "id": "3fbcd2c7-6963-4344-8535-2b0b228f797d",
   "metadata": {},
   "outputs": [],
   "source": [
    "boost = XGBRegressor()\n",
    "\n",
    "xparams = {'nthread':[4], #when use hyperthread, xgboost may become slower\n",
    "              'objective':['reg:squarederror'],\n",
    "              'learning_rate': [.03, 0.05, .07, .09, .11], #so called `eta` value\n",
    "              'max_depth': [3, 4, 5, 6],\n",
    "              'min_child_weight': [3, 4, 5],\n",
    "              'subsample': [.5, .7, 1],\n",
    "              'colsample_bytree': [.5, .7, 1],\n",
    "              'n_estimators': [100, 200, 300, 400, 500]}\n",
    "\n",
    "xgs = GridSearchCV(\n",
    "    boost,\n",
    "    xparams,\n",
    "    cv=2,\n",
    "    verbose=True\n",
    ")"
   ]
  },
  {
   "cell_type": "code",
   "execution_count": 61,
   "id": "e943fc95-1b74-4607-83b0-b92ec170fae5",
   "metadata": {},
   "outputs": [
    {
     "name": "stdout",
     "output_type": "stream",
     "text": [
      "Fitting 2 folds for each of 2700 candidates, totalling 5400 fits\n",
      "R2: 0.6375618863304717\n",
      "MAE: 826.415306901741\n",
      "MSE: 861908.3651617399\n",
      "RMSE: 928.390200918633\n"
     ]
    }
   ],
   "source": [
    "train = berlin[berlin.index.isin(range(2016), level=0)]\n",
    "test = berlin[berlin.index.isin(range(2016,2019), level=0)]\n",
    "\n",
    "X_train = train.drop(columns = ['time_seconds'])\n",
    "X_test = test.drop(columns = ['time_seconds'])\n",
    "\n",
    "y_train = train['time_seconds']\n",
    "y_test = test['time_seconds']\n",
    "\n",
    "\n",
    "xgs.fit(X_train, y_train)\n",
    "model_scores(X_test, y_test, xgs)"
   ]
  },
  {
   "cell_type": "code",
   "execution_count": 62,
   "id": "f7ba9693-655a-4b19-82a7-8d8bfb1f618d",
   "metadata": {},
   "outputs": [
    {
     "data": {
      "text/plain": [
       "{'colsample_bytree': 0.7,\n",
       " 'learning_rate': 0.11,\n",
       " 'max_depth': 5,\n",
       " 'min_child_weight': 5,\n",
       " 'n_estimators': 500,\n",
       " 'nthread': 4,\n",
       " 'objective': 'reg:squarederror',\n",
       " 'subsample': 0.5}"
      ]
     },
     "execution_count": 62,
     "metadata": {},
     "output_type": "execute_result"
    }
   ],
   "source": [
    "xgs.best_params_"
   ]
  },
  {
   "cell_type": "code",
   "execution_count": 63,
   "id": "ad313434-ade1-4434-9ed8-c8c2302ce833",
   "metadata": {},
   "outputs": [
    {
     "name": "stdout",
     "output_type": "stream",
     "text": [
      "Fitting 2 folds for each of 2700 candidates, totalling 5400 fits\n",
      "R2: 0.5209362487824027\n",
      "MAE: 1087.6172792968043\n",
      "MSE: 1611207.4497266568\n",
      "RMSE: 1269.3334667165507\n"
     ]
    }
   ],
   "source": [
    "train = boston[boston.index.isin(range(2016), level=0)]\n",
    "test = boston[boston.index.isin(range(2016,2019), level=0)]\n",
    "\n",
    "X_train = train.drop(columns = ['time_seconds'])\n",
    "X_test = test.drop(columns = ['time_seconds'])\n",
    "\n",
    "y_train = train['time_seconds']\n",
    "y_test = test['time_seconds']\n",
    "\n",
    "\n",
    "xgs.fit(X_train, y_train)\n",
    "model_scores(X_test, y_test, xgs)"
   ]
  },
  {
   "cell_type": "code",
   "execution_count": 64,
   "id": "a17c6c32-246a-42da-9359-5b3cce0dc38d",
   "metadata": {},
   "outputs": [
    {
     "data": {
      "text/plain": [
       "{'colsample_bytree': 0.7,\n",
       " 'learning_rate': 0.07,\n",
       " 'max_depth': 4,\n",
       " 'min_child_weight': 3,\n",
       " 'n_estimators': 400,\n",
       " 'nthread': 4,\n",
       " 'objective': 'reg:squarederror',\n",
       " 'subsample': 0.7}"
      ]
     },
     "execution_count": 64,
     "metadata": {},
     "output_type": "execute_result"
    }
   ],
   "source": [
    "xgs.best_params_"
   ]
  },
  {
   "cell_type": "code",
   "execution_count": 65,
   "id": "1175b14d-98ad-4d53-88e8-b08e0a6dc93f",
   "metadata": {},
   "outputs": [
    {
     "name": "stdout",
     "output_type": "stream",
     "text": [
      "Fitting 2 folds for each of 2700 candidates, totalling 5400 fits\n",
      "R2: 0.8406198101599024\n",
      "MAE: 476.2787797007107\n",
      "MSE: 418544.45662413136\n",
      "RMSE: 646.9501191159419\n"
     ]
    }
   ],
   "source": [
    "train = chicago[chicago.index.isin(range(2016), level=0)]\n",
    "test = chicago[chicago.index.isin(range(2016,2019), level=0)]\n",
    "\n",
    "X_train = train.drop(columns = ['time_seconds'])\n",
    "X_test = test.drop(columns = ['time_seconds'])\n",
    "\n",
    "y_train = train['time_seconds']\n",
    "y_test = test['time_seconds']\n",
    "\n",
    "xgs.fit(X_train, y_train)\n",
    "model_scores(X_test, y_test, xgs)"
   ]
  },
  {
   "cell_type": "code",
   "execution_count": 66,
   "id": "1659e165-d746-429e-ba37-0dbe5f0630eb",
   "metadata": {},
   "outputs": [
    {
     "data": {
      "text/plain": [
       "{'colsample_bytree': 0.5,\n",
       " 'learning_rate': 0.11,\n",
       " 'max_depth': 5,\n",
       " 'min_child_weight': 5,\n",
       " 'n_estimators': 200,\n",
       " 'nthread': 4,\n",
       " 'objective': 'reg:squarederror',\n",
       " 'subsample': 0.5}"
      ]
     },
     "execution_count": 66,
     "metadata": {},
     "output_type": "execute_result"
    }
   ],
   "source": [
    "xgs.best_params_"
   ]
  },
  {
   "cell_type": "code",
   "execution_count": 67,
   "id": "7f8320f6-4ce9-4f12-a929-5e77cd2bf2f6",
   "metadata": {},
   "outputs": [
    {
     "name": "stdout",
     "output_type": "stream",
     "text": [
      "Fitting 2 folds for each of 2700 candidates, totalling 5400 fits\n",
      "R2: 0.8887809405720463\n",
      "MAE: 409.8236576324586\n",
      "MSE: 272927.0003438948\n",
      "RMSE: 522.424157504125\n"
     ]
    }
   ],
   "source": [
    "train = london[london.index.isin(range(2016), level=0)]\n",
    "test = london[london.index.isin(range(2016,2019), level=0)]\n",
    "\n",
    "X_train = train.drop(columns = ['time_seconds'])\n",
    "X_test = test.drop(columns = ['time_seconds'])\n",
    "\n",
    "y_train = train['time_seconds']\n",
    "y_test = test['time_seconds']\n",
    "\n",
    "xgs.fit(X_train, y_train)\n",
    "model_scores(X_test, y_test, xgs)"
   ]
  },
  {
   "cell_type": "code",
   "execution_count": 68,
   "id": "92b7bbf9-d9de-463f-a3d9-10153eaa7d24",
   "metadata": {},
   "outputs": [
    {
     "data": {
      "text/plain": [
       "{'colsample_bytree': 1,\n",
       " 'learning_rate': 0.09,\n",
       " 'max_depth': 6,\n",
       " 'min_child_weight': 5,\n",
       " 'n_estimators': 100,\n",
       " 'nthread': 4,\n",
       " 'objective': 'reg:squarederror',\n",
       " 'subsample': 0.7}"
      ]
     },
     "execution_count": 68,
     "metadata": {},
     "output_type": "execute_result"
    }
   ],
   "source": [
    "xgs.best_params_"
   ]
  },
  {
   "cell_type": "code",
   "execution_count": 69,
   "id": "f00c8264-3f75-4356-9979-e4a1367fe092",
   "metadata": {},
   "outputs": [
    {
     "name": "stdout",
     "output_type": "stream",
     "text": [
      "Fitting 2 folds for each of 2700 candidates, totalling 5400 fits\n",
      "R2: 0.9621004339577592\n",
      "MAE: 304.40099237401137\n",
      "MSE: 146607.58000598318\n",
      "RMSE: 382.8936928260678\n"
     ]
    }
   ],
   "source": [
    "train = nyc[nyc.index.isin(range(2016), level=0)]\n",
    "test = nyc[nyc.index.isin(range(2016,2019), level=0)]\n",
    "\n",
    "X_train = train.drop(columns = ['time_seconds'])\n",
    "X_test = test.drop(columns = ['time_seconds'])\n",
    "\n",
    "y_train = train['time_seconds']\n",
    "y_test = test['time_seconds']\n",
    "\n",
    "xgs.fit(X_train, y_train)\n",
    "model_scores(X_test, y_test, xgs)"
   ]
  },
  {
   "cell_type": "code",
   "execution_count": 70,
   "id": "5dac2b1c-1370-4587-acc9-e6c56c3e354d",
   "metadata": {},
   "outputs": [
    {
     "data": {
      "text/plain": [
       "{'colsample_bytree': 0.5,\n",
       " 'learning_rate': 0.05,\n",
       " 'max_depth': 5,\n",
       " 'min_child_weight': 5,\n",
       " 'n_estimators': 500,\n",
       " 'nthread': 4,\n",
       " 'objective': 'reg:squarederror',\n",
       " 'subsample': 0.7}"
      ]
     },
     "execution_count": 70,
     "metadata": {},
     "output_type": "execute_result"
    }
   ],
   "source": [
    "xgs.best_params_"
   ]
  },
  {
   "cell_type": "code",
   "execution_count": null,
   "id": "ac543bb5-7ed6-4df6-b1fc-1986906c9055",
   "metadata": {},
   "outputs": [],
   "source": []
  },
  {
   "cell_type": "code",
   "execution_count": null,
   "id": "9390258e-38db-4118-9f7c-dc90480cdddb",
   "metadata": {},
   "outputs": [],
   "source": []
  },
  {
   "cell_type": "code",
   "execution_count": null,
   "id": "9cc63c73-4bc3-4f24-82c4-14b394a9d341",
   "metadata": {},
   "outputs": [],
   "source": []
  },
  {
   "cell_type": "code",
   "execution_count": null,
   "id": "ddc434d3-8270-48af-83ba-d995f60b0131",
   "metadata": {},
   "outputs": [],
   "source": []
  },
  {
   "cell_type": "code",
   "execution_count": null,
   "id": "8df15233-d044-40f6-89b4-8561de280c47",
   "metadata": {},
   "outputs": [],
   "source": []
  },
  {
   "cell_type": "code",
   "execution_count": null,
   "id": "9db34816-d3e7-4db1-8a93-98226c0ae77d",
   "metadata": {},
   "outputs": [],
   "source": []
  },
  {
   "cell_type": "code",
   "execution_count": 39,
   "id": "6b8e6364-abdc-43a5-a785-ae22a540c7cb",
   "metadata": {},
   "outputs": [
    {
     "name": "stdout",
     "output_type": "stream",
     "text": [
      "Fitting 2 folds for each of 9 candidates, totalling 18 fits\n",
      "R2: 0.6720293793104591\n",
      "MAE: 897.8322815671098\n",
      "MSE: 1195364.9227573343\n",
      "RMSE: 1093.3274544972035\n"
     ]
    }
   ],
   "source": [
    "train = combined[combined.index.isin(range(2016), level=0)]\n",
    "test = combined[combined.index.isin(range(2016,2019), level=0)]\n",
    "\n",
    "X_train = train.drop(columns = ['time_seconds'])\n",
    "X_test = test.drop(columns = ['time_seconds'])\n",
    "\n",
    "y_train = train['time_seconds']\n",
    "y_test = test['time_seconds']\n",
    "\n",
    "xgs.fit(X_train, y_train)\n",
    "model_scores(X_test, y_test, xgs)"
   ]
  },
  {
   "cell_type": "code",
   "execution_count": 51,
   "id": "257bac77-5280-48af-9018-d9591c3bdbb3",
   "metadata": {},
   "outputs": [
    {
     "data": {
      "text/plain": [
       "{'colsample_bytree': 0.7,\n",
       " 'learning_rate': 0.07,\n",
       " 'max_depth': 3,\n",
       " 'min_child_weight': 5,\n",
       " 'n_estimators': 500,\n",
       " 'nthread': 4,\n",
       " 'objective': 'reg:squarederror',\n",
       " 'subsample': 0.7}"
      ]
     },
     "execution_count": 51,
     "metadata": {},
     "output_type": "execute_result"
    }
   ],
   "source": [
    "xgs.best_params_"
   ]
  },
  {
   "cell_type": "code",
   "execution_count": null,
   "id": "87223de1-0fec-4a95-8e9a-9546e2d9229e",
   "metadata": {},
   "outputs": [],
   "source": []
  }
 ],
 "metadata": {
  "kernelspec": {
   "display_name": "Python 3 (ipykernel)",
   "language": "python",
   "name": "python3"
  },
  "language_info": {
   "codemirror_mode": {
    "name": "ipython",
    "version": 3
   },
   "file_extension": ".py",
   "mimetype": "text/x-python",
   "name": "python",
   "nbconvert_exporter": "python",
   "pygments_lexer": "ipython3",
   "version": "3.9.7"
  }
 },
 "nbformat": 4,
 "nbformat_minor": 5
}
