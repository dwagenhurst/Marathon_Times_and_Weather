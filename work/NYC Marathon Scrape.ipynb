{
 "cells": [
  {
   "cell_type": "code",
   "execution_count": 1,
   "id": "40fded1d-5bc5-4f0a-a9e0-9c7ca69cc872",
   "metadata": {},
   "outputs": [],
   "source": [
    "from bs4 import BeautifulSoup\n",
    "import pandas as pd\n",
    "import requests\n",
    "import time\n",
    "import itertools\n",
    "import click\n",
    "import numpy as np\n",
    "\n",
    "#https://stackoverflow.com/questions/8049520/web-scraping-javascript-page-with-python\n",
    "from requests_html import HTMLSession, AsyncHTMLSession\n",
    "\n",
    "# https://www.youtube.com/watch?v=U6gbGk5WPws&list=PLzMcBGfZo4-n40rB1XaJ0ak1bemvlqumQ&index=3&ab_channel=TechWithTim\n",
    "from selenium import webdriver\n",
    "from selenium.webdriver.common.by import By\n",
    "from selenium.webdriver.common.action_chains import ActionChains\n",
    "from selenium.webdriver.support import expected_conditions as EC"
   ]
  },
  {
   "cell_type": "code",
   "execution_count": 2,
   "id": "eb36b3a9-92c0-49d9-be52-c572f0aa11bc",
   "metadata": {},
   "outputs": [],
   "source": [
    "years = ['2014', '2015', '2016', '2017', '2018', '2021'] #2019-2020 are excluded due to being virtual"
   ]
  },
  {
   "cell_type": "code",
   "execution_count": 41,
   "id": "f8d49f2f-a24d-4fa6-ac38-fe99d89745ae",
   "metadata": {
    "tags": []
   },
   "outputs": [
    {
     "name": "stderr",
     "output_type": "stream",
     "text": [
      "C:\\Users\\David\\AppData\\Local\\Temp/ipykernel_2944/1999414672.py:3: DeprecationWarning: executable_path has been deprecated, please pass in a Service object\n",
      "  driver = webdriver.Chrome(path)\n"
     ]
    }
   ],
   "source": [
    "for year in years:    \n",
    "    path = 'C:\\Program Files (x86)\\chromedriver.exe'\n",
    "    driver = webdriver.Chrome(path)\n",
    "    driver.get(f'https://results.nyrr.org/event/M{year}/finishers')\n",
    "    soup2 = BeautifulSoup(driver.page_source)\n",
    "\n",
    "    time.sleep(2)\n",
    "\n",
    "    for i in range(216):\n",
    "        try:\n",
    "\n",
    "        # https://stackoverflow.com/questions/34562095/scrollintoview-vs-movetoelement\n",
    "            elements = driver.find_elements(by=By.CSS_SELECTOR, value='a.button-load-more')\n",
    "\n",
    "            actions = ActionChains(driver)\n",
    "            actions.move_to_element(elements[-1]).perform()\n",
    "\n",
    "            driver.implicitly_wait(10)\n",
    "\n",
    "            elements[-1].click()\n",
    "\n",
    "            time.sleep(.25)\n",
    "\n",
    "\n",
    "        except:\n",
    "            break\n",
    "\n",
    "\n",
    "    soup2 = BeautifulSoup(driver.page_source)\n",
    "    results2 = soup2.find_all('div', class_='container-fluid b-runners_detailes-list')\n",
    "\n",
    "    groups = []\n",
    "    times = []\n",
    "\n",
    "    for result in results2:\n",
    "        try:\n",
    "            groups.append(result.find('div', class_='details rms-grid-line').find('span', class_='ng-binding ng-scope').text)    \n",
    "            times.append(result.find('span', class_='result right-floated-item long-text').find('span', class_='num ng-binding').text)\n",
    "        except:\n",
    "            continue\n",
    "        \n",
    "    driver.quit()\n",
    "\n",
    "    df = pd.DataFrame()\n",
    "    df['groups'] = groups\n",
    "    df['times'] = times\n",
    "\n",
    "    df.to_csv(f'./NYC_Results/Original/NYC_Results_{year}.csv', index=False)"
   ]
  },
  {
   "cell_type": "code",
   "execution_count": null,
   "id": "a01f6a31-c3e8-424f-9e60-731acd6696e9",
   "metadata": {},
   "outputs": [],
   "source": []
  }
 ],
 "metadata": {
  "kernelspec": {
   "display_name": "Python 3 (ipykernel)",
   "language": "python",
   "name": "python3"
  },
  "language_info": {
   "codemirror_mode": {
    "name": "ipython",
    "version": 3
   },
   "file_extension": ".py",
   "mimetype": "text/x-python",
   "name": "python",
   "nbconvert_exporter": "python",
   "pygments_lexer": "ipython3",
   "version": "3.9.7"
  }
 },
 "nbformat": 4,
 "nbformat_minor": 5
}
