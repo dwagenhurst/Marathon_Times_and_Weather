{
 "cells": [
  {
   "cell_type": "code",
   "execution_count": 1,
   "id": "99e36d83-ecc3-488e-98c5-9ed123679627",
   "metadata": {},
   "outputs": [],
   "source": [
    "from bs4 import BeautifulSoup\n",
    "import pandas as pd\n",
    "import requests\n",
    "import time\n",
    "import itertools\n",
    "import click\n",
    "import numpy as np\n",
    "\n",
    "#https://stackoverflow.com/questions/8049520/web-scraping-javascript-page-with-python\n",
    "from requests_html import HTMLSession, AsyncHTMLSession\n",
    "\n",
    "# https://www.youtube.com/watch?v=U6gbGk5WPws&list=PLzMcBGfZo4-n40rB1XaJ0ak1bemvlqumQ&index=3&ab_channel=TechWithTim\n",
    "from selenium import webdriver\n",
    "from selenium.webdriver.common.by import By\n",
    "from selenium.webdriver.common.action_chains import ActionChains\n",
    "from selenium.webdriver.support import expected_conditions as EC\n",
    "from selenium.webdriver.support.ui import Select"
   ]
  },
  {
   "cell_type": "code",
   "execution_count": 2,
   "id": "4017279f-8a7e-4d9c-a2e5-5084af41c595",
   "metadata": {
    "tags": []
   },
   "outputs": [
    {
     "name": "stderr",
     "output_type": "stream",
     "text": [
      "C:\\Users\\David\\AppData\\Local\\Temp/ipykernel_22048/1657261884.py:10: DeprecationWarning: executable_path has been deprecated, please pass in a Service object\n",
      "  driver = webdriver.Chrome(path)\n"
     ]
    }
   ],
   "source": [
    "years = [str(i) for i in range(1996, 2019)]\n",
    "genders = ['Men', 'Women']\n",
    "\n",
    "for year in years:\n",
    "    for gender in genders:\n",
    "        \n",
    "        # get started on search page\n",
    "        base_url = 'https://chicago-history.r.mikatiming.com/2019/?pid=start&event=ALL_HISTORY&lang=EN_CAP'\n",
    "        path = 'C:\\Program Files (x86)\\chromedriver.exe'\n",
    "        driver = webdriver.Chrome(path)\n",
    "        driver.get(base_url)\n",
    "        \n",
    "        # let load\n",
    "        time.sleep(2)\n",
    "        \n",
    "        # search parameters\n",
    "        select_year = Select(driver.find_elements(by=By.NAME, value='event_main_group')[-1]).select_by_visible_text(year)\n",
    "        select_event = Select(driver.find_elements(by=By.NAME, value='event')[-1]).select_by_visible_text('Marathon')\n",
    "        time.sleep(3)\n",
    "        select_gender = Select(driver.find_elements(by=By.NAME, value='search[sex]')[-1]).select_by_visible_text(gender)\n",
    "        select_age = Select(driver.find_elements(by=By.NAME, value='search[age_class]')[-1]).select_by_visible_text('All')\n",
    "        select_results = Select(driver.find_elements(by=By.NAME, value='num_results')[-1]).select_by_visible_text('1000')\n",
    "        time.sleep(3)\n",
    "        \n",
    "        # click search\n",
    "        search_button = driver.find_elements(by=By.NAME, value='submit')[-1]\n",
    "        search_button.click()\n",
    "\n",
    "        # get total results for category\n",
    "        soup = BeautifulSoup(driver.page_source)\n",
    "        total_results = int(soup.find('li', attrs={'class': 'list-group-item'}).text.split()[0])\n",
    "        \n",
    "        # lists to hold results\n",
    "        time_list = []\n",
    "        age_list = []\n",
    "        \n",
    "        # loop through all pages\n",
    "        for _ in range(total_results // 1000):\n",
    "            \n",
    "            # short pause between requests\n",
    "            time.sleep(.25)\n",
    "            \n",
    "            soup = BeautifulSoup(driver.page_source)\n",
    "            \n",
    "            # get ages\n",
    "            divisions = soup.find_all('div', attrs={'class': 'list-field type-age_class'})\n",
    "            for div in divisions[1:]:\n",
    "                age_list.append(div.text.split('Division')[1])\n",
    "            \n",
    "            # get times\n",
    "            times = soup.find_all('div', attrs={'class': 'list-field type-time'})\n",
    "            for t in times[1:]:\n",
    "                time_list.append(t.text.split('Finish')[1])\n",
    "            \n",
    "            \n",
    "            # next page\n",
    "            # https://www.browserstack.com/guide/find-element-by-text-using-selenium\n",
    "            driver.find_element(by=By.XPATH, value=\"//*[text()='>']\").click()\n",
    "\n",
    "            \n",
    "        # make df\n",
    "        df = pd.DataFrame()\n",
    "        df['time'] = time_list\n",
    "        df['age'] = age_list\n",
    "        df['gender'] = gender\n",
    "        df['year'] = year\n",
    "        \n",
    "        #save to csv\n",
    "        df.to_csv(f'../data/Chicago_Data/Original/Chicago_Results_{year}_{gender}.csv', index=False)\n",
    "        \n",
    "        # end selenium instance\n",
    "        driver.quit()"
   ]
  }
 ],
 "metadata": {
  "kernelspec": {
   "display_name": "Python 3 (ipykernel)",
   "language": "python",
   "name": "python3"
  },
  "language_info": {
   "codemirror_mode": {
    "name": "ipython",
    "version": 3
   },
   "file_extension": ".py",
   "mimetype": "text/x-python",
   "name": "python",
   "nbconvert_exporter": "python",
   "pygments_lexer": "ipython3",
   "version": "3.9.7"
  }
 },
 "nbformat": 4,
 "nbformat_minor": 5
}
