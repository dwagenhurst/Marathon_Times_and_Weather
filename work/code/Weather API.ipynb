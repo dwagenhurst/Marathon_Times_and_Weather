{
 "cells": [
  {
   "cell_type": "code",
   "execution_count": 1,
   "id": "a27b7272-5bef-4cb6-af77-cf9b0dafb7f5",
   "metadata": {},
   "outputs": [],
   "source": [
    "import requests\n",
    "import pandas as pd\n",
    "import io\n",
    "\n",
    "url = \"https://visual-crossing-weather.p.rapidapi.com/history\"\n",
    "\n",
    "headers = {\n",
    "\"X-RapidAPI-Host\": \"visual-crossing-weather.p.rapidapi.com\",\n",
    "\"X-RapidAPI-Key\": \"\"\n",
    "}\n"
   ]
  },
  {
   "cell_type": "markdown",
   "id": "cf2eb482-ce47-4ee8-8cf9-c249404c4006",
   "metadata": {
    "tags": []
   },
   "source": [
    "## Berlin"
   ]
  },
  {
   "cell_type": "code",
   "execution_count": 28,
   "id": "f3135b9d-868a-4931-88ee-70e936759184",
   "metadata": {},
   "outputs": [],
   "source": [
    "berlin_dates = ['2021-09-26', '2019-09-29', '2018-09-16', '2017-09-24', '2016-09-25', '2015-09-27', '2014-09-28',\n",
    "'2013-09-29', '2012-09-30', '2011-09-25', '2010-09-26', '2009-09-20', '2008-09-28', '2007-09-30', '2006-09-24',\n",
    "'2005-09-25', '2004-09-26', '2003-09-28', '2002-09-29', '2001-09-30', '2000-09-10', '1999-09-26', '1998-09-20',\n",
    "'1997-09-28', '1996-09-29', '1995-09-24', '1994-09-25', '1993-09-26', '1992-09-27', '1991-09-29', '1990-09-30',\n",
    "'1989-10-01', '1988-10-09', '1987-10-04', '1986-09-28', '1985-09-29', '1984-09-30', '1983-09-25', '1982-09-26',\n",
    "'1981-09-27', '1980-09-28', '1979-09-30', '1978-09-03', '1977-09-10', '1976-09-26', '1975-09-28', '1974-10-13']\n",
    "\n",
    "df = pd.DataFrame()\n",
    "\n",
    "for date in berlin_dates:\n",
    "\n",
    "    querystring = {\"startDateTime\":f\"{date}T00:00:00\",\"aggregateHours\":\"24\",\"location\":\"Berlin,Germany\",\n",
    "                   \"endDateTime\":f\"{date}T00:00:00\",\"unitGroup\":\"us\",\"dayStartTime\":\"8:00:00\",\"contentType\":\"csv\",\n",
    "                   \"dayEndTime\":\"17:00:00\",\"shortColumnNames\":\"0\"}\n",
    "\n",
    "    response = requests.request(\"GET\", url, headers=headers, params=querystring)\n",
    "    \n",
    "    df = pd.concat([df, pd.read_csv(io.StringIO(response.text))], ignore_index=True)\n",
    "\n",
    "df.to_csv('../data/Berlin_Data/Original/Berlin_Weather.csv', index=False)"
   ]
  },
  {
   "cell_type": "markdown",
   "id": "98347eee-2973-448f-b665-840c2b805527",
   "metadata": {
    "tags": []
   },
   "source": [
    "## Boston"
   ]
  },
  {
   "cell_type": "code",
   "execution_count": 2,
   "id": "13a9dc99-587d-4d90-9e98-26f9012dcbc5",
   "metadata": {},
   "outputs": [],
   "source": [
    "boston_dates = ['2001-04-16', '2002-04-15', '2003-04-21', '2004-04-19', '2005-04-18', '2006-04-17', '2007-04-16', '2008-04-21', \n",
    "'2009-04-20', '2010-04-19', '2011-04-18', '2012-04-16', '2013-04-15', '2014-04-21', '2015-04-20', '2016-04-18', '2017-04-17', '2018-04-16']\n",
    "\n",
    "df = pd.DataFrame()\n",
    "\n",
    "for date in boston_dates:\n",
    "\n",
    "    querystring = {\"startDateTime\":f\"{date}T00:00:00\",\"aggregateHours\":\"24\",\"location\":\"Boston,MA,USA\",\n",
    "                   \"endDateTime\":f\"{date}T00:00:00\",\"unitGroup\":\"us\",\"dayStartTime\":\"8:00:00\",\"contentType\":\"csv\",\n",
    "                   \"dayEndTime\":\"17:00:00\",\"shortColumnNames\":\"0\"}\n",
    "\n",
    "    response = requests.request(\"GET\", url, headers=headers, params=querystring)\n",
    "    \n",
    "    df = pd.concat([df, pd.read_csv(io.StringIO(response.text))], ignore_index=True)\n",
    "\n",
    "df.to_csv('../data/Boston_Data/Original/Boston_Weather.csv', index=False)"
   ]
  },
  {
   "cell_type": "markdown",
   "id": "59c249bf-41e7-46af-8edf-8eaa065d1d7e",
   "metadata": {
    "tags": []
   },
   "source": [
    "## Chicago"
   ]
  },
  {
   "cell_type": "code",
   "execution_count": 30,
   "id": "bbdc8d73-6f34-4154-ada9-c2780aa9e513",
   "metadata": {},
   "outputs": [],
   "source": [
    "chicago_dates = ['1996-10-20', '1997-10-19', '1998-10-11', '1999-10-24', '2000-10-22', \n",
    "'2001-10-07', '2002-10-13', '2003-10-12', '2004-10-10', '2005-10-09', '2006-10-22', '2007-10-07', '2008-10-12', '2009-10-11',\n",
    "'2010-10-10', '2011-10-09', '2012-10-07', '2013-10-13', '2014-10-12', '2015-10-11', '2016-10-09', '2017-10-08', '2018-10-07']\n",
    "\n",
    "df = pd.DataFrame()\n",
    "\n",
    "for date in chicago_dates:\n",
    "\n",
    "    querystring = {\"startDateTime\":f\"{date}T00:00:00\",\"aggregateHours\":\"24\",\"location\":\"Chicago,IL,USA\",\n",
    "                   \"endDateTime\":f\"{date}T00:00:00\",\"unitGroup\":\"us\",\"dayStartTime\":\"8:00:00\",\"contentType\":\"csv\",\n",
    "                   \"dayEndTime\":\"17:00:00\",\"shortColumnNames\":\"0\"}\n",
    "\n",
    "    response = requests.request(\"GET\", url, headers=headers, params=querystring)\n",
    "    \n",
    "    df = pd.concat([df, pd.read_csv(io.StringIO(response.text))], ignore_index=True)\n",
    "\n",
    "df.to_csv('../data/Chicago_Data/Original/Chicago_Weather.csv', index=False)"
   ]
  },
  {
   "cell_type": "markdown",
   "id": "66395126-7601-4716-a49e-d95b99167d0f",
   "metadata": {
    "tags": []
   },
   "source": [
    "## London"
   ]
  },
  {
   "cell_type": "code",
   "execution_count": 31,
   "id": "74333577-d37d-47d5-b348-6ad3cc14bc9f",
   "metadata": {},
   "outputs": [],
   "source": [
    "london_dates = ['2000-04-16', '2001-04-22', '2002-04-14', '2003-04-13', '2004-04-18',\n",
    "'2005-04-17', '2006-04-23', '2007-04-22', '2008-04-13', '2009-04-26', '2010-04-25', '2011-04-17',\n",
    "'2012-04-22', '2013-04-21', '2014-04-13', '2015-04-26', '2016-04-24', '2017-04-23', '2018-04-22']\n",
    "\n",
    "df = pd.DataFrame()\n",
    "\n",
    "for date in london_dates:\n",
    "\n",
    "    querystring = {\"startDateTime\":f\"{date}T00:00:00\",\"aggregateHours\":\"24\",\"location\":\"London,England\",\n",
    "                   \"endDateTime\":f\"{date}T00:00:00\",\"unitGroup\":\"us\",\"dayStartTime\":\"8:00:00\",\"contentType\":\"csv\",\n",
    "                   \"dayEndTime\":\"17:00:00\",\"shortColumnNames\":\"0\"}\n",
    "\n",
    "    response = requests.request(\"GET\", url, headers=headers, params=querystring)\n",
    "    \n",
    "    df = pd.concat([df, pd.read_csv(io.StringIO(response.text))], ignore_index=True)\n",
    "\n",
    "df.to_csv('../data/London_Data/Original/London_Weather.csv', index=False)"
   ]
  },
  {
   "cell_type": "markdown",
   "id": "89b69139-aef5-4e92-8b21-e678e14cf61d",
   "metadata": {
    "tags": []
   },
   "source": [
    "## NYC"
   ]
  },
  {
   "cell_type": "code",
   "execution_count": 32,
   "id": "a30d0614-ef13-4a0b-a2a1-36c6d90954aa",
   "metadata": {},
   "outputs": [],
   "source": [
    "nyc_dates = ['1970-09-13', '1971-09-19', '1972-10-01', '1973-09-30', '1974-09-29', '1975-09-28', '1976-10-24', '1977-10-23', '1978-10-22',\n",
    " '1979-10-21', '1980-10-26', '1981-10-25', '1982-10-24', '1983-10-23', '1984-10-28', '1985-10-27', '1986-11-02',\n",
    " '1987-11-01', '1988-11-06', '1989-11-05', '1990-11-04', '1991-11-03', '1992-11-01', '1993-11-14', '1994-11-06',\n",
    " '1995-11-12', '1996-11-03', '1997-11-02', '1998-11-01', '1999-11-07', '2000-11-05', '2001-11-04', '2002-11-03',\n",
    " '2003-11-02', '2004-11-07', '2005-11-06', '2006-11-05', '2007-11-04', '2008-11-02', '2009-11-01', '2010-11-07',\n",
    " '2011-11-06', '2013-11-03', '2014-11-02', '2015-11-01', '2016-11-06', '2017-11-05', '2018-11-04', '2021-11-07']\n",
    "\n",
    "df = pd.DataFrame()\n",
    "\n",
    "for date in nyc_dates:\n",
    "\n",
    "    querystring = {\"startDateTime\":f\"{date}T00:00:00\",\"aggregateHours\":\"24\",\"location\":\"NewYorkCity,NY,USA\",\n",
    "                   \"endDateTime\":f\"{date}T00:00:00\",\"unitGroup\":\"us\",\"dayStartTime\":\"8:00:00\",\"contentType\":\"csv\",\n",
    "                   \"dayEndTime\":\"17:00:00\",\"shortColumnNames\":\"0\"}\n",
    "\n",
    "    response = requests.request(\"GET\", url, headers=headers, params=querystring)\n",
    "    \n",
    "    df = pd.concat([df, pd.read_csv(io.StringIO(response.text))], ignore_index=True)\n",
    "\n",
    "df.to_csv('../data/NYC_Data/Original/NYC_Weather.csv', index=False)"
   ]
  },
  {
   "cell_type": "code",
   "execution_count": null,
   "id": "dfc7645d-6fc2-4833-a62c-2a55d2c57669",
   "metadata": {},
   "outputs": [],
   "source": []
  }
 ],
 "metadata": {
  "kernelspec": {
   "display_name": "Python 3 (ipykernel)",
   "language": "python",
   "name": "python3"
  },
  "language_info": {
   "codemirror_mode": {
    "name": "ipython",
    "version": 3
   },
   "file_extension": ".py",
   "mimetype": "text/x-python",
   "name": "python",
   "nbconvert_exporter": "python",
   "pygments_lexer": "ipython3",
   "version": "3.9.7"
  }
 },
 "nbformat": 4,
 "nbformat_minor": 5
}
