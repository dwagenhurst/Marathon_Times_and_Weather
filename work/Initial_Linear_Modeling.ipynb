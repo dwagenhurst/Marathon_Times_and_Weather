{
 "cells": [
  {
   "cell_type": "code",
   "execution_count": 1,
   "id": "0ac3fd05-c9d2-4624-a7e1-9e87f0031e01",
   "metadata": {
    "tags": []
   },
   "outputs": [],
   "source": [
    "# imports\n",
    "import os\n",
    "import numpy as np\n",
    "import pandas as pd\n",
    "import seaborn as sns\n",
    "import matplotlib.pyplot as plt\n",
    "from sklearn.linear_model import LinearRegression\n",
    "from sklearn.metrics import mean_absolute_error, mean_squared_error\n",
    "import itertools"
   ]
  },
  {
   "cell_type": "markdown",
   "id": "fc92523c-b0f2-4b13-b1ce-7f8244fbc94e",
   "metadata": {
    "tags": []
   },
   "source": [
    "## Functions"
   ]
  },
  {
   "cell_type": "code",
   "execution_count": 2,
   "id": "c3d21883-dc6e-4aa0-9791-6806108f4f5b",
   "metadata": {},
   "outputs": [],
   "source": [
    "# functions\n",
    "def num_age(x):\n",
    "    '''make age categories numeric'''\n",
    "    if x == '18-39':\n",
    "        return 0\n",
    "    elif x == '40-44':\n",
    "        return 1\n",
    "    elif x == '45-49':\n",
    "        return 2\n",
    "    elif x == '50-54':\n",
    "        return 3\n",
    "    elif x == '55-59':\n",
    "        return 4\n",
    "    elif x == '60-64':\n",
    "        return 5\n",
    "    elif x == '65-69':\n",
    "        return 6\n",
    "    return 7\n",
    "\n",
    "\n",
    "def cat_clean(x):\n",
    "    '''binary columns were floats, make them ints'''\n",
    "    return int(x)\n",
    "\n",
    "\n",
    "def prep(df):\n",
    "    '''prepare dataframe for EDA'''\n",
    "    df['age'] = df['age'].apply(lambda x: num_age(x))\n",
    "    df['clear'] = df['clear'].apply(lambda x: cat_clean(x))\n",
    "    df['overcast'] = df['overcast'].apply(lambda x: cat_clean(x))\n",
    "    df['partially_cloudy'] = df['partially_cloudy'].apply(lambda x: cat_clean(x))\n",
    "    df['rain'] = df['rain'].apply(lambda x: cat_clean(x))\n",
    "\n",
    "    cols = ['year', 'age', 'male', 'time_seconds', 'minimum_temperature',\n",
    "           'maximum_temperature', 'temperature', 'relative_humidity', 'wind_speed',\n",
    "           'precipitation', 'precipitation_cover', 'cloud_cover', 'clear',\n",
    "           'overcast', 'partially_cloudy', 'rain']\n",
    "\n",
    "    for col in cols:\n",
    "        df[col] = pd.to_numeric(df[col], downcast='unsigned')\n",
    "\n",
    "    df.drop(columns=['maximum_temperature', 'minimum_temperature'], inplace=True)\n",
    "\n",
    "    event_dict = {year: df[df['year'] == year] for year in df['year'].unique()}\n",
    "    \n",
    "    return event_dict\n",
    "\n",
    "\n",
    "def usable(event_dict, num):\n",
    "    '''specify which years are usable based on minimum number of participants\n",
    "    returns dict with years that exceed minimum values are correspoding df'''\n",
    "    can_use = []\n",
    "    for year in event_dict.keys():\n",
    "        if len(event_dict[year]) > num:\n",
    "            can_use.append(year)\n",
    "    return {year: event_dict[year] for year in can_use}\n",
    "\n",
    "\n",
    "def top_n(event_dict, num):\n",
    "    '''take in event dict and first num of finishers that are desired,\n",
    "    return df of top n racers for all years, use in conjuction with usable()'''\n",
    "    df = pd.DataFrame()\n",
    "    for year in event_dict.keys():\n",
    "        df = pd.concat([df, event_dict[year].sort_values(by='time_seconds').iloc[:num]], ignore_index=True)\n",
    "    return df\n",
    "        \n",
    "    \n",
    "def n_range(event_dict, low, high):\n",
    "    '''take in dictionary of dfs from prep(), upper percentage as float, lower percentage as float\n",
    "    return df'''\n",
    "    df = pd.DataFrame()\n",
    "    for year in event_dict.keys():\n",
    "        df = pd.concat([df, event_dict[year].sort_values(by='time_seconds').iloc[int(len(event_dict[year]) * low): int(len(event_dict[year]) * high)]], ignore_index=True)\n",
    "    return df\n",
    "\n",
    "def model_scores(X_test, y_test, model):\n",
    "    nl = \"\\n\"\n",
    "    y_preds = model.predict(X_test)\n",
    "    return print(f'R2: {model.score(X_test, y_test)}{nl}MAE: {mean_absolute_error(y_test, y_preds)}{nl}MSE: {mean_squared_error(y_test, y_preds)}{nl}RMSE: {mean_squared_error(y_test, y_preds, squared=False)}')"
   ]
  },
  {
   "cell_type": "markdown",
   "id": "0817dad4-b3d7-439a-b8ec-9c936a63295f",
   "metadata": {
    "tags": []
   },
   "source": [
    "## All Participants"
   ]
  },
  {
   "cell_type": "markdown",
   "id": "872cfb28-d6a8-4078-aee5-11e323c20417",
   "metadata": {
    "tags": []
   },
   "source": [
    "### Grouped"
   ]
  },
  {
   "cell_type": "code",
   "execution_count": 3,
   "id": "37631f17-98db-4329-952b-95fc7b78d3e4",
   "metadata": {},
   "outputs": [],
   "source": [
    "london = pd.read_csv('./data/London_Data/Clean/Clean_London_Results_Weather.csv')\n",
    "nyc = pd.read_csv('./data/NYC_Data/Clean/Clean_NYC_Results_Weather.csv')\n",
    "boston = pd.read_csv('./data/Boston_Data/Clean/Clean_Boston_Results_Weather.csv')\n",
    "berlin = pd.read_csv('./data/Berlin_Data/Clean/Clean_Berlin_Results_Weather.csv')\n",
    "chicago = pd.read_csv('./data/Chicago_Data/Clean/Clean_Chicago_Results_Weather.csv')\n",
    "\n",
    "london_dict = prep(london)\n",
    "nyc_dict = prep(nyc)\n",
    "boston_dict = prep(boston)\n",
    "berlin_dict = prep(berlin)\n",
    "chicago_dict = prep(chicago)\n",
    "\n",
    "london = n_range(usable(london_dict, 9_900), 0, 1)\n",
    "nyc = n_range(usable(nyc_dict, 9_900), 0, 1)\n",
    "boston = n_range(usable(boston_dict, 9_900), 0, 1)\n",
    "berlin = n_range(usable(berlin_dict, 9_900), 0, 1)\n",
    "chicago = n_range(usable(chicago_dict, 9_900), 0, 1)\n",
    "\n",
    "aggregate = {col: 'mean' for col in london.drop(columns=['year'])}\n",
    "\n",
    "london = london.groupby(['year', 'age', 'male']).agg(aggregate)\n",
    "nyc = nyc.groupby(['year', 'age', 'male']).agg(aggregate)\n",
    "boston = boston.groupby(['year', 'age', 'male']).agg(aggregate)\n",
    "berlin = berlin.groupby(['year', 'age', 'male']).agg(aggregate)\n",
    "chicago = chicago.groupby(['year', 'age', 'male']).agg(aggregate)\n",
    "\n",
    "events = [boston, berlin, chicago, london, nyc]\n",
    "count = 0\n",
    "for event in events:\n",
    "    event['event'] = count\n",
    "    count += 1\n",
    "    \n",
    "combined = pd.concat(events)"
   ]
  },
  {
   "cell_type": "code",
   "execution_count": 4,
   "id": "7075bb56-4737-48e8-b7a5-6735744eddd3",
   "metadata": {},
   "outputs": [
    {
     "name": "stdout",
     "output_type": "stream",
     "text": [
      "R2: 0.8486382770895685\n",
      "MAE: 500.5378739349461\n",
      "MSE: 363822.3823038144\n",
      "RMSE: 603.1769079663233\n"
     ]
    }
   ],
   "source": [
    "train = london[london.index.isin(range(2017), level=0)]\n",
    "test = london[london.index.isin([2017, 2018], level=0)]\n",
    "\n",
    "X_train = train.drop(columns = ['time_seconds', 'clear'])\n",
    "X_test = test.drop(columns = ['time_seconds', 'clear'])\n",
    "\n",
    "y_train = train['time_seconds']\n",
    "y_test = test['time_seconds']\n",
    "\n",
    "lr = LinearRegression()\n",
    "lr.fit(X_train, y_train)\n",
    "model_scores(X_test, y_test, lr)"
   ]
  },
  {
   "cell_type": "code",
   "execution_count": 5,
   "id": "5c55f211-3322-4b38-ad2f-f9e5c015cc2a",
   "metadata": {},
   "outputs": [
    {
     "data": {
      "text/html": [
       "<div>\n",
       "<style scoped>\n",
       "    .dataframe tbody tr th:only-of-type {\n",
       "        vertical-align: middle;\n",
       "    }\n",
       "\n",
       "    .dataframe tbody tr th {\n",
       "        vertical-align: top;\n",
       "    }\n",
       "\n",
       "    .dataframe thead th {\n",
       "        text-align: right;\n",
       "    }\n",
       "</style>\n",
       "<table border=\"1\" class=\"dataframe\">\n",
       "  <thead>\n",
       "    <tr style=\"text-align: right;\">\n",
       "      <th></th>\n",
       "      <th>0</th>\n",
       "      <th>1</th>\n",
       "    </tr>\n",
       "  </thead>\n",
       "  <tbody>\n",
       "    <tr>\n",
       "      <th>0</th>\n",
       "      <td>age</td>\n",
       "      <td>452.511953</td>\n",
       "    </tr>\n",
       "    <tr>\n",
       "      <th>1</th>\n",
       "      <td>male</td>\n",
       "      <td>-1915.789567</td>\n",
       "    </tr>\n",
       "    <tr>\n",
       "      <th>2</th>\n",
       "      <td>temperature</td>\n",
       "      <td>39.860797</td>\n",
       "    </tr>\n",
       "    <tr>\n",
       "      <th>3</th>\n",
       "      <td>relative_humidity</td>\n",
       "      <td>-8.202356</td>\n",
       "    </tr>\n",
       "    <tr>\n",
       "      <th>4</th>\n",
       "      <td>wind_speed</td>\n",
       "      <td>32.583386</td>\n",
       "    </tr>\n",
       "    <tr>\n",
       "      <th>5</th>\n",
       "      <td>precipitation</td>\n",
       "      <td>1669.587288</td>\n",
       "    </tr>\n",
       "    <tr>\n",
       "      <th>6</th>\n",
       "      <td>precipitation_cover</td>\n",
       "      <td>10.751469</td>\n",
       "    </tr>\n",
       "    <tr>\n",
       "      <th>7</th>\n",
       "      <td>cloud_cover</td>\n",
       "      <td>-9.796220</td>\n",
       "    </tr>\n",
       "    <tr>\n",
       "      <th>8</th>\n",
       "      <td>overcast</td>\n",
       "      <td>0.000000</td>\n",
       "    </tr>\n",
       "    <tr>\n",
       "      <th>9</th>\n",
       "      <td>partially_cloudy</td>\n",
       "      <td>580.134974</td>\n",
       "    </tr>\n",
       "    <tr>\n",
       "      <th>10</th>\n",
       "      <td>rain</td>\n",
       "      <td>-383.200194</td>\n",
       "    </tr>\n",
       "    <tr>\n",
       "      <th>11</th>\n",
       "      <td>event</td>\n",
       "      <td>0.000000</td>\n",
       "    </tr>\n",
       "  </tbody>\n",
       "</table>\n",
       "</div>"
      ],
      "text/plain": [
       "                      0            1\n",
       "0                   age   452.511953\n",
       "1                  male -1915.789567\n",
       "2           temperature    39.860797\n",
       "3     relative_humidity    -8.202356\n",
       "4            wind_speed    32.583386\n",
       "5         precipitation  1669.587288\n",
       "6   precipitation_cover    10.751469\n",
       "7           cloud_cover    -9.796220\n",
       "8              overcast     0.000000\n",
       "9      partially_cloudy   580.134974\n",
       "10                 rain  -383.200194\n",
       "11                event     0.000000"
      ]
     },
     "execution_count": 5,
     "metadata": {},
     "output_type": "execute_result"
    }
   ],
   "source": [
    "pd.DataFrame(list(zip(X_test.columns,lr.coef_)))"
   ]
  },
  {
   "cell_type": "code",
   "execution_count": 6,
   "id": "b043206c-679b-4488-a7d8-82ee488af868",
   "metadata": {},
   "outputs": [
    {
     "name": "stdout",
     "output_type": "stream",
     "text": [
      "R2: 0.8861914478833699\n",
      "MAE: 565.6971374730781\n",
      "MSE: 442993.6853736852\n",
      "RMSE: 665.5777079903482\n"
     ]
    }
   ],
   "source": [
    "train = nyc[nyc.index.isin(range(2017), level=0)]\n",
    "test = nyc[nyc.index.isin([2017, 2018], level=0)]\n",
    "\n",
    "X_train = train.drop(columns = ['time_seconds', 'clear'])\n",
    "X_test = test.drop(columns = ['time_seconds', 'clear'])\n",
    "\n",
    "y_train = train['time_seconds']\n",
    "y_test = test['time_seconds']\n",
    "\n",
    "lr = LinearRegression()\n",
    "lr.fit(X_train, y_train)\n",
    "model_scores(X_test, y_test, lr)"
   ]
  },
  {
   "cell_type": "code",
   "execution_count": 7,
   "id": "e62cf20d-eca6-4125-a10f-3f6a1476ef33",
   "metadata": {},
   "outputs": [
    {
     "data": {
      "text/html": [
       "<div>\n",
       "<style scoped>\n",
       "    .dataframe tbody tr th:only-of-type {\n",
       "        vertical-align: middle;\n",
       "    }\n",
       "\n",
       "    .dataframe tbody tr th {\n",
       "        vertical-align: top;\n",
       "    }\n",
       "\n",
       "    .dataframe thead th {\n",
       "        text-align: right;\n",
       "    }\n",
       "</style>\n",
       "<table border=\"1\" class=\"dataframe\">\n",
       "  <thead>\n",
       "    <tr style=\"text-align: right;\">\n",
       "      <th></th>\n",
       "      <th>0</th>\n",
       "      <th>1</th>\n",
       "    </tr>\n",
       "  </thead>\n",
       "  <tbody>\n",
       "    <tr>\n",
       "      <th>0</th>\n",
       "      <td>age</td>\n",
       "      <td>7.542211e+02</td>\n",
       "    </tr>\n",
       "    <tr>\n",
       "      <th>1</th>\n",
       "      <td>male</td>\n",
       "      <td>-1.905192e+03</td>\n",
       "    </tr>\n",
       "    <tr>\n",
       "      <th>2</th>\n",
       "      <td>temperature</td>\n",
       "      <td>3.773948e+01</td>\n",
       "    </tr>\n",
       "    <tr>\n",
       "      <th>3</th>\n",
       "      <td>relative_humidity</td>\n",
       "      <td>-5.900199e+00</td>\n",
       "    </tr>\n",
       "    <tr>\n",
       "      <th>4</th>\n",
       "      <td>wind_speed</td>\n",
       "      <td>5.303955e+00</td>\n",
       "    </tr>\n",
       "    <tr>\n",
       "      <th>5</th>\n",
       "      <td>precipitation</td>\n",
       "      <td>-4.092726e-12</td>\n",
       "    </tr>\n",
       "    <tr>\n",
       "      <th>6</th>\n",
       "      <td>precipitation_cover</td>\n",
       "      <td>2.273737e-13</td>\n",
       "    </tr>\n",
       "    <tr>\n",
       "      <th>7</th>\n",
       "      <td>cloud_cover</td>\n",
       "      <td>1.381282e+01</td>\n",
       "    </tr>\n",
       "    <tr>\n",
       "      <th>8</th>\n",
       "      <td>overcast</td>\n",
       "      <td>-8.713175e+02</td>\n",
       "    </tr>\n",
       "    <tr>\n",
       "      <th>9</th>\n",
       "      <td>partially_cloudy</td>\n",
       "      <td>-5.501956e+02</td>\n",
       "    </tr>\n",
       "    <tr>\n",
       "      <th>10</th>\n",
       "      <td>rain</td>\n",
       "      <td>0.000000e+00</td>\n",
       "    </tr>\n",
       "    <tr>\n",
       "      <th>11</th>\n",
       "      <td>event</td>\n",
       "      <td>0.000000e+00</td>\n",
       "    </tr>\n",
       "  </tbody>\n",
       "</table>\n",
       "</div>"
      ],
      "text/plain": [
       "                      0             1\n",
       "0                   age  7.542211e+02\n",
       "1                  male -1.905192e+03\n",
       "2           temperature  3.773948e+01\n",
       "3     relative_humidity -5.900199e+00\n",
       "4            wind_speed  5.303955e+00\n",
       "5         precipitation -4.092726e-12\n",
       "6   precipitation_cover  2.273737e-13\n",
       "7           cloud_cover  1.381282e+01\n",
       "8              overcast -8.713175e+02\n",
       "9      partially_cloudy -5.501956e+02\n",
       "10                 rain  0.000000e+00\n",
       "11                event  0.000000e+00"
      ]
     },
     "execution_count": 7,
     "metadata": {},
     "output_type": "execute_result"
    }
   ],
   "source": [
    "pd.DataFrame(list(zip(X_test.columns,lr.coef_)))"
   ]
  },
  {
   "cell_type": "code",
   "execution_count": 8,
   "id": "d07d0a73-a9d6-4038-930e-04d66aa2071b",
   "metadata": {},
   "outputs": [
    {
     "name": "stdout",
     "output_type": "stream",
     "text": [
      "R2: 0.47207035106013917\n",
      "MAE: 1318.2329814451143\n",
      "MSE: 1953173.294080445\n",
      "RMSE: 1397.5597640460478\n"
     ]
    }
   ],
   "source": [
    "train = boston[boston.index.isin(range(2017), level=0)]\n",
    "test = boston[boston.index.isin([2017, 2018], level=0)]\n",
    "\n",
    "X_train = train.drop(columns = ['time_seconds', 'clear', 'overcast', 'partially_cloudy'])\n",
    "X_test = test.drop(columns = ['time_seconds', 'clear', 'overcast', 'partially_cloudy'])\n",
    "\n",
    "y_train = train['time_seconds']\n",
    "y_test = test['time_seconds']\n",
    "\n",
    "lr = LinearRegression()\n",
    "lr.fit(X_train, y_train)\n",
    "model_scores(X_test, y_test, lr)"
   ]
  },
  {
   "cell_type": "code",
   "execution_count": 9,
   "id": "b2f759cd-ea70-430f-935f-96a4cf8639c3",
   "metadata": {},
   "outputs": [
    {
     "data": {
      "text/html": [
       "<div>\n",
       "<style scoped>\n",
       "    .dataframe tbody tr th:only-of-type {\n",
       "        vertical-align: middle;\n",
       "    }\n",
       "\n",
       "    .dataframe tbody tr th {\n",
       "        vertical-align: top;\n",
       "    }\n",
       "\n",
       "    .dataframe thead th {\n",
       "        text-align: right;\n",
       "    }\n",
       "</style>\n",
       "<table border=\"1\" class=\"dataframe\">\n",
       "  <thead>\n",
       "    <tr style=\"text-align: right;\">\n",
       "      <th></th>\n",
       "      <th>0</th>\n",
       "      <th>1</th>\n",
       "    </tr>\n",
       "  </thead>\n",
       "  <tbody>\n",
       "    <tr>\n",
       "      <th>0</th>\n",
       "      <td>age</td>\n",
       "      <td>593.763749</td>\n",
       "    </tr>\n",
       "    <tr>\n",
       "      <th>1</th>\n",
       "      <td>male</td>\n",
       "      <td>-1431.211599</td>\n",
       "    </tr>\n",
       "    <tr>\n",
       "      <th>2</th>\n",
       "      <td>temperature</td>\n",
       "      <td>87.334866</td>\n",
       "    </tr>\n",
       "    <tr>\n",
       "      <th>3</th>\n",
       "      <td>relative_humidity</td>\n",
       "      <td>11.906754</td>\n",
       "    </tr>\n",
       "    <tr>\n",
       "      <th>4</th>\n",
       "      <td>wind_speed</td>\n",
       "      <td>-0.085594</td>\n",
       "    </tr>\n",
       "    <tr>\n",
       "      <th>5</th>\n",
       "      <td>precipitation</td>\n",
       "      <td>1967.982287</td>\n",
       "    </tr>\n",
       "    <tr>\n",
       "      <th>6</th>\n",
       "      <td>precipitation_cover</td>\n",
       "      <td>1.077872</td>\n",
       "    </tr>\n",
       "    <tr>\n",
       "      <th>7</th>\n",
       "      <td>cloud_cover</td>\n",
       "      <td>-14.533504</td>\n",
       "    </tr>\n",
       "    <tr>\n",
       "      <th>8</th>\n",
       "      <td>rain</td>\n",
       "      <td>64.285743</td>\n",
       "    </tr>\n",
       "    <tr>\n",
       "      <th>9</th>\n",
       "      <td>event</td>\n",
       "      <td>0.000000</td>\n",
       "    </tr>\n",
       "  </tbody>\n",
       "</table>\n",
       "</div>"
      ],
      "text/plain": [
       "                     0            1\n",
       "0                  age   593.763749\n",
       "1                 male -1431.211599\n",
       "2          temperature    87.334866\n",
       "3    relative_humidity    11.906754\n",
       "4           wind_speed    -0.085594\n",
       "5        precipitation  1967.982287\n",
       "6  precipitation_cover     1.077872\n",
       "7          cloud_cover   -14.533504\n",
       "8                 rain    64.285743\n",
       "9                event     0.000000"
      ]
     },
     "execution_count": 9,
     "metadata": {},
     "output_type": "execute_result"
    }
   ],
   "source": [
    "pd.DataFrame(list(zip(X_test.columns,lr.coef_)))"
   ]
  },
  {
   "cell_type": "code",
   "execution_count": 10,
   "id": "d71765aa-3c14-4b1a-8937-5eb40f629058",
   "metadata": {},
   "outputs": [
    {
     "name": "stdout",
     "output_type": "stream",
     "text": [
      "R2: 0.5841806815774391\n",
      "MAE: 829.7206237258863\n",
      "MSE: 923687.0762982728\n",
      "RMSE: 961.0864041792876\n"
     ]
    }
   ],
   "source": [
    "train = berlin[berlin.index.isin(range(2017), level=0)]\n",
    "test = berlin[berlin.index.isin([2017, 2018], level=0)]\n",
    "\n",
    "X_train = train.drop(columns = ['time_seconds', 'clear'])\n",
    "X_test = test.drop(columns = ['time_seconds', 'clear'])\n",
    "\n",
    "y_train = train['time_seconds']\n",
    "y_test = test['time_seconds']\n",
    "\n",
    "lr = LinearRegression()\n",
    "lr.fit(X_train, y_train)\n",
    "model_scores(X_test, y_test, lr)"
   ]
  },
  {
   "cell_type": "code",
   "execution_count": 11,
   "id": "e0c6293b-ead2-413b-af1a-ddeeb2c054b8",
   "metadata": {},
   "outputs": [
    {
     "data": {
      "text/html": [
       "<div>\n",
       "<style scoped>\n",
       "    .dataframe tbody tr th:only-of-type {\n",
       "        vertical-align: middle;\n",
       "    }\n",
       "\n",
       "    .dataframe tbody tr th {\n",
       "        vertical-align: top;\n",
       "    }\n",
       "\n",
       "    .dataframe thead th {\n",
       "        text-align: right;\n",
       "    }\n",
       "</style>\n",
       "<table border=\"1\" class=\"dataframe\">\n",
       "  <thead>\n",
       "    <tr style=\"text-align: right;\">\n",
       "      <th></th>\n",
       "      <th>0</th>\n",
       "      <th>1</th>\n",
       "    </tr>\n",
       "  </thead>\n",
       "  <tbody>\n",
       "    <tr>\n",
       "      <th>0</th>\n",
       "      <td>age</td>\n",
       "      <td>4.670261e+02</td>\n",
       "    </tr>\n",
       "    <tr>\n",
       "      <th>1</th>\n",
       "      <td>male</td>\n",
       "      <td>-1.455646e+03</td>\n",
       "    </tr>\n",
       "    <tr>\n",
       "      <th>2</th>\n",
       "      <td>temperature</td>\n",
       "      <td>6.920877e+01</td>\n",
       "    </tr>\n",
       "    <tr>\n",
       "      <th>3</th>\n",
       "      <td>relative_humidity</td>\n",
       "      <td>5.048345e+00</td>\n",
       "    </tr>\n",
       "    <tr>\n",
       "      <th>4</th>\n",
       "      <td>wind_speed</td>\n",
       "      <td>-1.274645e+01</td>\n",
       "    </tr>\n",
       "    <tr>\n",
       "      <th>5</th>\n",
       "      <td>precipitation</td>\n",
       "      <td>-6.536993e-13</td>\n",
       "    </tr>\n",
       "    <tr>\n",
       "      <th>6</th>\n",
       "      <td>precipitation_cover</td>\n",
       "      <td>2.273737e-13</td>\n",
       "    </tr>\n",
       "    <tr>\n",
       "      <th>7</th>\n",
       "      <td>cloud_cover</td>\n",
       "      <td>-1.335731e+01</td>\n",
       "    </tr>\n",
       "    <tr>\n",
       "      <th>8</th>\n",
       "      <td>overcast</td>\n",
       "      <td>1.103646e+03</td>\n",
       "    </tr>\n",
       "    <tr>\n",
       "      <th>9</th>\n",
       "      <td>partially_cloudy</td>\n",
       "      <td>7.685363e+02</td>\n",
       "    </tr>\n",
       "    <tr>\n",
       "      <th>10</th>\n",
       "      <td>rain</td>\n",
       "      <td>0.000000e+00</td>\n",
       "    </tr>\n",
       "    <tr>\n",
       "      <th>11</th>\n",
       "      <td>event</td>\n",
       "      <td>0.000000e+00</td>\n",
       "    </tr>\n",
       "  </tbody>\n",
       "</table>\n",
       "</div>"
      ],
      "text/plain": [
       "                      0             1\n",
       "0                   age  4.670261e+02\n",
       "1                  male -1.455646e+03\n",
       "2           temperature  6.920877e+01\n",
       "3     relative_humidity  5.048345e+00\n",
       "4            wind_speed -1.274645e+01\n",
       "5         precipitation -6.536993e-13\n",
       "6   precipitation_cover  2.273737e-13\n",
       "7           cloud_cover -1.335731e+01\n",
       "8              overcast  1.103646e+03\n",
       "9      partially_cloudy  7.685363e+02\n",
       "10                 rain  0.000000e+00\n",
       "11                event  0.000000e+00"
      ]
     },
     "execution_count": 11,
     "metadata": {},
     "output_type": "execute_result"
    }
   ],
   "source": [
    "pd.DataFrame(list(zip(X_test.columns,lr.coef_)))"
   ]
  },
  {
   "cell_type": "code",
   "execution_count": 12,
   "id": "320442f9-80da-4d5b-9b2a-b99b7d3b4c74",
   "metadata": {},
   "outputs": [
    {
     "name": "stdout",
     "output_type": "stream",
     "text": [
      "R2: 0.8727267283684006\n",
      "MAE: 476.75164008732094\n",
      "MSE: 355137.6957471701\n",
      "RMSE: 595.9343048920493\n"
     ]
    }
   ],
   "source": [
    "train = chicago[chicago.index.isin(range(2017), level=0)]\n",
    "test = chicago[chicago.index.isin([2017, 2018], level=0)]\n",
    "\n",
    "X_train = train.drop(columns = ['time_seconds', 'clear'])\n",
    "X_test = test.drop(columns = ['time_seconds', 'clear'])\n",
    "\n",
    "y_train = train['time_seconds']\n",
    "y_test = test['time_seconds']\n",
    "\n",
    "lr = LinearRegression()\n",
    "lr.fit(X_train, y_train)\n",
    "model_scores(X_test, y_test, lr)"
   ]
  },
  {
   "cell_type": "code",
   "execution_count": 13,
   "id": "131bdfb2-8337-4286-9b7d-451c3d405c3a",
   "metadata": {},
   "outputs": [
    {
     "data": {
      "text/html": [
       "<div>\n",
       "<style scoped>\n",
       "    .dataframe tbody tr th:only-of-type {\n",
       "        vertical-align: middle;\n",
       "    }\n",
       "\n",
       "    .dataframe tbody tr th {\n",
       "        vertical-align: top;\n",
       "    }\n",
       "\n",
       "    .dataframe thead th {\n",
       "        text-align: right;\n",
       "    }\n",
       "</style>\n",
       "<table border=\"1\" class=\"dataframe\">\n",
       "  <thead>\n",
       "    <tr style=\"text-align: right;\">\n",
       "      <th></th>\n",
       "      <th>0</th>\n",
       "      <th>1</th>\n",
       "    </tr>\n",
       "  </thead>\n",
       "  <tbody>\n",
       "    <tr>\n",
       "      <th>0</th>\n",
       "      <td>age</td>\n",
       "      <td>447.221232</td>\n",
       "    </tr>\n",
       "    <tr>\n",
       "      <th>1</th>\n",
       "      <td>male</td>\n",
       "      <td>-1535.602797</td>\n",
       "    </tr>\n",
       "    <tr>\n",
       "      <th>2</th>\n",
       "      <td>temperature</td>\n",
       "      <td>45.002944</td>\n",
       "    </tr>\n",
       "    <tr>\n",
       "      <th>3</th>\n",
       "      <td>relative_humidity</td>\n",
       "      <td>-8.631163</td>\n",
       "    </tr>\n",
       "    <tr>\n",
       "      <th>4</th>\n",
       "      <td>wind_speed</td>\n",
       "      <td>-58.098825</td>\n",
       "    </tr>\n",
       "    <tr>\n",
       "      <th>5</th>\n",
       "      <td>precipitation</td>\n",
       "      <td>-0.009502</td>\n",
       "    </tr>\n",
       "    <tr>\n",
       "      <th>6</th>\n",
       "      <td>precipitation_cover</td>\n",
       "      <td>-9.501577</td>\n",
       "    </tr>\n",
       "    <tr>\n",
       "      <th>7</th>\n",
       "      <td>cloud_cover</td>\n",
       "      <td>16.083448</td>\n",
       "    </tr>\n",
       "    <tr>\n",
       "      <th>8</th>\n",
       "      <td>overcast</td>\n",
       "      <td>-458.174109</td>\n",
       "    </tr>\n",
       "    <tr>\n",
       "      <th>9</th>\n",
       "      <td>partially_cloudy</td>\n",
       "      <td>-795.303901</td>\n",
       "    </tr>\n",
       "    <tr>\n",
       "      <th>10</th>\n",
       "      <td>rain</td>\n",
       "      <td>-0.950158</td>\n",
       "    </tr>\n",
       "    <tr>\n",
       "      <th>11</th>\n",
       "      <td>event</td>\n",
       "      <td>0.000000</td>\n",
       "    </tr>\n",
       "  </tbody>\n",
       "</table>\n",
       "</div>"
      ],
      "text/plain": [
       "                      0            1\n",
       "0                   age   447.221232\n",
       "1                  male -1535.602797\n",
       "2           temperature    45.002944\n",
       "3     relative_humidity    -8.631163\n",
       "4            wind_speed   -58.098825\n",
       "5         precipitation    -0.009502\n",
       "6   precipitation_cover    -9.501577\n",
       "7           cloud_cover    16.083448\n",
       "8              overcast  -458.174109\n",
       "9      partially_cloudy  -795.303901\n",
       "10                 rain    -0.950158\n",
       "11                event     0.000000"
      ]
     },
     "execution_count": 13,
     "metadata": {},
     "output_type": "execute_result"
    }
   ],
   "source": [
    "pd.DataFrame(list(zip(X_test.columns,lr.coef_)))"
   ]
  },
  {
   "cell_type": "code",
   "execution_count": 14,
   "id": "cc939ab3-6524-4ab4-a79f-6c09b712fc29",
   "metadata": {},
   "outputs": [
    {
     "name": "stdout",
     "output_type": "stream",
     "text": [
      "R2: 0.7916902791307696\n",
      "MAE: 686.2739802027909\n",
      "MSE: 759983.6716734858\n",
      "RMSE: 871.7704237203083\n"
     ]
    }
   ],
   "source": [
    "train = combined[combined.index.isin(range(2017), level=0)]\n",
    "test = combined[combined.index.isin([2017, 2018], level=0)]\n",
    "\n",
    "X_train = train.drop(columns = ['time_seconds', 'clear'])\n",
    "X_test = test.drop(columns = ['time_seconds', 'clear'])\n",
    "\n",
    "y_train = train['time_seconds']\n",
    "y_test = test['time_seconds']\n",
    "\n",
    "lr = LinearRegression()\n",
    "lr.fit(X_train, y_train)\n",
    "model_scores(X_test, y_test, lr)"
   ]
  },
  {
   "cell_type": "code",
   "execution_count": 15,
   "id": "c5c71c53-58fe-4216-9fd8-0875b83df319",
   "metadata": {},
   "outputs": [
    {
     "data": {
      "text/html": [
       "<div>\n",
       "<style scoped>\n",
       "    .dataframe tbody tr th:only-of-type {\n",
       "        vertical-align: middle;\n",
       "    }\n",
       "\n",
       "    .dataframe tbody tr th {\n",
       "        vertical-align: top;\n",
       "    }\n",
       "\n",
       "    .dataframe thead th {\n",
       "        text-align: right;\n",
       "    }\n",
       "</style>\n",
       "<table border=\"1\" class=\"dataframe\">\n",
       "  <thead>\n",
       "    <tr style=\"text-align: right;\">\n",
       "      <th></th>\n",
       "      <th>0</th>\n",
       "      <th>1</th>\n",
       "    </tr>\n",
       "  </thead>\n",
       "  <tbody>\n",
       "    <tr>\n",
       "      <th>0</th>\n",
       "      <td>age</td>\n",
       "      <td>531.804243</td>\n",
       "    </tr>\n",
       "    <tr>\n",
       "      <th>1</th>\n",
       "      <td>male</td>\n",
       "      <td>-1621.130457</td>\n",
       "    </tr>\n",
       "    <tr>\n",
       "      <th>2</th>\n",
       "      <td>temperature</td>\n",
       "      <td>51.010572</td>\n",
       "    </tr>\n",
       "    <tr>\n",
       "      <th>3</th>\n",
       "      <td>relative_humidity</td>\n",
       "      <td>-16.261533</td>\n",
       "    </tr>\n",
       "    <tr>\n",
       "      <th>4</th>\n",
       "      <td>wind_speed</td>\n",
       "      <td>5.019670</td>\n",
       "    </tr>\n",
       "    <tr>\n",
       "      <th>5</th>\n",
       "      <td>precipitation</td>\n",
       "      <td>86.059875</td>\n",
       "    </tr>\n",
       "    <tr>\n",
       "      <th>6</th>\n",
       "      <td>precipitation_cover</td>\n",
       "      <td>2.786980</td>\n",
       "    </tr>\n",
       "    <tr>\n",
       "      <th>7</th>\n",
       "      <td>cloud_cover</td>\n",
       "      <td>3.582419</td>\n",
       "    </tr>\n",
       "    <tr>\n",
       "      <th>8</th>\n",
       "      <td>overcast</td>\n",
       "      <td>58.313080</td>\n",
       "    </tr>\n",
       "    <tr>\n",
       "      <th>9</th>\n",
       "      <td>partially_cloudy</td>\n",
       "      <td>46.716189</td>\n",
       "    </tr>\n",
       "    <tr>\n",
       "      <th>10</th>\n",
       "      <td>rain</td>\n",
       "      <td>448.609756</td>\n",
       "    </tr>\n",
       "    <tr>\n",
       "      <th>11</th>\n",
       "      <td>event</td>\n",
       "      <td>705.798336</td>\n",
       "    </tr>\n",
       "  </tbody>\n",
       "</table>\n",
       "</div>"
      ],
      "text/plain": [
       "                      0            1\n",
       "0                   age   531.804243\n",
       "1                  male -1621.130457\n",
       "2           temperature    51.010572\n",
       "3     relative_humidity   -16.261533\n",
       "4            wind_speed     5.019670\n",
       "5         precipitation    86.059875\n",
       "6   precipitation_cover     2.786980\n",
       "7           cloud_cover     3.582419\n",
       "8              overcast    58.313080\n",
       "9      partially_cloudy    46.716189\n",
       "10                 rain   448.609756\n",
       "11                event   705.798336"
      ]
     },
     "execution_count": 15,
     "metadata": {},
     "output_type": "execute_result"
    }
   ],
   "source": [
    "pd.DataFrame(list(zip(X_test.columns,lr.coef_)))"
   ]
  },
  {
   "cell_type": "markdown",
   "id": "3249e57d-640d-479e-84c3-633c153ee24b",
   "metadata": {
    "tags": []
   },
   "source": [
    "## Model (on top 10k)"
   ]
  },
  {
   "cell_type": "markdown",
   "id": "33a8bd2f-8dd3-4497-a38c-11f45f31182f",
   "metadata": {
    "tags": []
   },
   "source": [
    "### Separated on Event"
   ]
  },
  {
   "cell_type": "code",
   "execution_count": 16,
   "id": "6bca83ea-16b7-4652-9841-d773cccbd14f",
   "metadata": {},
   "outputs": [],
   "source": [
    "london = pd.read_csv('./data/London_Data/Clean/Clean_London_Results_Weather.csv')\n",
    "nyc = pd.read_csv('./data/NYC_Data/Clean/Clean_NYC_Results_Weather.csv')\n",
    "boston = pd.read_csv('./data/Boston_Data/Clean/Clean_Boston_Results_Weather.csv')\n",
    "berlin = pd.read_csv('./data/Berlin_Data/Clean/Clean_Berlin_Results_Weather.csv')\n",
    "chicago = pd.read_csv('./data/Chicago_Data/Clean/Clean_Chicago_Results_Weather.csv')\n",
    "\n",
    "london_dict = prep(london)\n",
    "nyc_dict = prep(nyc)\n",
    "boston_dict = prep(boston)\n",
    "berlin_dict = prep(berlin)\n",
    "chicago_dict = prep(chicago)\n",
    "\n",
    "london_10 = top_n(usable(london_dict, 10_000), 10_000)\n",
    "nyc_10 = top_n(usable(nyc_dict, 9_000), 9_900)\n",
    "boston_10 = top_n(usable(boston_dict, 10_000), 10_000)\n",
    "berlin_10 = top_n(usable(berlin_dict, 10_000), 10_000)\n",
    "chicago_10 = top_n(usable(chicago_dict, 10_000), 10_000)\n",
    "\n",
    "aggregate = {col: 'mean' for col in london_10.drop(columns=['year'])}\n",
    "\n",
    "london_10 = london_10.groupby(['year', 'age', 'male']).agg(aggregate)\n",
    "nyc_10 = nyc_10.groupby(['year', 'age', 'male']).agg(aggregate)\n",
    "boston_10 = boston_10.groupby(['year', 'age', 'male']).agg(aggregate)\n",
    "berlin_10 = berlin_10.groupby(['year', 'age', 'male']).agg(aggregate)\n",
    "chicago_10 = chicago_10.groupby(['year', 'age', 'male']).agg(aggregate)\n",
    "\n",
    "combined_10 = pd.concat([london_10, nyc_10, boston_10, berlin_10, chicago_10])"
   ]
  },
  {
   "cell_type": "code",
   "execution_count": 17,
   "id": "4f5ee519-f940-4358-a211-ad5511880f62",
   "metadata": {},
   "outputs": [
    {
     "ename": "KeyError",
     "evalue": "'year'",
     "output_type": "error",
     "traceback": [
      "\u001b[1;31m---------------------------------------------------------------------------\u001b[0m",
      "\u001b[1;31mKeyError\u001b[0m                                  Traceback (most recent call last)",
      "\u001b[1;32m~\\anaconda3\\lib\\site-packages\\pandas\\core\\indexes\\base.py\u001b[0m in \u001b[0;36mget_loc\u001b[1;34m(self, key, method, tolerance)\u001b[0m\n\u001b[0;32m   3360\u001b[0m             \u001b[1;32mtry\u001b[0m\u001b[1;33m:\u001b[0m\u001b[1;33m\u001b[0m\u001b[1;33m\u001b[0m\u001b[0m\n\u001b[1;32m-> 3361\u001b[1;33m                 \u001b[1;32mreturn\u001b[0m \u001b[0mself\u001b[0m\u001b[1;33m.\u001b[0m\u001b[0m_engine\u001b[0m\u001b[1;33m.\u001b[0m\u001b[0mget_loc\u001b[0m\u001b[1;33m(\u001b[0m\u001b[0mcasted_key\u001b[0m\u001b[1;33m)\u001b[0m\u001b[1;33m\u001b[0m\u001b[1;33m\u001b[0m\u001b[0m\n\u001b[0m\u001b[0;32m   3362\u001b[0m             \u001b[1;32mexcept\u001b[0m \u001b[0mKeyError\u001b[0m \u001b[1;32mas\u001b[0m \u001b[0merr\u001b[0m\u001b[1;33m:\u001b[0m\u001b[1;33m\u001b[0m\u001b[1;33m\u001b[0m\u001b[0m\n",
      "\u001b[1;32m~\\anaconda3\\lib\\site-packages\\pandas\\_libs\\index.pyx\u001b[0m in \u001b[0;36mpandas._libs.index.IndexEngine.get_loc\u001b[1;34m()\u001b[0m\n",
      "\u001b[1;32m~\\anaconda3\\lib\\site-packages\\pandas\\_libs\\index.pyx\u001b[0m in \u001b[0;36mpandas._libs.index.IndexEngine.get_loc\u001b[1;34m()\u001b[0m\n",
      "\u001b[1;32mpandas\\_libs\\hashtable_class_helper.pxi\u001b[0m in \u001b[0;36mpandas._libs.hashtable.PyObjectHashTable.get_item\u001b[1;34m()\u001b[0m\n",
      "\u001b[1;32mpandas\\_libs\\hashtable_class_helper.pxi\u001b[0m in \u001b[0;36mpandas._libs.hashtable.PyObjectHashTable.get_item\u001b[1;34m()\u001b[0m\n",
      "\u001b[1;31mKeyError\u001b[0m: 'year'",
      "\nThe above exception was the direct cause of the following exception:\n",
      "\u001b[1;31mKeyError\u001b[0m                                  Traceback (most recent call last)",
      "\u001b[1;32m~\\AppData\\Local\\Temp/ipykernel_9152/1532754125.py\u001b[0m in \u001b[0;36m<module>\u001b[1;34m\u001b[0m\n\u001b[1;32m----> 1\u001b[1;33m \u001b[0mlondon_train\u001b[0m \u001b[1;33m=\u001b[0m \u001b[0mlondon_10\u001b[0m\u001b[1;33m[\u001b[0m\u001b[0mlondon_10\u001b[0m\u001b[1;33m[\u001b[0m\u001b[1;34m'year'\u001b[0m\u001b[1;33m]\u001b[0m \u001b[1;33m<\u001b[0m \u001b[1;36m2016\u001b[0m\u001b[1;33m]\u001b[0m\u001b[1;33m\u001b[0m\u001b[1;33m\u001b[0m\u001b[0m\n\u001b[0m\u001b[0;32m      2\u001b[0m \u001b[0mlondon_test\u001b[0m \u001b[1;33m=\u001b[0m \u001b[0mpd\u001b[0m\u001b[1;33m.\u001b[0m\u001b[0mconcat\u001b[0m\u001b[1;33m(\u001b[0m\u001b[1;33m[\u001b[0m\u001b[0mlondon_10\u001b[0m\u001b[1;33m[\u001b[0m\u001b[0mlondon_10\u001b[0m\u001b[1;33m[\u001b[0m\u001b[1;34m'year'\u001b[0m\u001b[1;33m]\u001b[0m \u001b[1;33m==\u001b[0m \u001b[1;36m2017\u001b[0m\u001b[1;33m]\u001b[0m\u001b[1;33m,\u001b[0m \u001b[0mlondon_10\u001b[0m\u001b[1;33m[\u001b[0m\u001b[0mlondon_10\u001b[0m\u001b[1;33m[\u001b[0m\u001b[1;34m'year'\u001b[0m\u001b[1;33m]\u001b[0m \u001b[1;33m==\u001b[0m \u001b[1;36m2018\u001b[0m\u001b[1;33m]\u001b[0m\u001b[1;33m]\u001b[0m\u001b[1;33m,\u001b[0m \u001b[0mignore_index\u001b[0m\u001b[1;33m=\u001b[0m\u001b[1;32mFalse\u001b[0m\u001b[1;33m)\u001b[0m\u001b[1;33m\u001b[0m\u001b[1;33m\u001b[0m\u001b[0m\n\u001b[0;32m      3\u001b[0m \u001b[1;33m\u001b[0m\u001b[0m\n\u001b[0;32m      4\u001b[0m \u001b[0mresults\u001b[0m \u001b[1;33m=\u001b[0m \u001b[1;33m{\u001b[0m\u001b[1;33m}\u001b[0m\u001b[1;33m\u001b[0m\u001b[1;33m\u001b[0m\u001b[0m\n\u001b[0;32m      5\u001b[0m \u001b[0mbest_london\u001b[0m \u001b[1;33m=\u001b[0m \u001b[1;33m{\u001b[0m\u001b[1;33m}\u001b[0m\u001b[1;33m\u001b[0m\u001b[1;33m\u001b[0m\u001b[0m\n",
      "\u001b[1;32m~\\anaconda3\\lib\\site-packages\\pandas\\core\\frame.py\u001b[0m in \u001b[0;36m__getitem__\u001b[1;34m(self, key)\u001b[0m\n\u001b[0;32m   3456\u001b[0m             \u001b[1;32mif\u001b[0m \u001b[0mself\u001b[0m\u001b[1;33m.\u001b[0m\u001b[0mcolumns\u001b[0m\u001b[1;33m.\u001b[0m\u001b[0mnlevels\u001b[0m \u001b[1;33m>\u001b[0m \u001b[1;36m1\u001b[0m\u001b[1;33m:\u001b[0m\u001b[1;33m\u001b[0m\u001b[1;33m\u001b[0m\u001b[0m\n\u001b[0;32m   3457\u001b[0m                 \u001b[1;32mreturn\u001b[0m \u001b[0mself\u001b[0m\u001b[1;33m.\u001b[0m\u001b[0m_getitem_multilevel\u001b[0m\u001b[1;33m(\u001b[0m\u001b[0mkey\u001b[0m\u001b[1;33m)\u001b[0m\u001b[1;33m\u001b[0m\u001b[1;33m\u001b[0m\u001b[0m\n\u001b[1;32m-> 3458\u001b[1;33m             \u001b[0mindexer\u001b[0m \u001b[1;33m=\u001b[0m \u001b[0mself\u001b[0m\u001b[1;33m.\u001b[0m\u001b[0mcolumns\u001b[0m\u001b[1;33m.\u001b[0m\u001b[0mget_loc\u001b[0m\u001b[1;33m(\u001b[0m\u001b[0mkey\u001b[0m\u001b[1;33m)\u001b[0m\u001b[1;33m\u001b[0m\u001b[1;33m\u001b[0m\u001b[0m\n\u001b[0m\u001b[0;32m   3459\u001b[0m             \u001b[1;32mif\u001b[0m \u001b[0mis_integer\u001b[0m\u001b[1;33m(\u001b[0m\u001b[0mindexer\u001b[0m\u001b[1;33m)\u001b[0m\u001b[1;33m:\u001b[0m\u001b[1;33m\u001b[0m\u001b[1;33m\u001b[0m\u001b[0m\n\u001b[0;32m   3460\u001b[0m                 \u001b[0mindexer\u001b[0m \u001b[1;33m=\u001b[0m \u001b[1;33m[\u001b[0m\u001b[0mindexer\u001b[0m\u001b[1;33m]\u001b[0m\u001b[1;33m\u001b[0m\u001b[1;33m\u001b[0m\u001b[0m\n",
      "\u001b[1;32m~\\anaconda3\\lib\\site-packages\\pandas\\core\\indexes\\base.py\u001b[0m in \u001b[0;36mget_loc\u001b[1;34m(self, key, method, tolerance)\u001b[0m\n\u001b[0;32m   3361\u001b[0m                 \u001b[1;32mreturn\u001b[0m \u001b[0mself\u001b[0m\u001b[1;33m.\u001b[0m\u001b[0m_engine\u001b[0m\u001b[1;33m.\u001b[0m\u001b[0mget_loc\u001b[0m\u001b[1;33m(\u001b[0m\u001b[0mcasted_key\u001b[0m\u001b[1;33m)\u001b[0m\u001b[1;33m\u001b[0m\u001b[1;33m\u001b[0m\u001b[0m\n\u001b[0;32m   3362\u001b[0m             \u001b[1;32mexcept\u001b[0m \u001b[0mKeyError\u001b[0m \u001b[1;32mas\u001b[0m \u001b[0merr\u001b[0m\u001b[1;33m:\u001b[0m\u001b[1;33m\u001b[0m\u001b[1;33m\u001b[0m\u001b[0m\n\u001b[1;32m-> 3363\u001b[1;33m                 \u001b[1;32mraise\u001b[0m \u001b[0mKeyError\u001b[0m\u001b[1;33m(\u001b[0m\u001b[0mkey\u001b[0m\u001b[1;33m)\u001b[0m \u001b[1;32mfrom\u001b[0m \u001b[0merr\u001b[0m\u001b[1;33m\u001b[0m\u001b[1;33m\u001b[0m\u001b[0m\n\u001b[0m\u001b[0;32m   3364\u001b[0m \u001b[1;33m\u001b[0m\u001b[0m\n\u001b[0;32m   3365\u001b[0m         \u001b[1;32mif\u001b[0m \u001b[0mis_scalar\u001b[0m\u001b[1;33m(\u001b[0m\u001b[0mkey\u001b[0m\u001b[1;33m)\u001b[0m \u001b[1;32mand\u001b[0m \u001b[0misna\u001b[0m\u001b[1;33m(\u001b[0m\u001b[0mkey\u001b[0m\u001b[1;33m)\u001b[0m \u001b[1;32mand\u001b[0m \u001b[1;32mnot\u001b[0m \u001b[0mself\u001b[0m\u001b[1;33m.\u001b[0m\u001b[0mhasnans\u001b[0m\u001b[1;33m:\u001b[0m\u001b[1;33m\u001b[0m\u001b[1;33m\u001b[0m\u001b[0m\n",
      "\u001b[1;31mKeyError\u001b[0m: 'year'"
     ]
    }
   ],
   "source": [
    "london_train = london_10[london_10['year'] < 2016]\n",
    "london_test = pd.concat([london_10[london_10['year'] == 2017], london_10[london_10['year'] == 2018]], ignore_index=False)\n",
    "\n",
    "results = {}\n",
    "best_london = {}\n",
    "\n",
    "for i in range(len(cols)):\n",
    "    for combo in itertools.combinations(cols, i):\n",
    "        drop_cols = list(combo)\n",
    "        drop_cols.append('time_seconds')\n",
    "        drop_cols.append('clear')\n",
    "\n",
    "        X_train = london_train.drop(columns=drop_cols)\n",
    "        y_train = london_train['time_seconds']\n",
    "\n",
    "        X_test = london_test.drop(columns=drop_cols)\n",
    "        y_test = london_test['time_seconds']\n",
    "\n",
    "        lr = LinearRegression()\n",
    "        lr.fit(X_train, y_train)\n",
    "\n",
    "        preds = lr.predict(X_test)\n",
    "        results[mean_squared_error(y_test, preds, squared=False)] = drop_cols\n",
    "\n",
    "    best_london[min(results.keys())] = results[min(results.keys())]"
   ]
  },
  {
   "cell_type": "code",
   "execution_count": null,
   "id": "1a9ccd88-14c5-4850-aaed-0d3ca4be116b",
   "metadata": {},
   "outputs": [],
   "source": [
    "y_pred = y_train.mean()\n",
    "y_preds = [y_pred] * len(y_test)\n",
    "print('BASELINE')\n",
    "model_scores(y_test, y_preds)"
   ]
  },
  {
   "cell_type": "code",
   "execution_count": null,
   "id": "43c9fb76-de63-4a33-b3ba-daa30e5cc95b",
   "metadata": {},
   "outputs": [],
   "source": [
    "list(zip(X_test.columns,lr.coef_))"
   ]
  },
  {
   "cell_type": "code",
   "execution_count": null,
   "id": "2ab6e9b6-d904-45aa-bc00-4c4f66ac0845",
   "metadata": {},
   "outputs": [],
   "source": [
    "chicago_train = chicago_10[chicago_10['year'] < 2016]\n",
    "chicago_test = pd.concat([chicago_10[chicago_10['year'] == 2017], chicago_10[chicago_10['year'] == 2018]], ignore_index=False)\n",
    "\n",
    "results = {}\n",
    "best_chicago = {}\n",
    "\n",
    "for i in range(len(cols)):\n",
    "    for combo in itertools.combinations(cols, i):\n",
    "        drop_cols = list(combo)\n",
    "        drop_cols.append('time_seconds')\n",
    "        drop_cols.append('clear')\n",
    "\n",
    "        X_train = chicago_train.drop(columns=drop_cols)\n",
    "        y_train = chicago_train['time_seconds']\n",
    "\n",
    "        X_test = chicago_test.drop(columns=drop_cols)\n",
    "        y_test = chicago_test['time_seconds']\n",
    "\n",
    "        lr = LinearRegression()\n",
    "        lr.fit(X_train, y_train)\n",
    "\n",
    "        preds = lr.predict(X_test)\n",
    "        results[mean_squared_error(y_test, preds, squared=False)] = drop_cols\n",
    "\n",
    "    best_chicago[min(results.keys())] = results[min(results.keys())]"
   ]
  },
  {
   "cell_type": "code",
   "execution_count": null,
   "id": "cc698a8d-c678-4901-af31-80782d2ed68e",
   "metadata": {},
   "outputs": [],
   "source": [
    "list(zip(X_test.columns,lr.coef_))"
   ]
  },
  {
   "cell_type": "code",
   "execution_count": null,
   "id": "1455be27-4471-4380-94c5-1ec9072b0812",
   "metadata": {},
   "outputs": [],
   "source": [
    "nyc_train = nyc_10[nyc_10['year'] < 2016]\n",
    "nyc_test = pd.concat([nyc_10[nyc_10['year'] == 2017], nyc_10[nyc_10['year'] == 2018]], ignore_index=False)\n",
    "\n",
    "\n",
    "results = {}\n",
    "best_nyc = {}\n",
    "\n",
    "for i in range(len(cols)):\n",
    "    for combo in itertools.combinations(cols, i):\n",
    "        drop_cols = list(combo)\n",
    "        drop_cols.append('time_seconds')\n",
    "        drop_cols.append('clear')\n",
    "        \n",
    "        X_train = nyc_train.drop(columns=drop_cols)\n",
    "        y_train = nyc_train['time_seconds']\n",
    "\n",
    "        X_test = nyc_test.drop(columns=drop_cols)\n",
    "        y_test = nyc_test['time_seconds']\n",
    "\n",
    "        lr = LinearRegression()\n",
    "        lr.fit(X_train, y_train)\n",
    "\n",
    "        preds = lr.predict(X_test)\n",
    "        results[mean_squared_error(y_test, preds, squared=False)] = drop_cols\n",
    "\n",
    "    best_nyc[min(results.keys())] = results[min(results.keys())]"
   ]
  },
  {
   "cell_type": "code",
   "execution_count": null,
   "id": "8a9e3a87-0f6e-41b1-ba0f-b7805d580d4a",
   "metadata": {},
   "outputs": [],
   "source": [
    "y_pred = y_train.mean()\n",
    "y_preds = [y_pred] * len(y_test)\n",
    "print('BASELINE')\n",
    "model_scores(y_test, y_preds)"
   ]
  },
  {
   "cell_type": "code",
   "execution_count": null,
   "id": "a611b445-497e-44b2-b58a-03bf03a0a120",
   "metadata": {},
   "outputs": [],
   "source": [
    "list(zip(X_test.columns,lr.coef_))"
   ]
  },
  {
   "cell_type": "code",
   "execution_count": null,
   "id": "f5f19869-36fd-45e6-81c1-62b251e697cc",
   "metadata": {},
   "outputs": [],
   "source": [
    "berlin_train = berlin_10[berlin_10['year'] < 2016]\n",
    "berlin_test = pd.concat([berlin_10[berlin_10['year'] == 2017], berlin_10[berlin_10['year'] == 2018]], ignore_index=False)\n",
    "\n",
    "results = {}\n",
    "best_berlin = {}\n",
    "\n",
    "for i in range(len(cols)):\n",
    "    for combo in itertools.combinations(cols, i):\n",
    "        drop_cols = list(combo)\n",
    "        drop_cols.append('time_seconds')\n",
    "        drop_cols.append('clear')\n",
    "        \n",
    "        X_train = berlin_train.drop(columns=drop_cols)\n",
    "        y_train = berlin_train['time_seconds']\n",
    "\n",
    "        X_test = berlin_test.drop(columns=drop_cols)\n",
    "        y_test = berlin_test['time_seconds']\n",
    "\n",
    "        lr = LinearRegression()\n",
    "        lr.fit(X_train, y_train)\n",
    "\n",
    "        preds = lr.predict(X_test)\n",
    "        results[mean_squared_error(y_test, preds, squared=False)] = drop_cols\n",
    "\n",
    "    best_berlin[min(results.keys())] = results[min(results.keys())]"
   ]
  },
  {
   "cell_type": "code",
   "execution_count": null,
   "id": "43c1392c-06ae-4520-8e11-37c612300491",
   "metadata": {},
   "outputs": [],
   "source": [
    "y_pred = y_train.mean()\n",
    "y_preds = [y_pred] * len(y_test)\n",
    "print('BASELINE')\n",
    "model_scores(y_test, y_preds)"
   ]
  },
  {
   "cell_type": "code",
   "execution_count": null,
   "id": "4d06f3cd-0ece-47f1-b494-f0dd31048c27",
   "metadata": {},
   "outputs": [],
   "source": [
    "list(zip(X_test.columns,lr.coef_))"
   ]
  },
  {
   "cell_type": "code",
   "execution_count": null,
   "id": "f1a2f29f-c893-43d7-860b-b5c97c555969",
   "metadata": {},
   "outputs": [],
   "source": [
    "boston_train = boston_10[boston_10['year'] < 2016]\n",
    "boston_test = pd.concat([boston_10[boston_10['year'] == 2017], boston_10[boston_10['year'] == 2018]], ignore_index=False)\n",
    "\n",
    "results = {}\n",
    "best_boston = {}\n",
    "\n",
    "for i in range(len(cols)):\n",
    "    for combo in itertools.combinations(cols, i):\n",
    "        drop_cols = list(combo)\n",
    "        drop_cols.append('time_seconds')\n",
    "        drop_cols.append('clear')\n",
    "\n",
    "        X_train = boston_train.drop(columns=drop_cols)\n",
    "        y_train = boston_train['time_seconds']\n",
    "\n",
    "        X_test = boston_test.drop(columns=drop_cols)\n",
    "        y_test = boston_test['time_seconds']\n",
    "\n",
    "        lr = LinearRegression()\n",
    "        lr.fit(X_train, y_train)\n",
    "\n",
    "        preds = lr.predict(X_test)\n",
    "        results[mean_squared_error(y_test, preds, squared=False)] = drop_cols\n",
    "\n",
    "    best_boston[min(results.keys())] = results[min(results.keys())]"
   ]
  },
  {
   "cell_type": "code",
   "execution_count": null,
   "id": "02deced8-ca91-4fc8-8c9e-ff456b516935",
   "metadata": {},
   "outputs": [],
   "source": [
    "y_pred = y_train.mean()\n",
    "y_preds = [y_pred] * len(y_test)\n",
    "print('BASELINE')\n",
    "model_scores(y_test, y_preds)"
   ]
  },
  {
   "cell_type": "code",
   "execution_count": null,
   "id": "0d4d65a9-5e3d-45f6-9ab4-6c410139d6b5",
   "metadata": {},
   "outputs": [],
   "source": [
    "list(zip(X_test.columns,lr.coef_))"
   ]
  },
  {
   "cell_type": "markdown",
   "id": "35250df0-f901-45dd-8492-590ba5261ae8",
   "metadata": {
    "jp-MarkdownHeadingCollapsed": true,
    "tags": []
   },
   "source": [
    "### All Combined"
   ]
  },
  {
   "cell_type": "code",
   "execution_count": null,
   "id": "0c39d4f5-a403-4175-8be7-3ef4750340e7",
   "metadata": {},
   "outputs": [],
   "source": [
    "combined = pd.concat([london_10, nyc_10, boston_10, berlin_10, chicago_10], ignore_index=True)\n",
    "\n",
    "combined_train = combined[combined['year'] < 2016]\n",
    "combined_test = pd.concat([combined[combined['year'] == 2017], combined[combined['year'] == 2018]], ignore_index=False)\n",
    "\n",
    "results = {}\n",
    "best_combined = {}\n",
    "\n",
    "for i in range(len(cols)):\n",
    "    for combo in itertools.combinations(cols, i):\n",
    "        drop_cols = list(combo)\n",
    "        drop_cols.append('time_seconds')\n",
    "        drop_cols.append('clear')\n",
    "\n",
    "        X_train = combined_train.drop(columns=drop_cols)\n",
    "        y_train = combined_train['time_seconds']\n",
    "\n",
    "        X_test = combined_test.drop(columns=drop_cols)\n",
    "        y_test = combined_test['time_seconds']\n",
    "\n",
    "        lr = LinearRegression()\n",
    "        lr.fit(X_train, y_train)\n",
    "\n",
    "        preds = lr.predict(X_test)\n",
    "\n",
    "        results[mean_squared_error(y_test, preds, squared=False)] = drop_cols\n",
    "\n",
    "    best_combined[min(results.keys())] = results[min(results.keys())]"
   ]
  },
  {
   "cell_type": "code",
   "execution_count": null,
   "id": "5c4035c8-59a9-40c5-9d77-bd3fb2fb2536",
   "metadata": {},
   "outputs": [],
   "source": [
    "best_combined[min(best_combined.keys())]"
   ]
  },
  {
   "cell_type": "code",
   "execution_count": null,
   "id": "bf0887f3-90d0-46d7-bbdb-1c9c61f83897",
   "metadata": {},
   "outputs": [],
   "source": [
    "y_pred = y_train.mean()\n",
    "y_preds = [y_pred] * len(y_test)\n",
    "print('BASELINE')\n",
    "model_scores(y_test, y_preds)"
   ]
  },
  {
   "cell_type": "code",
   "execution_count": null,
   "id": "b024fbed-2a3d-466b-9f0d-19ef2f9412fb",
   "metadata": {},
   "outputs": [],
   "source": [
    "list(zip(X_test.columns,lr.coef_))"
   ]
  },
  {
   "cell_type": "code",
   "execution_count": null,
   "id": "937a2e5d-4084-4392-871f-250b19ba0db0",
   "metadata": {},
   "outputs": [],
   "source": [
    "print((min(best_london.keys()) - 1321.565) / 1321.565)\n",
    "print((min(best_chicago.keys()) - 1288.553) / 1288.553)\n",
    "print((min(best_nyc.keys()) - 1169.176) / 1169.176)\n",
    "print((min(best_berlin.keys()) - 1113.897) / 1113.897)\n",
    "print((min(best_boston.keys()) - 1057.574) / 1057.574)\n",
    "print((min(best_combined.keys()) - 1207.927) / 1207.927)"
   ]
  },
  {
   "cell_type": "code",
   "execution_count": null,
   "id": "ef43a266-ef88-4913-adc6-8a7218b42435",
   "metadata": {},
   "outputs": [],
   "source": [
    "print(best_london[min(best_london.keys())][:-2])\n",
    "print(best_chicago[min(best_chicago.keys())][:-2])\n",
    "print(best_nyc[min(best_nyc.keys())][:-2])\n",
    "print(best_berlin[min(best_berlin.keys())][:-2])\n",
    "print(best_boston[min(best_boston.keys())][:-2])\n",
    "print(best_combined[min(best_combined.keys())][:-2])"
   ]
  },
  {
   "cell_type": "markdown",
   "id": "de58a36e-3773-46b3-9c06-d066554c98a3",
   "metadata": {
    "tags": []
   },
   "source": [
    "## Model on 20-80"
   ]
  },
  {
   "cell_type": "code",
   "execution_count": null,
   "id": "793e502f-1f5c-424e-baf8-7fc3808b0b63",
   "metadata": {},
   "outputs": [],
   "source": [
    "london = pd.read_csv('./data/London_Data/Clean/Clean_London_Results_Weather.csv')\n",
    "nyc = pd.read_csv('./data/NYC_Data/Clean/Clean_NYC_Results_Weather.csv')\n",
    "boston = pd.read_csv('./data/Boston_Data/Clean/Clean_Boston_Results_Weather.csv')\n",
    "berlin = pd.read_csv('./data/Berlin_Data/Clean/Clean_Berlin_Results_Weather.csv')\n",
    "chicago = pd.read_csv('./data/Chicago_Data/Clean/Clean_Chicago_Results_Weather.csv')\n",
    "\n",
    "london_dict = prep(london)\n",
    "nyc_dict = prep(nyc)\n",
    "boston_dict = prep(boston)\n",
    "berlin_dict = prep(berlin)\n",
    "chicago_dict = prep(chicago)\n",
    "\n",
    "\n",
    "\n",
    "lo_20_80 = n_range(usable(london_dict, 9_900), .2, .8)\n",
    "ny_20_80 = n_range(usable(nyc_dict, 9_900), .2, .8)\n",
    "bo_20_80 = n_range(usable(boston_dict, 9_900), .2, .8)\n",
    "be_20_80 = n_range(usable(berlin_dict, 9_900), .2, .8)\n",
    "ch_20_80 = n_range(usable(chicago_dict, 9_900), .2, .8)\n",
    "\n",
    "aggregate = {col: 'mean' for col in lo_20_80.drop(columns=['year'])}\n",
    "\n",
    "lo_20_80 = lo_20_80.groupby(['year', 'age', 'male']).agg(aggregate)\n",
    "ny_20_80 = ny_20_80.groupby(['year', 'age', 'male']).agg(aggregate)\n",
    "bo_20_80 = bo_20_80.groupby(['year', 'age', 'male']).agg(aggregate)\n",
    "be_20_80 = be_20_80.groupby(['year', 'age', 'male']).agg(aggregate)\n",
    "ch_20_80 = ch_20_80.groupby(['year', 'age', 'male']).agg(aggregate)\n",
    "\n",
    "\n",
    "events = [bo_20_80, be_20_80, ch_20_80, lo_20_80, ny_20_80]\n",
    "count = 0\n",
    "for event in events:\n",
    "    event['event'] = count\n",
    "    count += 1\n",
    "\n",
    "combined_20_80 = pd.concat([lo_20_80, ny_20_80, bo_20_80, be_20_80, ch_20_80])"
   ]
  },
  {
   "cell_type": "code",
   "execution_count": null,
   "id": "c35ce23a-7eb1-45ee-86e6-c7951145d869",
   "metadata": {},
   "outputs": [],
   "source": [
    "# https://stackoverflow.com/questions/25224545/filtering-multiple-items-in-a-multi-index-python-panda-dataframe\n",
    "train = lo_20_80[lo_20_80.index.isin(range(2017), level=0)]\n",
    "test = lo_20_80[lo_20_80.index.isin([2017, 2018], level=0)]\n",
    "\n",
    "X_train = train.drop(columns = ['time_seconds'])\n",
    "X_test = test.drop(columns = ['time_seconds'])\n",
    "\n",
    "y_train = train['time_seconds']\n",
    "y_test = test['time_seconds']\n",
    "\n",
    "lr = LinearRegression()\n",
    "lr.fit(X_train, y_train)\n",
    "model_scores(X_test, y_test, lr)"
   ]
  },
  {
   "cell_type": "code",
   "execution_count": null,
   "id": "ef8e7c97-3c0f-42ea-af08-fd6373915311",
   "metadata": {},
   "outputs": [],
   "source": [
    "pd.DataFrame(list(zip(X_test.columns,lr.coef_)))"
   ]
  },
  {
   "cell_type": "code",
   "execution_count": null,
   "id": "e3b7e024-eb3f-4bc7-9505-f784408d50f7",
   "metadata": {},
   "outputs": [],
   "source": [
    "train = ny_20_80[ny_20_80.index.isin(range(2017), level=0)]\n",
    "test = ny_20_80[ny_20_80.index.isin([2017, 2018], level=0)]\n",
    "\n",
    "X_train = train.drop(columns = ['time_seconds'])\n",
    "X_test = test.drop(columns = ['time_seconds'])\n",
    "\n",
    "y_train = train['time_seconds']\n",
    "y_test = test['time_seconds']\n",
    "\n",
    "lr = LinearRegression()\n",
    "lr.fit(X_train, y_train)\n",
    "model_scores(X_test, y_test, lr)"
   ]
  },
  {
   "cell_type": "code",
   "execution_count": null,
   "id": "68783fc0-6049-4a10-b7ef-596bdcae925f",
   "metadata": {},
   "outputs": [],
   "source": [
    "pd.DataFrame(list(zip(X_test.columns,lr.coef_)))"
   ]
  },
  {
   "cell_type": "code",
   "execution_count": null,
   "id": "ef2b8962-ae88-4e11-8ccf-0f6ce51ca724",
   "metadata": {},
   "outputs": [],
   "source": [
    "train = be_20_80[be_20_80.index.isin(range(2017), level=0)]\n",
    "test = be_20_80[be_20_80.index.isin([2017, 2018], level=0)]\n",
    "\n",
    "X_train = train.drop(columns = ['time_seconds'])\n",
    "X_test = test.drop(columns = ['time_seconds'])\n",
    "\n",
    "y_train = train['time_seconds']\n",
    "y_test = test['time_seconds']\n",
    "\n",
    "lr = LinearRegression()\n",
    "lr.fit(X_train, y_train)\n",
    "model_scores(X_test, y_test, lr)"
   ]
  },
  {
   "cell_type": "code",
   "execution_count": null,
   "id": "a7b1e1ec-787d-4572-8743-c86d00be4e69",
   "metadata": {},
   "outputs": [],
   "source": [
    "pd.DataFrame(list(zip(X_test.columns,lr.coef_)))"
   ]
  },
  {
   "cell_type": "code",
   "execution_count": null,
   "id": "04cc0a81-5e74-4a01-aaae-264b8c50ab7d",
   "metadata": {},
   "outputs": [],
   "source": [
    "train = bo_20_80[bo_20_80.index.isin(range(2017), level=0)]\n",
    "test = bo_20_80[bo_20_80.index.isin([2017, 2018], level=0)]\n",
    "\n",
    "X_train = train.drop(columns = ['time_seconds'])\n",
    "X_test = test.drop(columns = ['time_seconds'])\n",
    "\n",
    "y_train = train['time_seconds']\n",
    "y_test = test['time_seconds']\n",
    "\n",
    "lr = LinearRegression()\n",
    "lr.fit(X_train, y_train)\n",
    "model_scores(X_test, y_test, lr)"
   ]
  },
  {
   "cell_type": "code",
   "execution_count": null,
   "id": "b9a6915a-2ebb-40c5-a368-2ebbc0112d23",
   "metadata": {},
   "outputs": [],
   "source": [
    "y_test"
   ]
  },
  {
   "cell_type": "code",
   "execution_count": null,
   "id": "bd5a8c0b-0903-4b5b-9924-e931f1066a5e",
   "metadata": {},
   "outputs": [],
   "source": [
    "pd.DataFrame(list(zip(X_test.columns,lr.coef_)))"
   ]
  },
  {
   "cell_type": "code",
   "execution_count": null,
   "id": "4089de0f-358b-4537-b4db-ebe7e6fb354f",
   "metadata": {},
   "outputs": [],
   "source": [
    "bo_20_80"
   ]
  },
  {
   "cell_type": "code",
   "execution_count": null,
   "id": "37169648-3f97-4c91-bc07-5e7fcf1c2325",
   "metadata": {},
   "outputs": [],
   "source": [
    "train = ch_20_80[ch_20_80.index.isin(range(2017), level=0)]\n",
    "test = ch_20_80[ch_20_80.index.isin([2017, 2018], level=0)]\n",
    "\n",
    "X_train = train.drop(columns = ['time_seconds'])\n",
    "X_test = test.drop(columns = ['time_seconds'])\n",
    "\n",
    "y_train = train['time_seconds']\n",
    "y_test = test['time_seconds']\n",
    "\n",
    "lr = LinearRegression()\n",
    "lr.fit(X_train, y_train)\n",
    "model_scores(X_test, y_test, lr)"
   ]
  },
  {
   "cell_type": "code",
   "execution_count": null,
   "id": "91131fbf-3f2d-4119-b612-23e747e5a7bf",
   "metadata": {},
   "outputs": [],
   "source": [
    "pd.DataFrame(list(zip(X_test.columns,lr.coef_)))"
   ]
  },
  {
   "cell_type": "code",
   "execution_count": null,
   "id": "9cf74544-06a1-47b8-b4fb-34a8e5300b7f",
   "metadata": {},
   "outputs": [],
   "source": [
    "train = combined_20_80[combined_20_80.index.isin(range(2016), level=0)]\n",
    "test = combined_20_80[combined_20_80.index.isin([2017, 2018], level=0)]\n",
    "\n",
    "X_train = train.drop(columns = ['time_seconds'])\n",
    "X_test = test.drop(columns = ['time_seconds'])\n",
    "\n",
    "y_train = train['time_seconds']\n",
    "y_test = test['time_seconds']\n",
    "\n",
    "lr = LinearRegression()\n",
    "lr.fit(X_train, y_train)\n",
    "model_scores(X_test, y_test, lr)"
   ]
  },
  {
   "cell_type": "code",
   "execution_count": null,
   "id": "4233c44c-7b16-403e-8fa7-1a0b8d575b79",
   "metadata": {},
   "outputs": [],
   "source": [
    "pd.DataFrame(list(zip(X_test.columns,lr.coef_)))"
   ]
  },
  {
   "cell_type": "code",
   "execution_count": null,
   "id": "93e09c28-d7b2-4691-a96c-fb2088673216",
   "metadata": {},
   "outputs": [],
   "source": [
    "london = pd.read_csv('./data/London_Data/Clean/Clean_London_Results_Weather.csv')\n",
    "nyc = pd.read_csv('./data/NYC_Data/Clean/Clean_NYC_Results_Weather.csv')\n",
    "boston = pd.read_csv('./data/Boston_Data/Clean/Clean_Boston_Results_Weather.csv')\n",
    "berlin = pd.read_csv('./data/Berlin_Data/Clean/Clean_Berlin_Results_Weather.csv')\n",
    "chicago = pd.read_csv('./data/Chicago_Data/Clean/Clean_Chicago_Results_Weather.csv')\n",
    "\n",
    "london_dict = prep(london)\n",
    "nyc_dict = prep(nyc)\n",
    "boston_dict = prep(boston)\n",
    "berlin_dict = prep(berlin)\n",
    "chicago_dict = prep(chicago)\n",
    "\n",
    "\n",
    "\n",
    "lo_20_80 = n_range(usable(london_dict, 9_900), .2, .8)\n",
    "ny_20_80 = n_range(usable(nyc_dict, 9_900), .2, .8)\n",
    "bo_20_80 = n_range(usable(boston_dict, 9_900), .2, .8)\n",
    "be_20_80 = n_range(usable(berlin_dict, 9_900), .2, .8)\n",
    "ch_20_80 = n_range(usable(chicago_dict, 9_900), .2, .8)\n",
    "\n",
    "aggregate = {col: 'mean' for col in lo_20_80.drop(columns=['year'])}\n",
    "\n",
    "lo_20_80 = lo_20_80.groupby(['year', 'age', 'male']).agg(aggregate)\n",
    "ny_20_80 = ny_20_80.groupby(['year', 'age', 'male']).agg(aggregate)\n",
    "bo_20_80 = bo_20_80.groupby(['year', 'age', 'male']).agg(aggregate)\n",
    "be_20_80 = be_20_80.groupby(['year', 'age', 'male']).agg(aggregate)\n",
    "ch_20_80 = ch_20_80.groupby(['year', 'age', 'male']).agg(aggregate)\n",
    "\n",
    "\n",
    "events = [bo_20_80, be_20_80, ch_20_80, lo_20_80, ny_20_80]\n",
    "count = 0\n",
    "for event in events:\n",
    "    event['event'] = count\n",
    "    count += 1\n",
    "\n",
    "combined_20_80 = pd.concat([lo_20_80, ny_20_80, bo_20_80, be_20_80, ch_20_80])"
   ]
  },
  {
   "cell_type": "code",
   "execution_count": null,
   "id": "81685b54-3a5e-4e6b-bb8e-a786511717eb",
   "metadata": {},
   "outputs": [],
   "source": [
    "# https://stackoverflow.com/questions/25224545/filtering-multiple-items-in-a-multi-index-python-panda-dataframe\n",
    "train = lo_20_80[lo_20_80.index.isin(range(2017), level=0)]\n",
    "test = lo_20_80[lo_20_80.index.isin([2017, 2018], level=0)]\n",
    "\n",
    "X_train = train.drop(columns = ['time_seconds', 'clear'])\n",
    "X_test = test.drop(columns = ['time_seconds', 'clear'])\n",
    "\n",
    "y_train = train['time_seconds']\n",
    "y_test = test['time_seconds']\n",
    "\n",
    "lr = LinearRegression()\n",
    "lr.fit(X_train, y_train)\n",
    "model_scores(X_test, y_test, lr)"
   ]
  },
  {
   "cell_type": "code",
   "execution_count": null,
   "id": "4fd8fe33-b8ee-443d-80ca-1eea2ff2418a",
   "metadata": {},
   "outputs": [],
   "source": [
    "pd.DataFrame(list(zip(X_test.columns,lr.coef_)))"
   ]
  },
  {
   "cell_type": "code",
   "execution_count": null,
   "id": "27e02c75-0278-4e10-9a21-7ae18ef55bb4",
   "metadata": {},
   "outputs": [],
   "source": [
    "train = ny_20_80[ny_20_80.index.isin(range(2017), level=0)]\n",
    "test = ny_20_80[ny_20_80.index.isin([2017, 2018], level=0)]\n",
    "\n",
    "X_train = train.drop(columns = ['time_seconds', 'clear'])\n",
    "X_test = test.drop(columns = ['time_seconds', 'clear'])\n",
    "\n",
    "y_train = train['time_seconds']\n",
    "y_test = test['time_seconds']\n",
    "\n",
    "lr = LinearRegression()\n",
    "lr.fit(X_train, y_train)\n",
    "model_scores(X_test, y_test, lr)"
   ]
  },
  {
   "cell_type": "code",
   "execution_count": null,
   "id": "24547084-d2a4-4fc9-a26b-b6038bdf8ea6",
   "metadata": {},
   "outputs": [],
   "source": [
    "pd.DataFrame(list(zip(X_test.columns,lr.coef_)))"
   ]
  },
  {
   "cell_type": "code",
   "execution_count": null,
   "id": "dec7107a-94b7-4841-b2be-b83180bed03f",
   "metadata": {},
   "outputs": [],
   "source": [
    "train = be_20_80[be_20_80.index.isin(range(2017), level=0)]\n",
    "test = be_20_80[be_20_80.index.isin([2017, 2018], level=0)]\n",
    "\n",
    "X_train = train.drop(columns = ['time_seconds', 'clear'])\n",
    "X_test = test.drop(columns = ['time_seconds', 'clear'])\n",
    "\n",
    "y_train = train['time_seconds']\n",
    "y_test = test['time_seconds']\n",
    "\n",
    "lr = LinearRegression()\n",
    "lr.fit(X_train, y_train)\n",
    "model_scores(X_test, y_test, lr)"
   ]
  },
  {
   "cell_type": "code",
   "execution_count": null,
   "id": "802a09e4-3df9-487a-9428-ae6106eaa0fa",
   "metadata": {},
   "outputs": [],
   "source": [
    "pd.DataFrame(list(zip(X_test.columns,lr.coef_)))"
   ]
  },
  {
   "cell_type": "code",
   "execution_count": null,
   "id": "f4e9558c-077f-4231-b3e7-4242af680723",
   "metadata": {},
   "outputs": [],
   "source": [
    "train = bo_20_80[bo_20_80.index.isin(range(2017), level=0)]\n",
    "test = bo_20_80[bo_20_80.index.isin([2017, 2018], level=0)]\n",
    "\n",
    "X_train = train.drop(columns = ['time_seconds', 'clear'])\n",
    "X_test = test.drop(columns = ['time_seconds', 'clear'])\n",
    "\n",
    "y_train = train['time_seconds']\n",
    "y_test = test['time_seconds']\n",
    "\n",
    "lr = LinearRegression()\n",
    "lr.fit(X_train, y_train)\n",
    "model_scores(X_test, y_test, lr)"
   ]
  },
  {
   "cell_type": "code",
   "execution_count": null,
   "id": "f40f4e49-cdd6-4b4b-918f-13cfd30c1429",
   "metadata": {},
   "outputs": [],
   "source": [
    "pd.DataFrame(list(zip(X_test.columns,lr.coef_)))"
   ]
  },
  {
   "cell_type": "code",
   "execution_count": null,
   "id": "d49b8cfb-2ac0-4f40-9a0c-a07941a41d9e",
   "metadata": {},
   "outputs": [],
   "source": [
    "train = ch_20_80[ch_20_80.index.isin(range(2017), level=0)]\n",
    "test = ch_20_80[ch_20_80.index.isin([2017, 2018], level=0)]\n",
    "\n",
    "X_train = train.drop(columns = ['time_seconds', 'clear'])\n",
    "X_test = test.drop(columns = ['time_seconds', 'clear'])\n",
    "\n",
    "y_train = train['time_seconds']\n",
    "y_test = test['time_seconds']\n",
    "\n",
    "lr = LinearRegression()\n",
    "lr.fit(X_train, y_train)\n",
    "model_scores(X_test, y_test, lr)"
   ]
  },
  {
   "cell_type": "code",
   "execution_count": null,
   "id": "52e9ebf4-8208-49ee-a00d-0b174efc1151",
   "metadata": {},
   "outputs": [],
   "source": [
    "pd.DataFrame(list(zip(X_test.columns,lr.coef_)))"
   ]
  },
  {
   "cell_type": "code",
   "execution_count": null,
   "id": "dfbfcfc9-17d3-4642-9648-77254723d8d8",
   "metadata": {},
   "outputs": [],
   "source": [
    "train = combined_20_80[combined_20_80.index.isin(range(2017), level=0)]\n",
    "test = combined_20_80[combined_20_80.index.isin([2017, 2018], level=0)]\n",
    "\n",
    "X_train = train.drop(columns = ['time_seconds', 'clear'])\n",
    "X_test = test.drop(columns = ['time_seconds', 'clear'])\n",
    "\n",
    "y_train = train['time_seconds']\n",
    "y_test = test['time_seconds']\n",
    "\n",
    "lr = LinearRegression()\n",
    "lr.fit(X_train, y_train)\n",
    "model_scores(X_test, y_test, lr)"
   ]
  },
  {
   "cell_type": "code",
   "execution_count": null,
   "id": "12fa2973-abf5-489a-b676-9063b740ed5e",
   "metadata": {},
   "outputs": [],
   "source": [
    "pd.DataFrame(list(zip(X_test.columns,lr.coef_)))"
   ]
  },
  {
   "cell_type": "code",
   "execution_count": null,
   "id": "8ffbd676-7d07-4aae-9d6c-4a95beebb941",
   "metadata": {},
   "outputs": [],
   "source": [
    "combined_20_80"
   ]
  }
 ],
 "metadata": {
  "kernelspec": {
   "display_name": "Python 3 (ipykernel)",
   "language": "python",
   "name": "python3"
  },
  "language_info": {
   "codemirror_mode": {
    "name": "ipython",
    "version": 3
   },
   "file_extension": ".py",
   "mimetype": "text/x-python",
   "name": "python",
   "nbconvert_exporter": "python",
   "pygments_lexer": "ipython3",
   "version": "3.9.7"
  }
 },
 "nbformat": 4,
 "nbformat_minor": 5
}
