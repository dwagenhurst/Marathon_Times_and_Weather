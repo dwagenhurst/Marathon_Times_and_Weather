{
 "cells": [
  {
   "cell_type": "markdown",
   "id": "b5021866-945b-4409-b3a8-763b503408d4",
   "metadata": {},
   "source": [
    "**Selected Proposal:**\n",
    "\n",
    "Evaluate the effects of weather conditions on the completion time of marathon participants"
   ]
  },
  {
   "cell_type": "markdown",
   "id": "903f385a-b94e-47b2-b2bd-bf1e17b69d95",
   "metadata": {},
   "source": [
    "**Problem Statement:**\n",
    "\n",
    "I will build a regression model to predict how changes in temperature, precipitation, humidity, and cloud cover effect how long it takes participants to complete a marathon. Model performace will be determined by RMSE.\n"
   ]
  },
  {
   "cell_type": "markdown",
   "id": "05894c38-2454-4f9c-8b78-8f78ef13e2a8",
   "metadata": {},
   "source": [
    "# EDA\n"
   ]
  },
  {
   "cell_type": "code",
   "execution_count": 2,
   "id": "66dfd9a9-8c18-44b0-b8f4-d4617942524c",
   "metadata": {},
   "outputs": [],
   "source": [
    "import os\n",
    "import numpy as np\n",
    "import pandas as pd"
   ]
  }
 ],
 "metadata": {
  "kernelspec": {
   "display_name": "Python 3 (ipykernel)",
   "language": "python",
   "name": "python3"
  },
  "language_info": {
   "codemirror_mode": {
    "name": "ipython",
    "version": 3
   },
   "file_extension": ".py",
   "mimetype": "text/x-python",
   "name": "python",
   "nbconvert_exporter": "python",
   "pygments_lexer": "ipython3",
   "version": "3.9.7"
  }
 },
 "nbformat": 4,
 "nbformat_minor": 5
}
